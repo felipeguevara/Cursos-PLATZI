{
 "cells": [
  {
   "cell_type": "code",
   "execution_count": 21,
   "metadata": {},
   "outputs": [],
   "source": [
    "import math\n",
    "    #Numeric Python\n",
    "import numpy as np\n",
    "    #Pandas (dataframes)\n",
    "import pandas as pd\n",
    "    #datetime for fate manipulation\n",
    "from datetime import date, datetime, timedelta  \n",
    "    #Regex for advanced string matching\n",
    "import re\n",
    "    #for time related stuff\n",
    "import time\n",
    "    #json library\n",
    "import json\n",
    "    #Analyst tools\n",
    "import sys\n",
    "sys.path.append('~')\n",
    "from analysts_tools.growth import *\n",
    "    #Procurement tools\n",
    "from analystcommunity.read_connection_data_warehouse import run_read_dwd_query\n",
    "from analysts_tools.redash_methods import *\n",
    "from procurement_lib import redash, send_slack_notification, GoogleSheet\n",
    "\n",
    "import random\n",
    "import time\n",
    "import datetime"
   ]
  },
  {
   "cell_type": "code",
   "execution_count": 22,
   "metadata": {},
   "outputs": [],
   "source": [
    "query = \"\"\"\n",
    "WITH customs AS (\n",
    "SELECT\n",
    "    s.identifier_value AS region_code,\n",
    "    COUNT(DISTINCT fs.dim_customer) AS all_customers\n",
    "\n",
    "FROM dpr_sales.fact_sales                   fs\n",
    "INNER JOIN dpr_shared.dim_site              s   ON s.site_id = fs.dim_site\n",
    "INNER JOIN dpr_shared.dim_product           dp  ON dp.product_id = fs.dim_product\n",
    "INNER JOIN dpr_shared.dim_category          cat ON cat.category_id = dp.category_id\n",
    "\n",
    "WHERE \n",
    "    fs.gmv_enabled = TRUE\n",
    "    AND fulfillment_order_status NOT IN ('CANCELLED', 'ARCHIVED','No value')\n",
    "    AND fs.fb_order_status_id IN (1,6,7,8)\n",
    "    AND cat.super_category = 'Multicategoría'\n",
    "    AND fs.is_deleted = FALSE\n",
    "    AND fs.dim_status = 1\n",
    "    AND dp.is_slot = 'false'\n",
    "    AND fs.gmv_pxq_local > 0\n",
    "    AND s.identifier_value = 'SPO'\n",
    "    AND DATE(fs.order_submitted_date) >= current_date - 60\n",
    "GROUP BY 1\n",
    ")\n",
    "\n",
    "SELECT\n",
    "    s.identifier_value AS region_code,\n",
    "    cat.parent_description AS cat,\n",
    "    cat.description AS subcat,\n",
    "    sup.source_id,\n",
    "    sup.description AS product_name,\n",
    "    100.00*COUNT(DISTINCT fs.dim_customer)/c.all_customers::FLOAT AS penetration,\n",
    "    SUM(fs.gmv_pxq)::FLOAT AS gmv_usd\n",
    "\n",
    "FROM dpr_sales.fact_sales                   fs\n",
    "INNER JOIN dpr_shared.dim_site              s   ON s.site_id = fs.dim_site\n",
    "INNER JOIN dpr_shared.dim_product           dp  ON dp.product_id = fs.dim_product\n",
    "INNER JOIN dpr_shared.dim_category          cat ON cat.category_id = dp.category_id\n",
    "INNER JOIN dpr_shared.dim_stock_unit        su  ON su.product_id = fs.dim_product\n",
    "INNER JOIN dpr_shared.dim_stock_unit        sup ON nvl(nullif(su.source_parent_id,0),su.source_id) = sup.source_id\n",
    "INNER JOIN customs                          c   ON c.region_code = s.identifier_value\n",
    "WHERE \n",
    "    fs.gmv_enabled = TRUE\n",
    "    AND fulfillment_order_status NOT IN ('CANCELLED', 'ARCHIVED','No value')\n",
    "    AND fs.fb_order_status_id IN (1,6,7,8)\n",
    "    AND cat.super_category = 'Multicategoría'\n",
    "    AND fs.is_deleted = FALSE\n",
    "    AND fs.dim_status = 1\n",
    "    AND dp.is_slot = 'false'\n",
    "    AND fs.gmv_pxq_local > 0\n",
    "    AND s.identifier_value = 'SPO'\n",
    "    AND DATE(fs.order_submitted_date) >= current_date - 60\n",
    "GROUP BY 1,2,3,4,5,c.all_customers\n",
    "\"\"\"\n",
    "\n",
    "df = run_read_dwd_query(query)"
   ]
  },
  {
   "cell_type": "code",
   "execution_count": 23,
   "metadata": {},
   "outputs": [],
   "source": [
    "from sklearn.cluster import KMeans\n",
    "import plotly.express as px"
   ]
  },
  {
   "cell_type": "code",
   "execution_count": 26,
   "metadata": {},
   "outputs": [
    {
     "name": "stderr",
     "output_type": "stream",
     "text": [
      "/opt/tljh/user/lib/python3.7/site-packages/ipykernel_launcher.py:26: SettingWithCopyWarning:\n",
      "\n",
      "\n",
      "A value is trying to be set on a copy of a slice from a DataFrame.\n",
      "Try using .loc[row_indexer,col_indexer] = value instead\n",
      "\n",
      "See the caveats in the documentation: https://pandas.pydata.org/pandas-docs/stable/user_guide/indexing.html#returning-a-view-versus-a-copy\n",
      "\n"
     ]
    }
   ],
   "source": [
    "# Excluir el SKU con source_id 384239\n",
    "df_clusters = df[df['source_id'] != 384239].copy()\n",
    "\n",
    "# Crear el modelo K-means con 4 clusters\n",
    "X = df_clusters[['gmv_usd', 'penetration']]\n",
    "kmeans = KMeans(n_clusters=4, random_state=0)\n",
    "df_clusters['Cluster'] = kmeans.fit_predict(X)\n",
    "\n",
    "# Obtener la media de gmv_usd y penetration para cada cluster\n",
    "cluster_means = df_clusters.groupby('Cluster')[['gmv_usd', 'penetration']].mean()\n",
    "\n",
    "# Ordenar los clusters de acuerdo a la media de 'gmv_usd' y 'penetration'\n",
    "cluster_order = cluster_means.sort_values(by=['gmv_usd', 'penetration'], ascending=False).index\n",
    "\n",
    "# Crear un mapeo de clusters basados en el orden de importancia\n",
    "cluster_labels = {cluster_order[0]: 'SUPER KVI', \n",
    "                  cluster_order[1]: 'KVI', \n",
    "                  cluster_order[2]: 'MID', \n",
    "                  cluster_order[3]: 'TAIL'}\n",
    "\n",
    "# Aplicar los nuevos nombres de clusters al DataFrame\n",
    "df_clusters['Cluster_Label'] = df_clusters['Cluster'].map(cluster_labels)\n",
    "\n",
    "# Reagregar el SKU con source_id 384239 y asignarlo directamente al cluster 'SUPER KVI'\n",
    "df_super_kvi = df[df['source_id'] == 384239]\n",
    "df_super_kvi['Cluster_Label'] = 'SUPER KVI'\n",
    "\n",
    "# Unir los DataFrames\n",
    "df_final = pd.concat([df_clusters, df_super_kvi], ignore_index=True)"
   ]
  },
  {
   "cell_type": "code",
   "execution_count": 27,
   "metadata": {},
   "outputs": [
    {
     "data": {
      "application/vnd.plotly.v1+json": {
       "config": {
        "plotlyServerURL": "https://plot.ly"
       },
       "data": [
        {
         "customdata": [
          [
           "Papel Toalha Kitchen 120 folhas Pacote com 2 rolos Unidade"
          ],
          [
           "Vinagre De Álcool Castelo 5L Galão 5L Venda por Galão"
          ],
          [
           "Bisteca Suína Fatiada - Frimesa Caixa de 5kg - Aprox. 33 bistecas de 150g 1 caixa (5kg)"
          ],
          [
           "Sabão em pó Triex 800g Pacote de 800g A partir de 1 unidade"
          ],
          [
           "Vinagre de Álcool Colorido Galo de Barcelos 750ml Pet de 750ml Unidade"
          ],
          [
           "Bebida Láctea Sabor Chocolate Pirakids 200ml - Piracanjuba TetraPak de 200ml Venda por TetraPak"
          ],
          [
           "Limpador Multiuso Triex 500ml Garrafa 500ml Unidade"
          ],
          [
           "Água Mineral Crystal sem gás 500ml Garrafa de 500ml A partir de 1 unidade"
          ],
          [
           "Sprite 350ml Lata de 350ml Unidade"
          ],
          [
           "Papel Higiênico Folha Tripla Mili 4 Rolos Pacote com 4 rolos Venda por Pacote"
          ],
          [
           "Água Sanitária Suprema 2L Frasco de 2L Unidade"
          ],
          [
           "Creme de Leite Leve (17%) 1.010 kg - Triângulo Mineiro Tetra Pak de 1.01kg Venda por Tetra"
          ],
          [
           "Sabão em pó Tixan Primavera Ypê 800g Caixa de 800g Venda por Caixa"
          ],
          [
           "Mortadela Defumada Gourmet 4.8Kg - SEARA Peça de 4.8Kg A partir de 1 peça"
          ],
          [
           "Bolinho de Bacalhau - Bom Peixe Caixa de 360g - Contém aprox. 20 bolinhos A partir de 2 caixas (720g)"
          ],
          [
           "Requeijão 200g - Tirolez Resfriado - Copo de 200g A partir de 2 copos"
          ],
          [
           "Farinha de Trigo Rosa Branca 1kg Embalagem de Plástico 1 kg Venda por Embalagem"
          ],
          [
           "Milho Verde Quero 170g Lata 170g A partir de 1 unidade"
          ],
          [
           "Fanta Laranja 220ml Lata de 220ml Venda por Lata"
          ],
          [
           "Molho de Tomate Heinz Tradicional 1,02kg Sachê de 1.02kg Venda por Sachê"
          ],
          [
           "Filé de Coxa e Sobrecoxa de Frango sem Osso - SEARA Congelado - Bandeja de 1kg A partir de 2 bandejas (2kg)"
          ],
          [
           "Grão de Bico Camil 500g Pacote de 500g Unidade"
          ],
          [
           "Farinha de Mandioca 500g - Hikari Pacote de 500g Venda por Pacote"
          ],
          [
           "Cerveja Eisenbahn long neck 355ml Garrafa de 355ml Unidade"
          ],
          [
           "Desinfetante Ypê Pinho 1L Frasco de 1L Venda por Frasco"
          ],
          [
           "Macarrão com Ovos Parafuso 500g - Jóia Pacote de 500g Venda por Pacote"
          ],
          [
           "Molho Para Salada Liza Sabor Limão 234ml Pet 234ml Unidade"
          ],
          [
           "Molho Barbecue Cepêra 1,01Kg Pet de 1,01Kg Unidade"
          ],
          [
           "Milho Verde Quero 1.7kg Lata de 1,7Kg A partir de 1 unidade"
          ],
          [
           "Tomates Pelados Inteiros Olé 240g Lata de 240g Venda por Lata"
          ],
          [
           "Atum em pedaços em óleo Coqueiro 480g Pouch de 480g Unidade"
          ],
          [
           "Del Valle Manga 290ml Lata de 290ml Unidade"
          ],
          [
           "Cachaça Pitú 965ml Garrafa de 965ml A partir de 12 unidades"
          ],
          [
           "Desinfetante Lavandas do Campo Triex 5L Garrafa de 5L Venda por Garrafa"
          ],
          [
           "Lentilha Kicaldo 500g Pacote de 500g A partir de 1 unidade"
          ],
          [
           "Desinfetante Flores da Primavera Triex 500ml Garrafa de 500ml Venda por Garrafa"
          ],
          [
           "Macarrão Parafuso Semola Dona Benta 500g Pacote de 500g Venda por Pacote"
          ],
          [
           "Lustra Móveis Triex Lavanda 200ml Frasco de 200ml A partir de 1 unidade"
          ],
          [
           "Bala Halls Menta 21 x 28g Pacote de 28g Venda por Pacote"
          ],
          [
           "Cebolinha Fornello Balde 2kg Balde 2Kg Unidade"
          ],
          [
           "Filtro de Café 102 3 Corações 30 Unidades Caixa com 30 unidades Venda por Caixa"
          ],
          [
           "Canjica Branca 500g - Hikari Pacote de 500g Venda por Pacote"
          ],
          [
           "Extrato de Tomate Elefante sachê 1,02kg Sachê de 1,02Kg Unidade"
          ],
          [
           "Ervilha e Milho Quero 170g Lata de 170g Unidade"
          ],
          [
           "Carne Seca Bovina de Traseiro - Mineiro Resfriado - Pacote de 5kg A partir de 1 pacote (5kg)"
          ],
          [
           "Néctar de Morango 200ml - Maguary Tetra pak de 200ml Venda por Tetra"
          ],
          [
           "Café 3 Corações Extraforte Pouch 250g Pacote de 250g Venda por Pacote"
          ],
          [
           "Tomate Triturado Pomarola 2Kg Sachê de 2Kg Venda por Sachê"
          ],
          [
           "Sassami de Frango Envelopado CX 20Kg - Lar Congelado - Caixa com 20Kg Venda por Caixa"
          ],
          [
           "Atum ralado em óleo Coqueiro 480g Pouch de 480g Unidade"
          ],
          [
           "Cerveja Original 269ml Lata de 269ml Venda por Lata"
          ],
          [
           "Farinha de Trigo Premium Rosa Branca 5kg Embalagem de Papel 5kg Venda por Embalagem"
          ],
          [
           "Álcool Gel Sulmar 70° 440g Garrafa 440g Venda por Garrafa"
          ],
          [
           "Del Valle Uva 290ml Lata de 290ml Unidade"
          ],
          [
           "Requeijão 480g - Tirolez Resfriado - Pote de 480g A partir de 2 potes"
          ],
          [
           "Arroz Branco Camil Reserva Especial 5kg Pacote de 5kg A partir de 1 unidade"
          ],
          [
           "Farinha de Milho Flocão Dona Clara 500g Pacote de 500g Venda por Pacote"
          ],
          [
           "Salsicha Hot Dog - Perdigão Congelado - Pacote de 5kg A partir de 1 pacote (5kg)"
          ],
          [
           "Feijão Fradinho Camil Food Service 2Kg Pacote de 2kg Unidade"
          ],
          [
           "Polpa de Acerola - Ricaeli Pacote de 1kg - Contém 10 unidades de 100g A partir de 1 pacote (1kg)"
          ],
          [
           "Farinha de Trigo Dona Benta 1Kg Pacote de 1kg Unidade"
          ],
          [
           "Farinha de Mandioca Crua Fina 1Kg - Pantera Pacote de 1kg Venda por Pacote"
          ],
          [
           "Carne Moída Bovina - Toda Hora Congelado - Pacote de 1kg A partir de 1 pacote (1kg)"
          ],
          [
           "Papel higiênico folha dupla Bianco leve 12 pague 11 Pacote com 12 rolos Pacote"
          ],
          [
           "Papel higiênico folha simples Sublime 8 rolos Pacote com 8 rolos Pacote"
          ],
          [
           "Presunto Fatiado - Frimesa Refrigerado - Pacote de 500g Venda por Pacote"
          ],
          [
           "Polpa de Abacaxi com Hortelã - Ricaeli Pacote de 1kg - Contém 10 unidades de 100g A partir de 1 pacote (1kg)"
          ],
          [
           "Margarina Cremosa com Sal 1kg - Qualy Pote de 1kg A partir de 2 potes"
          ],
          [
           "Linguiça Reta Defumada - Rezende Resfriado - Pacote de 2.5kg A partir de 1 pacote (2.5kg)"
          ],
          [
           "Requeijão Cremoso sabor Cheddar 1.5kg - Scala Resfriado - Bisnaga de 1.5kg A partir de 1 bisnaga"
          ],
          [
           "Detergente Triex Clear 500ml Frasco de 500ml Unidade"
          ],
          [
           "Cerveja Itaipava 269ml Lata de 269ml Venda por Lata"
          ],
          [
           "Del Valle Pêssego 290ml Lata de 290ml Unidade"
          ],
          [
           "Coração de Frango - SEARA Pacote de 1kg A partir de 2 pacotes (2kg)"
          ],
          [
           "Batata Palha Amavita 500g Pacote de 500g Venda por Pacote"
          ],
          [
           "Sal Marinho Pluma Refinado 1Kg Pacote de 1kg Venda por Pacote"
          ],
          [
           "Extrato de Tomate Olé 1,02kg Sachê de 1,02Kg Venda por Sachê"
          ],
          [
           "Chocolate Prestígio 30x33g Caixa com 30 unidades de 33g Venda por Caixa"
          ],
          [
           "Queijo de Coalho 2kg - Tirolez Resfriado - Peça de 2kg A partir de 1 peça"
          ],
          [
           "Alho Triturado Fornello Pote 1kg Pote de 1kg Unidade"
          ],
          [
           "Chiclete Trident Tutti-Frutti 21X8g Pacote de 8g Venda por Pacote"
          ],
          [
           "Sabão em pó Triex Côco 800g Pacote de 800g Venda por Pacote"
          ],
          [
           "Ketchup Sachê 144x7g - Heinz Caixa com 144 sachês de 7g Venda por Caixa"
          ],
          [
           "Café Tradicional Pouch Melitta 500g Pouch de 500g Unidade"
          ],
          [
           "Polpa de Goiaba 1kg - Agro Yoshi Pacote de 1kg Venda por Pacote"
          ],
          [
           "Chiclete Bubbaloo Morango Bag com 10 unidades Pacote de 50g Venda por Pacote"
          ],
          [
           "Extrato de Tomate Quero 1,08kg TetraPak de 1,08kg Unidade"
          ],
          [
           "Macarrão com Ovos Linguine Dona Benta 500g Pacote de 500g Unidade"
          ],
          [
           "Chocolate Galak 22x25g Caixa com 22 barras de 25g Venda por Caixa"
          ],
          [
           "Chocolate Talento Castanha-do-Pará 15x25g Caixa com 15 barras de 25g Venda por Caixa"
          ],
          [
           "Néctar Uva Tial 330ml Tetra Pak de 330ml Unidade"
          ],
          [
           "Tomates Pelados Em Cubos Olé 1,5kg Lata de 1,5kg Venda por Lata"
          ],
          [
           "Guardanapo folha simples Kitchen 50 folhas 22,7 x 22,8cm Pacote com 50 folhas Pacote"
          ],
          [
           "Grão de Bico Kicaldo 500g Pacote de 500g A partir de 1 unidade"
          ],
          [
           "Caldo De Galinha Em Pó Kisabor 1,01Kg Pacote de 1,01Kg Venda por Pacote"
          ],
          [
           "Macarrão com Ovos Espaguetinho Dona Benta 500g Pacote de 500g Unidade"
          ],
          [
           "Cachaça Velho Barreiro 910ml Garrafa de 910ml A partir de 1 unidade"
          ],
          [
           "Guardanapo folha simples Mili 21 x 22cm Pacote com 50 folhas Pacote"
          ],
          [
           "Feijão Fradinho 1Kg - Pantera Pacote de 1kg Venda por Pacote"
          ],
          [
           "Néctar Manga e Maçã Tial 330ml Tetra Pak de 330ml Unidade"
          ],
          [
           "Meio da Asa de Frango com Osso - SEARA Pacote de 1kg A partir de 2 pacotes (2kg)"
          ],
          [
           "Batata Pré-Frita Extra Crocante Surecrisp 2.5kg - McCain Congelado - Pacote de 2.5kg A partir de 1 pacote"
          ],
          [
           "Linguiça Tipo Calabresa Defumada - Frimesa Pacote de 3kg Venda por Pacote"
          ],
          [
           "Água Sanitária Suprema 1L Frasco de 1L Unidade"
          ],
          [
           "Brócolis 2kg - Agro Yoshi Pacote de 2kg Venda por Pacote"
          ],
          [
           "Margarina Cremosa 3kg - Sofiteli Balde de 3kg 1 balde"
          ],
          [
           "Detergente Ypê Limão 500ml Frasco de 500ml A partir de 1 unidade"
          ],
          [
           "Açúcar Refinado Alto Alegre 5Kg Pacote de 5kg Venda por Pacote"
          ],
          [
           "Ervilha 1.1kg - Lar Congelado - Pacote de 1.1kg A partir de 1 pacote"
          ],
          [
           "Limpeza Pesada Limpol Cloro Max 500ml Frasco de 500ml Unidade"
          ],
          [
           "Cerveja Spaten Puro Malte 350ml Lata Lata de 350ml A partir de 1 unidade"
          ],
          [
           "Steak de Frango Empanado CX - Sadia Congelado - Caixa de 4.5kg (45 Steaks de 100g) A partir de 1 caixa (45 Steaks)"
          ],
          [
           "Água Sanitária Ypê 1L Frasco de 1L Venda por Frasco"
          ],
          [
           "Macarrão com Ovos Parafuso 500g - Adria Pacote de 500g Venda por Pacote"
          ],
          [
           "Molho de Tomate Tradicional Tarantella 1,02Kg Sachê 1.02Kg Venda por Sachê"
          ],
          [
           "Extrato de Tomate Elefante 2Kg 2Kg Unidade"
          ],
          [
           "Molho Barbecue Cepêra 3,5Kg Galão de 3,5Kg Unidade"
          ],
          [
           "Café Brasileiro Extraforte Pouch 250g Pacote de 250g Venda por Pacote"
          ],
          [
           "Café Brasileiro Tradicional Pouch 250g Pacote de 250g Venda por Pacote"
          ],
          [
           "Café Solúvel Tradicional 3 Corações 40g Pacote de 40g Venda por Pacote"
          ],
          [
           "Café Brasileiro Tradicional Pouch 500g Pacote de 500g Venda por Pacote"
          ],
          [
           "Cerveja Eisenbahn 350ml Lata de 350ml Unidade"
          ],
          [
           "Macarrão Espaguete Semola Dona Benta 500g Pacote de 500g Venda por Pacote"
          ],
          [
           "Farinha De Trigo Com Fermento Dona Benta 1kg Embalagem de Plástico 1kg Venda por Embalagem"
          ],
          [
           "Apresuntado Retangular 3.6Kg - SEARA Resfriado - Peça de 3.6kg A partir de 1 peça"
          ],
          [
           "Café 3 Corações Tradicional Pouch 250g Pacote de 250g Venda por Pacote"
          ],
          [
           "Molho Inglês Cepêra 1,01L Pet de 1,01L Unidade"
          ],
          [
           "Palmito Golden Palm Recheio Flex 200g Pouch 200g A partir de 1 unidade"
          ],
          [
           "Farinha de Trigo para Pastel 5Kg - Dona Benta Pacote de 5kg Venda por Pacote"
          ],
          [
           "Maionese Predilecta Sachê 144x7g Sachês de 7g Caixa"
          ],
          [
           "Sal Grosso para Churrasco Lebre 1Kg Pacote de 1kg Venda por Pacote"
          ],
          [
           "Farinha de Trigo com Fermento Rosa Branca 1kg Embalagem de Plástico 1 kg Venda por Embalagem"
          ],
          [
           "Cream Cheese Cremoso 1.2kg - Scala Bisnaga de 1.2kg 1 bisnaga"
          ],
          [
           "Filé de Merluza - Bom Peixe Pacote de 1kg - Aprox. 11 filés A partir de 2 pacotes (2kg)"
          ],
          [
           "Hambúrguer Texas Burguer CX 2.016Kg - Seara Congelado - Caixa de 2.016Kg (Aproximadamente 36 unidades de 56g) Venda por Caixa"
          ],
          [
           "Salsicha Hot Dog Congelada - Bello Congelado - Pacote de 3kg Venda por Pacote"
          ],
          [
           "Fubá 500g - Hikari Pacote de 500g Venda por Pacote"
          ],
          [
           "Molho Para Salada Liza Sabor Rose 234ml Pet 234ml Unidade"
          ],
          [
           "Filé de Panga 500g - Se7e Mares Congelado - Pacote de 500g Venda por Pacote"
          ],
          [
           "Salsicha Hot Dog 3Kg - Estrela Congelado - Pacote de 3kg Venda por Pacote"
          ],
          [
           "Limpador Multiuso Ypê 500ml Frasco de 500ml Venda por Frasco"
          ],
          [
           "Filé de Tilápia 800g - Riviera Congelado - Pacote de 800g Venda por Pacote"
          ],
          [
           "Azeite de Oliva Extra Virgem Borges 250ml Vidro de 250ml Venda por Vidro"
          ],
          [
           "Feijão Preto 1Kg - Pantera Pacote de 1kg Venda por Pacote"
          ],
          [
           "Costela de Traseiro Bovina Refrigerada 2Kg - Friboi Refrigerado - Peso Variável Venda por Peso"
          ],
          [
           "Álcool Bactericida Sulmar 46° 1L Garrafa 1L Venda por Garrafa"
          ],
          [
           "Farinha de Rosca 500g - Hikari Pacote de 500g Venda por Pacote"
          ],
          [
           "Cerveja Império 350ml Lata de 350ml Unidade"
          ],
          [
           "Desinfetante Triex 5L Galão 5L Unidade"
          ],
          [
           "Polpa de Manga 1kg - Agro Yoshi Pacote de 1kg Venda por Pacote"
          ],
          [
           "Apresuntado Retangular 3.43kg - Rezende Resfriado - Peça de 3.43kg A partir de 1 peça"
          ],
          [
           "Alvejante Triex 2L Galão 2L Unidade"
          ],
          [
           "Álcool Bactericida Sulmar 70° 500ml Garrafa 500ml Venda por Garrafa"
          ],
          [
           "Farofa de Mandioca 400g - Hikari Pacote de 400g Venda por Pacote"
          ],
          [
           "Café Torrado em Grãos Sul Minas 3 Corações 500g Pacote de 500g Venda por Pacote"
          ],
          [
           "Ketchup Cepêra Sachê 175 X 7g Sachês de 7g Caixa"
          ],
          [
           "Pepino Fornello Balde 2kg Balde 2Kg Unidade"
          ],
          [
           "Caldo De Carne Em Pó Kisabor 1,01Kg Pacote de 1,01Kg Venda por Pacote"
          ],
          [
           "Detergente Ypê Neutro 5L Garrafa 5L Venda por Garrafa"
          ],
          [
           "Mostarda Amarela Cepêra 1,01Kg Pet de 1,01Kg Unidade"
          ],
          [
           "Sprite 220ml Lata de 220ml Venda por Lata"
          ],
          [
           "Molho de Pimenta Olé 150ml Pet de 150ml Venda por Pet"
          ],
          [
           "Energético Red Bull 250ml Lata de 250ml Venda por Lata"
          ],
          [
           "Couve-Flor 1.1kg - Lar Congelado - Pacote de 1.1kg A partir de 1 pacote"
          ],
          [
           "Macarrão com Ovos Penne Dona Benta 500g Pacote de 500g Unidade"
          ],
          [
           "Sal Marinho Marfim Refinado 1Kg Pacote de 1kg Venda por Pacote"
          ],
          [
           "Detergente Limpol Coco 500ml Frasco de 500ml Unidade"
          ],
          [
           "Sassami de Frango (Filezinho de Peito) - SEARA Bandeja de 1kg A partir de 2 bandejas (2kg)"
          ],
          [
           "Pudim de Leite condensado 120g - Doceria da Rebeka Refrigerado - Pote de 120g Venda por Pote"
          ],
          [
           "Álcool Neutro Sulmar 46° 1L Garrafa 1L Venda por Garrafa"
          ],
          [
           "Fígado de Frango - Bello Congelado - Bandeja de 450g Venda por Bandeja"
          ],
          [
           "Néctar de Maracujá 335ml - Maguary Lata de 335ml Venda por Lata"
          ],
          [
           "Linguiça Calabresa Reta 2.5Kg - Seara Pacote de 2.5kg Venda por Pacote"
          ],
          [
           "Palmito Golden Palm Salada Flex 200g Pouch 200g A partir de 1 unidade"
          ],
          [
           "Mostarda Heinz 255g Frasco de 255g Unidade"
          ],
          [
           "Chiclete Trident Hortelã 21X8g Pacote de 8g Venda por Pacote"
          ],
          [
           "Suco Tial 100% Pêssego 330ml Tetra Pak de 330ml Unidade"
          ],
          [
           "Manteiga sem Sal 5kg - Tirolez Resfriado - Bloco de 5kg A partir de 1 bloco"
          ],
          [
           "Atum ralado em óleo Coqueiro 170g Lata de 170g Unidade"
          ],
          [
           "Extrato de Tomate Olé 300g Sachê de 300g Venda por Sachê"
          ],
          [
           "Carne Seca de Dianteiro - Cambuí Pacote de 1kg 1 pacote (1kg)"
          ],
          [
           "Farinha de Milho Flocada 500g - Hikari Pacote de 500g Venda por Pacote"
          ],
          [
           "Palmito Palma D'Oro Inteiro Flex 1,10kg Pouch de 1,1kg A partir de 1 unidade"
          ],
          [
           "Contra Filé Bovino 1.5Kg - Friboi Congelado - Peça de 1.5Kg Venda por Peça"
          ],
          [
           "Suco 100% Uva 150ml - Fruit Shoot Tetra Pak de 150ml Venda por Tetra"
          ],
          [
           "Seleta de Legumes Quero Lata 170g Lata de 170g Venda por Lata"
          ],
          [
           "Ketchup Hemmer 3,8kg Galão de 3,8kg Venda por Galão"
          ],
          [
           "Vinagre De Álcool Colorido Castelo 5L Galão 5L Venda por Galão"
          ],
          [
           "Macarrão com Ovos Penne 500g - Adria Pacote de 500g Venda por Pacote"
          ],
          [
           "Esponja Bombril Multiuso  Kit com 10 esponjas Pacote"
          ],
          [
           "Chocolate Genuine ao Leite 1Kg Barra de 1Kg Venda por Barra"
          ],
          [
           "Coquetel Corote Pêssego 500ml Garrafa de 500ml A partir de 1 unidade"
          ],
          [
           "Vinagre de Vinho Tinto Galo de Barcelos 750ml Pet de 750ml Unidade"
          ],
          [
           "Farinha de Mandioca Crua Grossa 1Kg - Pantera Pacote de 1kg Venda por Pacote"
          ],
          [
           "Néctar de Melancia 1L - Maguary Tetra Pak de 1L Venda por Tetra"
          ],
          [
           "Azeite de Oliva Extra Virgem Tordesilha 3L Galão de 3L Unidade"
          ],
          [
           "Cobertura Genuine ao Leite 2,1Kg 2,1Kg Unidade"
          ],
          [
           "Cerveja Stella Artois Puro Malte 330ml Long Neck Garrafa de 330ml Unidade"
          ],
          [
           "Anéis de Cebola Empanados 1.05kg - McCain Congelado - Pacote de 1.05kg A partir de 1 pacote"
          ],
          [
           "Vinho Tinto Suave Pérgola 1L Garrafa de 1L Venda por Garrafa"
          ],
          [
           "Tomate Seco Fornello Pote 700g Pote 700g Unidade"
          ],
          [
           "Néctar Laranja e Maçã Tial 1L Tetra Pak de 1L Unidade"
          ],
          [
           "Chocolate Genuine Meio Amargo 2,1Kg 2,1Kg Unidade"
          ],
          [
           "Chocolate Suflair ao Leite 20x50g Caixa com 20 unidades de 50g Venda por Caixa"
          ],
          [
           "Molho Inglês Cepêra 150ml Pet de 150ml Venda por Pet"
          ],
          [
           "Vinagre De Vinho Tinto Castelo 750ml Pet 750ml Venda por Pet"
          ],
          [
           "Mistura Pronta para Pão Francês Anamix 25kg Saco de 25kg Venda por Saco"
          ],
          [
           "Chá Verde com Limão 335ml - Natural Tea Lata de 335ml Venda por Lata"
          ],
          [
           "Macarrão com Ovos Espaguetinho 500g - Adria Pacote de 500g Venda por Pacote"
          ],
          [
           "Vinagre Balsâmico 375ml - Galo de Barcelos Garrafa de 375ml Venda por Garrafa"
          ],
          [
           "Farinha de Trigo para Pizza Dona Benta 5kg Embalagem de Papel 5kg Venda por Embalagem"
          ],
          [
           "Whisky Black Baron 900ml Garrafa de 900ml Venda por Garrafa"
          ],
          [
           "Azeitona Azapa 130/150 Fornello Balde 2kg Balde 2Kg Unidade"
          ],
          [
           "Suco de Concentrado de Caju 500ml - Maguary Garrafa de 500ml Venda por Garrafa"
          ],
          [
           "Cerveja Corona Lata 350ml Lata de 350ml Venda por Lata"
          ],
          [
           "Carne Moida de Patinho 500g - Do Chefe Congelado - Pacote de 500g Venda por Pacote"
          ],
          [
           "Chocolate Genuine Branco 2,1Kg 2,1Kg Unidade"
          ],
          [
           "Bebida Láctea Whey 15g Coco 250ml - Piracanjuba TetraPak de 250ml Venda por TetraPak"
          ],
          [
           "Molho Original Billy Jack 200g Bisnaga de 200g Venda por Bisnaga"
          ],
          [
           "Açúcar Refinado 25Kg - Alto Alegre Pacote de 25kg Venda por Pacote"
          ],
          [
           "Chocolate Bis Xtra Oreo 24X45g Barra de 45g Venda por Barra"
          ],
          [
           "Molho Teriaki Cepêra 270ml Frasco de 270ml Venda por Frasco"
          ],
          [
           "Toalha Americana Mini Lisa Premiatta 33x23cm Pacote com 500 toalhas Pacote"
          ],
          [
           "Atum em Pedaços com Óleo 500g - Gomes da Costa Sachê de 500g Venda por Sachê"
          ],
          [
           "Atum Ralado com Óleo 500g - Gomes da Costa Sachê de 500g Venda por Sachê"
          ],
          [
           "Queijo Mussarela Pizza 4kg - Scala Peça de 4kg Venda por Peça"
          ],
          [
           "Removedor Multiuso Tradicional Suprema 500ml Frasco de 500ml Venda por Frasco"
          ],
          [
           "Farinha Panko Oriental Orquídea 200g Pacote de 200g Venda por Pacote"
          ],
          [
           "Dispenser para Papel Toalha Basic Slim Roll Kimberly-Clark Unidade Venda por Unidade"
          ],
          [
           "Chá Branco com Lichia 335ml - Natural Tea Lata de 335ml Venda por Lata"
          ],
          [
           "Mostarda D'Lanche Sachê 144x6g Sachê de 6g Venda por Sachê"
          ],
          [
           "Café Cappuccino Classic 3 Corações 1kg Pacote de 1kg Venda por Pacote"
          ],
          [
           "Maionese Hemmer Sachê 190 x 7g Caixa com 190 sachês de 7g Venda por Caixa"
          ],
          [
           "Vodka Smirnoff 998ml Garrafa de 998ml Venda por Garrafa"
          ],
          [
           "Azeite Virgem Galo de Barcelos 375ml Pet de 375ml Venda por Pet"
          ],
          [
           "Açúcar Demerara Alto Alegre 1Kg Pacote de 1kg Unidade"
          ],
          [
           "Limpeza Pesada Ypê 500ml Frasco de 500ml Venda por Frasco"
          ],
          [
           "Suco Tial 100% Goiaba e Maçã 330ml Tetra Pak de 330ml Unidade"
          ],
          [
           "Smirnoff Ice 275ml Garrafa de 275ml Venda por Garrafa"
          ],
          [
           "Cerveja Corona Extra 330ml Long Neck Garrafa de 330ml Unidade"
          ],
          [
           "Mostarda D'Lanche Foguetinho 200g Bisnaga de 200g Venda por Bisnaga"
          ],
          [
           "Tekitos Congelado 1kg - Seara Congelado - Pacote de 1kg Venda por Pacote"
          ],
          [
           "Palmito Palma D'oro Salada Flex 1,10kg Pouch de 1,1kg A partir de 1 unidade"
          ],
          [
           "Molho de Alho Cepêra 150ml Pet de 150ml Venda por Pet"
          ],
          [
           "Bolinho de Queijo Frita 800g - Da Bisa Pacote de 800g Venda por Pacote"
          ],
          [
           "Açúcar Refinado Da Barra 1Kg Pacote de 1kg Unidade"
          ],
          [
           "Creme Chantilly Vegetal 1L - Ricca Tetrapak de 1L Venda por TetraPak"
          ],
          [
           "Iscas de Frango Empanadas 900g - Seara Congelado - Pacote de 900g Venda por Pacote"
          ],
          [
           "Champignon Inteiro Fornello Balde 1,01kg Balde 1,01Kg Unidade"
          ],
          [
           "Carne Seca Bovina de Dianteiro MD - Cambuí Resfriado - Pacote de 2.5kg A partir de 1 pacote (2.5kg)"
          ],
          [
           "Filé de Salmão em Pedaços 500g - Bacalanor Congelado - Pacote de 500g Venda por Pacote"
          ],
          [
           "Chá Verde com Laranja e Gengibre 335ml - Natural Tea Lata de 335ml Venda por Lata"
          ],
          [
           "Farinha de Mandioca Crua Fina Kisabor 1kg Pacote de 1kg Venda por Pacote"
          ],
          [
           "Chocolate Genuine Meio Amargo 1Kg Barra de 1Kg Venda por Barra"
          ],
          [
           "Salsa Desidratada Kisabor 250g Pacote de 250g Venda por Pacote"
          ],
          [
           "Néctar Pêssego e Maçã Tial 1L Tetra Pak de 1L Unidade"
          ],
          [
           "Néctar de Morango 335ml - Maguary Lata de 335ml Venda por Lata"
          ],
          [
           "Coquetel Dream Blue 500ml Garrafa de 500ml Venda por Garrafa"
          ],
          [
           "Fondue de Queijo Emmental 400g - Tirolez Unidade de 400g Venda por Unidade"
          ],
          [
           "Cerveja Budweiser American Lager 330ml Long Neck Garrafa de 330ml Unidade"
          ],
          [
           "Polpa de Acerola 1kg - Agro Yoshi Pacote de 1kg Venda por Pacote"
          ],
          [
           "Brócolis 1.02kg - Agro Yoshi Pacote de 1.02kg Venda por Pacote"
          ],
          [
           "Arroz Integral Campeiro 1kg Pacote de 1kg Venda por Pacote"
          ],
          [
           "Polpa de Abacaxi - Ricaeli Pacote de 1kg - Contém 10 unidades de 100g A partir de 1 pacote (1kg)"
          ],
          [
           "Açúcar Cristal Alto Alegre 2Kg Pacote de 2kg Unidade"
          ],
          [
           "Carne Seca de Traseiro - Cambuí Pacote de 1kg 1 pacote (1kg)"
          ],
          [
           "Sabão em barras Ypê Neutro 900g Plástico 900g Venda por Plástico"
          ],
          [
           "Detergente Suprema Neutro 5L Frasco de 5L Unidade"
          ],
          [
           "Vinagre de Álcool Colorido Galo de Barcelos 3L Galão de 3L Unidade"
          ],
          [
           "Trigo para Kibe 500g - Hikari Pacote de 500g Venda por Pacote"
          ],
          [
           "Desinfetante Flores da Primavera Triex 5L Garrafa de 5L Venda por Garrafa"
          ],
          [
           "Maionese Siolle 3Kg Balde de 3kg Unidade"
          ],
          [
           "Ketchup D'Lanche Sachê 144x6g Sachê de 6g Venda por Sachê"
          ],
          [
           "Molho de Tomate Tradicional Quero Sachê 2kg Sachê de 2Kg Venda por Sachê"
          ],
          [
           "Molho de Alho Cepêra 1,01L Pet de 1,01L Unidade"
          ],
          [
           "Cobertura Genuine Ao Leite em Moedas 2,05kg Pacote de 2,05kg Unidade"
          ],
          [
           "Fermento em Pó Tradicional Dona Benta 100g Frasco de 100g A partir de 1 unidade"
          ],
          [
           "Achocolatado Chocolatto 700g - 3 Corações Pacote de 700g Venda por Pacote"
          ],
          [
           "Sal Marinho Marfim Churrasco 1Kg Pacote de 1kg Venda por Pacote"
          ],
          [
           "Maionese Heinz 390g Frasco de 390g Unidade"
          ],
          [
           "Batata Pré-Frita Tradicional 2Kg - Prime Fries Pacote de 2kg Venda por Pacote"
          ],
          [
           "Guardanapo Folha Dupla Mili Bistrô 23cmx 22,5cm Pacote com 50 folhas Venda por Pacote"
          ],
          [
           "Molho de Tomate Tradicional Mamma D'oro 1,7kg Sachê de 1,7Kg Venda por Sachê"
          ],
          [
           "Steak de Frango Empanado CX - SEARA Congelado - Caixa de 7.2kg (72 Steaks de 100g) A partir de 1 caixa (72 Steaks)"
          ],
          [
           "Adoçante União Sachê Sucralose 400x600mg Caixa com 400 unidades de sachê de 600mg A partir de 1 unidade"
          ],
          [
           "Champignon Fatiado Fornello Balde 1,01kg Balde 1,01Kg Unidade"
          ],
          [
           "Margarina Com Sal 500g - Cremosy Pote de 500g Venda por Pote"
          ],
          [
           "Néctar de Laranja 150ml - Fruit Shoot Tetra Pak de 150ml Venda por Tetra"
          ],
          [
           "Farofa Temperada Premium 400g - Kicaldo Pacote de 400g Venda por Pacote"
          ],
          [
           "Café Tradicional a Vácuo Melitta 500g Pacote de 500g Unidade"
          ],
          [
           "Vodka Balalaika 1L Garrafa de 1L A partir de 1 unidade"
          ],
          [
           "Tira Limo Ypê Cloro Gel 520g Frasco com 520g Venda por Frasco"
          ],
          [
           "Salame tipo Italiano 0.38Kg - SEARA Peça de 0.38Kg A partir de 1 peça"
          ],
          [
           "Café Brasileiro Tradicional Vácuo 500g Pacote de 500g Venda por Pacote"
          ],
          [
           "Linguiça Toscana - Frimesa Pacote de 1kg A partir de 2 pacotes (2kg)"
          ],
          [
           "Requeijão Cremoso Sabor Cheddar 1kg - Catupiry Resfriado - Bisnaga de 1.010kg A partir de 1 bisnaga"
          ],
          [
           "Chocolate Talento Meio Amargo 15x25g Caixa com 15 barras de 25g Venda por Caixa"
          ],
          [
           "Cerveja Amstel Sleek 350ml Lata de 350ml Venda por Lata"
          ],
          [
           "Frango a Passarinho com Osso In Natura - SEARA Pacote de 1kg A partir de 2 pacotes (2kg)"
          ],
          [
           "Farinha de Trigo 5Kg - Globo Pacote de 5kg Venda por Pacote"
          ],
          [
           "Cerveja Original Pilsen 600ml Garrafa Garrafa de 600ml Unidade"
          ],
          [
           "Óleo de Algodão 14.5kg - Saúde (Atacado) Balde de 14.5kg Venda por Balde"
          ],
          [
           "Filé de Polaca 500g - Se7e Mares Congelado - Pacote de 500g Venda por Pacote"
          ],
          [
           "Vinho Tinto Seco Santo Expedito 750ml Garrafa de 750ml Venda por Garrafa"
          ],
          [
           "Álcool Neutro Sulmar 46° 500ml Garrafa 500ml Venda por Garrafa"
          ],
          [
           "Orégano 30g - Hikari Pacote de 30g Venda por Pacote"
          ],
          [
           "Vinagre De Álcool Castelo 750ml Pet 750ml Venda por Pet"
          ],
          [
           "Farinha Flocada para Empanar 200g - Hikari Pacote de 200g Venda por Pacote"
          ],
          [
           "Molho de Tomate Passata Pomarola 1,02Kg Sachê de 1,02Kg Venda por Sachê"
          ],
          [
           "Azeitona Verde Fatiada Olé 120g Sachê de 120g Venda por Sachê"
          ],
          [
           "Polpa de Abacaxi 1kg - Agro Yoshi Pacote de 1kg Venda por Pacote"
          ],
          [
           "Desinfetante Bak Ypê Lavanda 5L Garrafa 5L Venda por Garrafa"
          ],
          [
           "Sal de Parrilla 500g - Lebre Pacote de 500g Venda por Pacote"
          ],
          [
           "Molho de Tomate sabor Pizza Tarantella 2Kg Sachê de 2Kg Unidade"
          ],
          [
           "Iscas de Fígado - Friboi Congelado - Pacote de 500g Venda por Pacote"
          ],
          [
           "Extrato de Tomate Elefante 1,04Kg TetraPak de 1,04kg Venda por Tetra"
          ],
          [
           "Carne Seca Suína - BJP Mezato Pacote de 2.5kg A partir de 1 pacote (2.5kg)"
          ],
          [
           "Bacon Fatiado 750g - Sadia Refrigerado - Pacote de 750g Venda por Pacote"
          ],
          [
           "Néctar de Maracujá 200ml - Maguary Tetra pak de 200ml Venda por Tetra"
          ],
          [
           "Polpa de Maracujá 1kg - Agro Yoshi Pacote de 1kg Venda por Pacote"
          ],
          [
           "Néctar Caju Yummy 200ml TetraPak de 200ml Venda por Tetra"
          ],
          [
           "Desinfetante Bak Ypê Lavanda 500ml Garrafa 500ml Venda por Garrafa"
          ],
          [
           "Suco 100% Maçã 150ml - Fruit Shoot Tetra Pak de 150ml Venda por Tetra"
          ],
          [
           "Couve-Flor 1.02kg - Agro Yoshi Pacote de 1.02kg Venda por Pacote"
          ],
          [
           "Chocolate Alpino Nestlé 22x25g Caixa com 22 barras de 25g Venda por Caixa"
          ],
          [
           "Extrato Tomate Elefante 4,08kg Lata de 4,08Kg Unidade"
          ],
          [
           "Sardinha com Óleo 250g - Gomes da Costa Lata de 250g Venda por Lata"
          ],
          [
           "Presunto Cozido Magro Oval 3.4Kg - SEARA Refrigerado - Peça de 3.4Kg Venda por Peça"
          ],
          [
           "Chiclete Bubbaloo Tutti-Frutti Bag com 10 unidades Pacote de 50g Venda por Pacote"
          ],
          [
           "Limpador Multiuso Limpeza Pesada Suprema 500ml Frasco de 500ml Venda por Frasco"
          ],
          [
           "Lombo de Bacalhau Levemente Salgado 800g - Bacalanor Congelado - Pacote de 800g Venda por Pacote"
          ],
          [
           "Vinho Rose Piscine 750ml Garrafa de 750ml Venda por Garrafa"
          ],
          [
           "Paliteiro Billa c/ 100 Unidade com 100 palitos Unidade"
          ],
          [
           "Açúcar Refinado Caravelas 25kg Pacote de 25kg Venda por Pacote"
          ],
          [
           "Café Pouch 3 Corações Estrada Real 500g Pacote de 500g Venda por Pacote"
          ],
          [
           "Batata Palha Extra Fina Kisabor 100g Pacote de 100g Venda por Pacote"
          ],
          [
           "Cloro concentrado Suprema 5L Frasco de 5L Unidade"
          ],
          [
           "Alcaparras 09/11 Fornello Balde 2kg Balde 2Kg Unidade"
          ],
          [
           "Fanta Guaraná 220ml Lata de 220ml Venda por Lata"
          ],
          [
           "Carne Seca Bovina de Traseiro MD - Cambuí Resfriado - Pacote de 2.5kg A partir de 1 pacote (2.5kg)"
          ],
          [
           "Mostarda com Mel Cepêra 400g Bisnaga de 400g Venda por Bisnaga"
          ],
          [
           "Mostarda Hemmer Sachê 190 x 7g Caixa com 190 sachês de 7g Venda por Caixa"
          ],
          [
           "Tampa Marmitex Totalplast Fardo com 100 tampas para marmitex Venda por Fardo"
          ],
          [
           "Chá Branco com Pitaya e Amora 335ml - Natural Tea Lata de 335ml Venda por Lata"
          ],
          [
           "Café União Extraforte Pouch 500g Pacote de 500g A partir de 1 unidade"
          ],
          [
           "Polpa de Abacaxi com Hortelã 1kg - Agro Yoshi Pacote de 1kg Venda por Pacote"
          ],
          [
           "Chocolate Genuine Ao Leite em Moedas 2,05kg Pacote de 2,05kg Unidade"
          ],
          [
           "Coquetel Duelo Maracujá 500ml Garrafa de 500ml Venda por Garrafa"
          ],
          [
           "Cominho em Pó 40g - Hikari Pacote de 40g Venda por Pacote"
          ],
          [
           "Contra-Filé Bovino Refrigerado 3Kg - Friboi Refrigerado - Peso Variável Venda por Peso"
          ],
          [
           "Linguiça Defumada 2.5kg - Rezende Pacote de 2.5kg Venda por Pacote"
          ],
          [
           "Néctar Laranja Yummy 1L Tetrapak de 1L Venda por Tetra"
          ],
          [
           "Café Tradicional Bom Jesus 500g Almofada de 500g Unidade"
          ],
          [
           "Pão de Queijo 1Kg - Brico Bread Pacote de 1Kg (Aproximadamente 60 unidades) Venda por Pacote"
          ],
          [
           "Vinho Tinto Seco Santo Expedito 4,5L Garrafa de 4,5L Venda por Garrafa"
          ],
          [
           "Molho de Tomate Tradicional Sachê 1.7kg - Pomarola Sachê de 1.7kg Venda por Sachê"
          ],
          [
           "Maionese Caseira Sachê 7g - Liza Caixa com 144 sachês de 7g Venda por Caixa"
          ],
          [
           "Farinha de Rosca 4.5Kg - Hikari Pacote de 4.5Kg Venda por Pacote"
          ],
          [
           "Queijo Mussarela Fatiado 1kg - Goiabal Resfriado - Pacote de 1kg (40 fatias de 25g aprox.) A partir de 1 pacote"
          ],
          [
           "Polpa de Manga - Ricaeli Pacote de 1kg - Contém 10 unidades de 100g A partir de 1 pacote (1kg)"
          ],
          [
           "Coxinha da Asa de Frango com Osso - SEARA Pacote de 1kg A partir de 2 pacotes (2kg)"
          ],
          [
           "Bebida Vegetal A Tal Da Castanha Original 1L Tetrapak 1L Venda por TetraPak"
          ],
          [
           "Bisteca Suína Fatiada - BJP Selecta Pacote de 2kg - Aprox. 16 fatias de 125g 1 pacote (2kg)"
          ],
          [
           "Água Sanitária Suprema 5L Frasco de 5L Unidade"
          ],
          [
           "Sapólio Radium Em Pedra Clássico 200g 200g Unidade"
          ],
          [
           "Feijão Preto Caldo Nobre 1kg Pacote de 1kg Unidade"
          ],
          [
           "Cerveja Heineken 0,0% long neck 330ml Garrafa de 330ml Unidade"
          ],
          [
           "Molho de Tomate Tradicional Quero 300g Sachê de 300g A partir de 1 unidade"
          ],
          [
           "Batata Palha Tradicional Kisabor 100g Pacote de 100g Venda por Pacote"
          ],
          [
           "Desinfetante Ypê Bak Lavanda 2L Frasco de 2L Venda por Frasco"
          ],
          [
           "Açúcar União Premium Sachê 400x5g Sachês de 5g Caixa"
          ],
          [
           "Farinha de Trigo para Salgado Rosa Branca 5kg Embalagem de Papel 5kg Venda por Embalagem"
          ],
          [
           "Desengordurante Triex 500ml Garrafa 500ml Unidade"
          ],
          [
           "Mostarda Sachê 144x5g - Predilecta Caixa com 144 sachês de 5g Venda por Caixa"
          ],
          [
           "Maionese Quero Balde 3Kg Balde de 3kg Venda por Balde"
          ],
          [
           "Papel higiênico folha dupla Deluxe Ultra leve 12 pague 11 rolos Pacote com 12 rolos Venda por Pacote"
          ],
          [
           "Coca-Cola Zero 2L Garrafa de 2l Venda por Garrafa"
          ],
          [
           "Cream Cheese Cremoso 1.2kg - Catupiry Resfriado - Bisnaga de 1.2kg A partir de 1 bisnaga"
          ],
          [
           "Molho de Pimenta Cepêra 150ml Pet de 150ml Venda por Pet"
          ],
          [
           "Azeite de Oliva Extra Virgem Cocineiro 250ml Frasco de 250ml Unidade"
          ],
          [
           "Polpa de Morango 1kg - Agro Yoshi Pacote de 1kg Venda por Pacote"
          ],
          [
           "Acém em Cubos - Friboi Congelado - Pacote de 500g Venda por Pacote"
          ],
          [
           "Cogumelos Inteiros Olé 80g Sachê de 80g Venda por Sachê"
          ],
          [
           "Milho para Pipoca Premium 500g - Hikari Pacote de 500g Venda por Pacote"
          ],
          [
           "Farinha de Trigo Embalagem de Papel 5Kg - Farina Pacote de 5kg Venda por Pacote"
          ],
          [
           "Cerveja Brahma Duplo Malte Lata 269ml Lata de 269ml Venda por Lata"
          ],
          [
           "Fanta Guarana 350ml Lata de 350ml Unidade"
          ],
          [
           "Chiclete Trident Canela 21X8g Pacote de 8g Venda por Pacote"
          ],
          [
           "Queijo Parmesao 1.4kg - Scala Peça de 1.4kg 1 peça"
          ],
          [
           "Polvilho Azedo 500g - Hikari Pacote de 500g Venda por Pacote"
          ],
          [
           "Lentilha 500g - Hikari Pacote de 500g Venda por Pacote"
          ],
          [
           "Saponáceo Cremoso Ypê Original 300ml Garrafa 300ml Venda por Garrafa"
          ],
          [
           "Sal do Himalaia Moído 500g - Lebre Pacote de 500g Venda por Pacote"
          ],
          [
           "Lombo Suíno em Bifes - BJP Mezato Congelado - Pacote de 2kg (20 bifes de 100g aprox.) A partir de 1 pacote (2kg)"
          ],
          [
           "Chocolate Genuine Blend 1Kg Barra de 1Kg Venda por Barra"
          ],
          [
           "Sukita Uva 200ml Garrafa de 200ml Venda por Garrafa"
          ],
          [
           "Farinha de Rosca 500g - Pantera Pacote de 500g Venda por Pacote"
          ],
          [
           "Molho de Tomate Tradicional Pomarola 1,06Kg TetraPak de 1,06Kg Venda por TetraPak"
          ],
          [
           "Fruta Congelada Abacaxi 1.02Kg - Ricaeli Pacote de 1.02kg Venda por Pacote"
          ],
          [
           "Kibe Frito 800g - Da Bisa Pacote de 800g Venda por Pacote"
          ],
          [
           "Cobertura Genuine Meio Amargo 2,1Kg 2,1Kg Unidade"
          ],
          [
           "Vodka Toroika 900ml Garrafa de 900ml Venda por Garrafa"
          ],
          [
           "Coquetel Vinhagrinha Coco 500ml Garrafa de 500ml Venda por Garrafa"
          ],
          [
           "Cachaça 51 965ml Garrafa de 965ml A partir de 1 unidade"
          ],
          [
           "Linguiça tipo Calabresa - Sadia Pacote de 2.5kg 1 pacote (2.5kg)"
          ],
          [
           "Apresuntado Fatiado - Frimesa Refrigerado - Pacote de 200g Venda por Pacote"
          ],
          [
           "Queijo Parmesão Ralado 1kg - Goiabal Resfriado - Pacote de 1kg A partir de 1 pacote (1kg)"
          ],
          [
           "Polpa de Morango - Ricaeli Pacote de 1kg - Contém 10 unidades de 100g A partir de 1 pacote (1kg)"
          ],
          [
           "Água Mineral Crystal com gás 500ml Garrafa de 500ml A partir de 1 unidade"
          ],
          [
           "Polpa de Caju 1kg - Agro Yoshi Pacote de 1kg Venda por Pacote"
          ],
          [
           "Carne Seca Bovina de Dianteiro Pq - Mineiro Resfriado - Pacote de 1kg A partir de 1 pacote (1kg)"
          ],
          [
           "Farinha de Rosca 4kg - Kisabor Pacote de 4kg Venda por Pacote"
          ],
          [
           "Óleo Composto Maria 500ml Pet de 500ml Venda por Pet"
          ],
          [
           "Néctar Laranja e Maçã Tial 330ml Tetra Pak de 330ml Unidade"
          ],
          [
           "Banha Suína 1kg - Frimesa Pacote de 1kg 1 pacote"
          ],
          [
           "Presunto Cozido Oval sem Capa 3.41kg - Rezende Resfriado - Peça de 3.41kg A partir de 1 peça"
          ],
          [
           "Açúcar Cristal União 1Kg Pacote de 1kg Unidade"
          ],
          [
           "Leite Condensado Semidesnatado Triangulo Mineiro 395g Tetra Pak de 395g Unidade"
          ],
          [
           "Café Extraforte Pouch Melitta 250g Pouch de 250g Unidade"
          ],
          [
           "Mostarda Amarela Cepêra 3,3Kg Galão de 3,3Kg Unidade"
          ],
          [
           "Molho de Tomate Pizza Mamma D'oro 1,7kg Sachê de 1,7Kg Venda por Sachê"
          ],
          [
           "Café Tradicional Pouch 3 Corações 500g Pacote de 500g Unidade"
          ],
          [
           "Ketchup Cepêra Squeeze 400g Squeeze de 400g Venda por Squeeze"
          ],
          [
           "Coxinha da Asa de Frango com Osso IQF - Lar Congelado - Pacote de 2kg A partir de 1 pacote (2kg)"
          ],
          [
           "Pão Francês Congelado 1.3Kg - Brico Bread Pacote de 1.3Kg (Aproximadamente 20 unidades) Venda por Pacote"
          ],
          [
           "Esponja Antiaderente Embalagem Econômica Bombril Kit com 3 esponjas Pacote"
          ],
          [
           "Ketchup Cepêra 1,01Kg Frasco de 1,01Kg Unidade"
          ],
          [
           "Chocolate Lacta ao Leite 12X34g Barra de 45g Venda por Barra"
          ],
          [
           "Molho Para Salada Liza Sabor Vinagrete 234ml Pet 234ml Unidade"
          ],
          [
           "Macarrão com Ovos Espaguete 500g - Jóia Pacote de 500g Venda por Pacote"
          ],
          [
           "Néctar de Goiaba 1L - Maguary Tetra Pak de 1L Venda por Tetra"
          ],
          [
           "Papel higiênico folha dupla Cotton leve 12 pague 11 rolos Pacote com 12 rolos Venda por Pacote"
          ],
          [
           "Base Culinária Triangulo Mineiro 1kg Tetrapack 1 L (Com Tampa) Unidade"
          ],
          [
           "Massa Lasanha Caseira Direto Ao Forno Dona Benta 200g Pacote de 200g A partir de 1 unidade"
          ],
          [
           "Extrato de Tomate Quero Sachê 1,02kg Sachê de 1,02Kg Venda por Sachê"
          ],
          [
           "Ketchup D'Lanche 3kg Bombona de 3kg Venda por Bombona"
          ],
          [
           "Macarrão com Ovos Ninho Dona Benta 500g Pacote de 500g Unidade"
          ],
          [
           "Mortadela 1kg - Confiança Refrigerado - Peça 1kg Venda por Peça"
          ],
          [
           "Café Tradicional Vácuo 3 Corações 500g Pacote de 500g Unidade"
          ],
          [
           "Açaí Original - Frooty Congelado - Balde de 3.6kg A partir de 1 balde (3.6kg)"
          ],
          [
           "Azeite de Oliva Extra Virgem Cocinero 500ml Frasco de 500ml Unidade"
          ],
          [
           "Coca-Cola Zero 220ml Lata de 220ml Venda por Lata"
          ],
          [
           "Seleta de Legumes Olé 170g Lata de 170g Venda por Lata"
          ],
          [
           "Macarrão com Ovos Ninho 500g - Adria Pacote de 500g Venda por Pacote"
          ],
          [
           "Esponja Multiuso Ypê 1 unidade Plástico 1 unidade Venda por Plástico"
          ],
          [
           "Manteiga sem Sal 5kg - Scala Bloco de 5kg 1 bloco"
          ],
          [
           "Canela em Pó 500g - Hikari Pacote de 500g Venda por Pacote"
          ],
          [
           "Suco 100% Laranja 150ml - Fruit Shoot Tetra Pak de 150ml Venda por Tetra"
          ],
          [
           "Néctar de Tangerina 335ml - Maguary Lata de 335ml Venda por Lata"
          ],
          [
           "Molho Yakissoba 500ml - Cepêra Garrafa de 500ml Venda por Garrafa"
          ],
          [
           "Guardanapo Mili Bistro Folha Dupla 30x29,5cm Pacote com 50 folhas Venda por Pacote"
          ],
          [
           "Chocolate Chokito ao Leite Nestlé 30x32g Caixa com 30 unidades de 32g Venda por Caixa"
          ],
          [
           "Linguiça Toscana Selada 5Kg - Frimesa Congelado - Pacote de 5kg Venda por Pacote"
          ],
          [
           "Brócolis 1.5Kg - Ati-Gel Pacote de 1.5kg Venda por Pacote"
          ],
          [
           "Chiclete Trident Morango 21X8g Pacote de 8g Venda por Pacote"
          ],
          [
           "Bebida de Castanha de Caju Sabor Chocolate sem Leite 1L Tetrapak 1L Venda por TetraPak"
          ],
          [
           "Desinfetante Perfumes do Eucalipto Triex 500ml Garrafa de 500ml Venda por Garrafa"
          ],
          [
           "Pão de Queijo 1.01Kg - Da Bisa Pacote de 1.01Kg Venda por Pacote"
          ],
          [
           "Mandioca Tolete 1.02kg - Agro Yoshi Pacote de 1.02kg Venda por Pacote"
          ],
          [
           "Vinagre De Álcool Colorido Castelo 750ml Pet 750ml Venda por Pet"
          ],
          [
           "Leite em Pó Integral 400g - Piracanjuba Almofada de 400g Venda por Almofada"
          ],
          [
           "Margarina Cremosa com Sal 1kg - Claybom Pote de 1kg A partir de 2 potes"
          ],
          [
           "Detergente Suprema Clear 5L Frasco de 5L Unidade"
          ],
          [
           "Vinagre de Arroz Castelo 5L Galão de 5L Venda por Galão"
          ],
          [
           "Farinha de Trigo para Pizza 5Kg - Suprema Pacote de 5kg Venda por Pacote"
          ],
          [
           "Maionese Cepêra Sachê 175 X 7g Sachês de 7g Caixa"
          ],
          [
           "Mostarda Olé 180g Bisnaga de 180g Venda por Bisnaga"
          ],
          [
           "Porco a Passarinho Temperado - Frimesa Congelado - Pacote de 1kg A partir de 2 pacotes (2kg)"
          ],
          [
           "Batata Palha 400g - Confraria do Alimento Pacote de 400g Venda por Pacote"
          ],
          [
           "Café Solúvel Extraforte 3 Corações 40g Pacote de 40g Venda por Pacote"
          ],
          [
           "Apresuntado 3.58Kg - Frimesa Peça de 3.58kg 1 peça"
          ],
          [
           "Coca-Cola 220ml Lata de 220ml Venda por Lata"
          ],
          [
           "Arroz Culinária Italiana Camil Food Service 2Kg Pacote de 2kg Unidade"
          ],
          [
           "Toucinho pra Torresmo in Natura - BJP Congelado - Pacote de 3kg (60 peças de 50g aprox.) A partir de 1 pacote (3kg)"
          ],
          [
           "Queijo Mussarela 3.6kg - Tirolez Resfriado - Peça de 3.6kg A partir de 1 peça"
          ],
          [
           "Molho de Tomate Quero 1,02kg Sachê de 1,02Kg Unidade"
          ],
          [
           "Anéis de Cebola 1.05kg - Bem Brasil Congelado - Pacote de 1.05kg A partir de 1 pacote"
          ],
          [
           "Milho para Pipoca Kicaldo 500g Pacote de 500g A partir de 1 unidade"
          ],
          [
           "Farinha de Trigo para Pizza Rosa Branca 5kg Embalagem de Papel 5kg Venda por Embalagem"
          ],
          [
           "Fondue de Queijo 400g - Tirolez Unidade de 400g Venda por Unidade"
          ],
          [
           "Misturas de óleos vegetais Saúde Fry 14.5kg Balde De 14,5Kg Unidade"
          ],
          [
           "Frango Inteiro s/ Miúdos - Sadia Pacote de 1.4kg aprox. (1 frango de 1.35kg a 1.45kg) 1 pacote (1.4kg)"
          ],
          [
           "Água sanitária Ypê 5l Galão 5L Unidade"
          ],
          [
           "Molho Shoyu 5L - Cepêra Garrafa de 5L Venda por Garrafa"
          ],
          [
           "Batata Palha 800g - Confraria do Alimento Pacote de 800g Venda por Pacote"
          ],
          [
           "Batata Pré-Frita Crinkle 2kg - Bem Brasil Congelado - Pacote de 2kg A partir de 1 pacote"
          ],
          [
           "Heineken Garrafa 600ml descartável Garrafa de 600ml Unidade"
          ],
          [
           "Vinagre de Álcool Galo de Barcelos 3L Galão de 3L Unidade"
          ],
          [
           "Vinho Tinto Suave Santo Expedito 750ml Garrafa de 750ml Venda por Garrafa"
          ],
          [
           "Filezinho de Sassami Empanado - Lar Congelado - Pacote de 1.5kg Venda por Pacote"
          ],
          [
           "Polenta Palito 1.05kg - Bem Brasil Congelado - Pacote de 1.05kg A partir de 1 pacote"
          ],
          [
           "Creme de Leite Leve (17%) 200g - Triângulo Mineiro Tetra Pak de 200g Venda por Tetra"
          ],
          [
           "Cachaça Corote Garrafa 500ml Garrafa de 500ml Venda por Garrafa"
          ],
          [
           "Café Extraforte Vácuo 3 Corações 500g Pacote de 500g Unidade"
          ],
          [
           "Guardanapo folha dupla Elite 50 folhas 23,5 x 24cm Pacote com 50 folhas Pacote"
          ],
          [
           "Milho para Pipoca Premium Dona Clara 500g Pacote de 500g Venda por Pacote"
          ],
          [
           "Farinha de Mandioca Torrada 500g - Hikari Pacote de 500g Venda por Pacote"
          ],
          [
           "Queijo Prato 2.91Kg - Frimesa Peça de 2.91kg 1 peça"
          ],
          [
           "Água sanitária Ypê 2l Frasco de 2L Unidade"
          ],
          [
           "Maionese D'Lanche Sachê 144x6g Sachê de 6g Venda por Sachê"
          ],
          [
           "Suco de Concentrado de Uva 500ml - Maguary Garrafa de 500ml Venda por Garrafa"
          ],
          [
           "Ciabatta Grande 218g - Brico Bread Pacote de 218g (2 unidades) Venda por Pacote"
          ],
          [
           "Tomates Pelados em Cubos 240g - Olé Lata de 240g Venda por Lata"
          ],
          [
           "Hambúrguer Bovino Grande - Plena Congelado - Caixa com 4.32Kg (48 und de 90g) A partir de 1 caixa (48 hamb.)"
          ],
          [
           "Farinha de Trigo para Confeitaria 5Kg - Suprema Pacote de 5kg Venda por Pacote"
          ],
          [
           "Chocolate Genuine ao Leite 2,1Kg 2,1Kg Unidade"
          ],
          [
           "Refrigerante Pepsi Black Sem Açúcar 350ml Lata Lata de 350ml Venda por Lata"
          ],
          [
           "Esponja Multiuso Ypê 3 unidades Kit com 3 esponjas Venda por Kit"
          ],
          [
           "Margarina Cremosa com Sal 1kg - Doriana Pote de 1kg A partir de 2 potes"
          ],
          [
           "Brócolis 1.1kg - Lar Congelado - Pacote de 1.1kg A partir de 1 pacote"
          ],
          [
           "Fruta Congelada Morango 1.02Kg - Ricaeli Pacote de 1.02kg Venda por Pacote"
          ],
          [
           "Costelinha Suína in Natura - BJP Mezato Congelado - Pacote de 2kg (30 peças de 66g aprox.) A partir de 1 pacote (2kg)"
          ],
          [
           "Carne Seca Bovina de Dianteiro - Mineiro Resfriado - Pacote de 5kg A partir de 1 pacote (5kg)"
          ],
          [
           "Vinagre de Maçã Galo de Barcelos 750ml Pet de 750ml Venda por Pet"
          ],
          [
           "Coquetel de Vinho Cantinho do Vale 880ml Garrafa de 880ml Venda por Garrafa"
          ],
          [
           "Filé de Pangasius Interfolhado CX 10Kg - Cadovimex Congelado - Caixa de 10Kg Venda por Caixa"
          ],
          [
           "Papel toalha Kitchen Jumbo leve 240, pague 220 folhas Pacote com 2 rolos Pacote"
          ],
          [
           "Farinha de Mandioca 4.5Kg - Hikari Pacote de 4.5Kg Venda por Pacote"
          ],
          [
           "Coca-Cola Zero 200ml Garrafa de 200ml A partir de 1 unidade"
          ],
          [
           "Suco Tial 100% Maçã 330ml Tetra Pak de 330ml Unidade"
          ],
          [
           "Molho Para Salada Liza Sabor Caseiro 234ml Pet 234ml Unidade"
          ],
          [
           "Maionese Sachê 144x7g - Heinz Caixa com 144 sachês de 7g Venda por Caixa"
          ],
          [
           "Molho Shoyu Premium Cepêra 270ml Frasco de 270ml Venda por Frasco"
          ],
          [
           "Néctar Goiaba e Maçã Tial 330ml Tetra Pak de 330ml Unidade"
          ],
          [
           "Bala Halls Extra Forte 21 X 27,5g Pacote de 27.5g Venda por Pacote"
          ],
          [
           "Queijo Prato Fatiado 1kg - Goiabal Resfriado - Pacote de 1kg (40 fatias de 25g aprox.) A partir de 1 pacote"
          ],
          [
           "Bala Halls Cereja 21 x 28g Pacote de 28g Venda por Pacote"
          ],
          [
           "Néctar Goiaba Yummy 1L Tetrapak de 1L Venda por Tetra"
          ],
          [
           "Néctar de Uva 200ml - Maguary Tetra pak de 200ml Venda por Tetra"
          ],
          [
           "Margarina com Sal 14,5Kg - Cremosy Balde De 14,5Kg Venda por Balde"
          ],
          [
           "Café Extraforte Pouch 3 Corações 500g Pacote de 500g Unidade"
          ],
          [
           "Cerveja Spaten Puro Malte 269ml Lata de 269ml Venda por Lata"
          ],
          [
           "Molho Barbecue 400g - Cepêra Garrafa de 400g Venda por Garrafa"
          ],
          [
           "Posta de Cação 800g - Noriberica Congelado - Pacote de 800g Venda por Pacote"
          ],
          [
           "Ketchup Predilecta 400g Frasco de 400g Unidade"
          ],
          [
           "Sardinha em óleo Coqueiro 125g Lata de 125g Unidade"
          ],
          [
           "Néctar de Laranja 1L - Maguary Tetra Pak de 1L Venda por Tetra"
          ],
          [
           "Polpa de Frutas Vermelhas - Ricaeli Pacote de 1kg - Contém 10 unidades de 100g A partir de 1 pacote (1kg)"
          ],
          [
           "Chickenitos Supreme - SEARA Pacote de 2.5kg - Contém aprox. 119 unidades de 21g 1 pacote (2.5kg)"
          ],
          [
           "Mandioca Tolete Pré-Cozida - Matheus Pacote de 2.5kg 1 pacote (2.5kg)"
          ],
          [
           "Néctar de Morango 150ml - Fruit Shoot Tetra Pak de 150ml Venda por Tetra"
          ],
          [
           "Coxinha de Frango Empanada 400g - Seara Congelado - Pacote de 400g Venda por Pacote"
          ],
          [
           "Ketchup Predilecta Sachê 144x7g Sachês de 7g Caixa"
          ],
          [
           "Álcool Gel Acendedor Sulmar 80° 5Kg Garrafa 5Kg Venda por Garrafa"
          ],
          [
           "Coxão Mole Bovino 9Kg - Estrela Refrigerado - Peça de 9Kg Venda por Peça"
          ],
          [
           "Ketchup Olé 1,1kg Sachê de 1,1kg Venda por Sachê"
          ],
          [
           "Manjericão 7g - Hikari Pacote de 7g Venda por Pacote"
          ],
          [
           "Costela Barbecue Gourmet 1Kg - Seara Congelado - Pacote de 1kg Venda por Pacote"
          ],
          [
           "Carne Suína de Pernil em Cubos IQF - Mezato Congelado - Pacote de 2kg Venda por Pacote"
          ],
          [
           "Néctar de Tangerina 1L - Maguary Tetra Pak de 1L Venda por Tetra"
          ],
          [
           "Vinagre de Limão Castelo 750ml Pet de 750ml Venda por Pet"
          ],
          [
           "Néctar de Uva Zero Açúcar 200ml - Maguary Tetra pak de 200ml Venda por Tetra"
          ],
          [
           "Suco de Concentrado de Abacaxi 500ml - Maguary Garrafa de 500ml Venda por Garrafa"
          ],
          [
           "Maionese Saúde Sachê 1.0kg Caixa com 6 Sachês de 1.0kg Venda por Caixa"
          ],
          [
           "Coxinha Frita 800g - Da Bisa Pacote de 800g Venda por Pacote"
          ],
          [
           "Espumante Argentino Dulce Novecento 750ml Garrafa de 750ml Venda por Garrafa"
          ],
          [
           "Contra Filé Bovino 3Kg - Estrela Refrigerado - Peça de 3kg Venda por Peça"
          ],
          [
           "Açaí Tradicional 3.6L - Maori Balde de 3kg Venda por Balde"
          ],
          [
           "Ketchup D'Lanche Foguetinho 200g Bisnaga de 200g Venda por Bisnaga"
          ],
          [
           "Mostarda Amarela Cepêra 350g Bisnaga de 350g Venda por Bisnaga"
          ],
          [
           "Néctar Caju Yummy 1L Tetrapak de 1L Venda por Tetra"
          ],
          [
           "Néctar de Uva 335ml - Maguary Lata de 335ml Venda por Lata"
          ],
          [
           "Néctar Laranja Yummy 200ml TetraPak de 200ml Venda por Tetra"
          ],
          [
           "Chocolate Genuine Branco em Moedas 2,05kg Pacote de 2,05kg Unidade"
          ],
          [
           "Néctar Goiaba Yummy 200ml TetraPak de 200ml Venda por Tetra"
          ],
          [
           "Molho de Tomate Tradicional Tarantella 1,06Kg TetraPak de 1,06Kg Venda por TetraPak"
          ],
          [
           "Coxão Mole Bovino 7.5Kg - Estrela Refrigerado - Peça de 7.5Kg Venda por Peça"
          ],
          [
           "Fanta Guaraná Zero 350ml Lata de 350ml Venda por Lata"
          ],
          [
           "Conhaque Marruá 880ml Garrafa de 880ml Venda por Garrafa"
          ],
          [
           "Ketchup Heinz 2kg Bag de 2Kg Unidade"
          ],
          [
           "Suco de Concentrado de Goiaba 500ml - Maguary Garrafa de 500ml Venda por Garrafa"
          ],
          [
           "Marmitex de alumínio Wyda 480ml Pacote com 100 embalagens com tampas Pacote"
          ],
          [
           "Amaciante De Carne Kisabor 1,01Kg Pacote de 1,01Kg Venda por Pacote"
          ],
          [
           "Whisky Km 58 900ml Garrafa de 900ml Venda por Garrafa"
          ],
          [
           "Queijo tipo Gorgonzola 3kg - Scala Peça de 3kg Venda por Peça"
          ],
          [
           "Lentilha Seca Kisabor 500g Pacote de 500g Venda por Pacote"
          ],
          [
           "Arroz Mix Campeiro 5kg Pacote de 5kg Venda por Pacote"
          ],
          [
           "Creme de Cebola Maggi 68g Pacote de 68g Venda por Pacote"
          ],
          [
           "Espumante Argentino Brut Novecento 750ml Garrafa de 750ml Venda por Garrafa"
          ],
          [
           "Atum em Pedaços ao Natural 170g - Gomes da Costa Lata de 170g Venda por Lata"
          ],
          [
           "Sardinha com Óleo 125g - 88 Lata de 125g Venda por Lata"
          ],
          [
           "Atum em Pedaços com Óleo 170g - Gomes da Costa Lata de 170g Venda por Lata"
          ],
          [
           "Chocolate Kit Kat Ao Leite 24x41,5g Caixa com 24 unidades de 41.5g Venda por Caixa"
          ],
          [
           "Cachaça Km 58 Rafardense 500ml Garrafa de 500ml Venda por Garrafa"
          ],
          [
           "Farinha de Trigo 1Kg - Farina Pacote de 1kg Venda por Pacote"
          ],
          [
           "Açaí Original - Split Congelado - Balde de 3.6L A partir de 1 balde (3.6L)"
          ],
          [
           "Água Mineral Cristal sem gás 1,5L Garrafa de 1,5L Venda por Garrafa"
          ],
          [
           "Detergente Ypê Coco 500ml Frasco de 500ml A partir de 1 unidade"
          ],
          [
           "Frango a Passarinho IQF com Osso In Natura - Lar Congelado - Pacote de 1kg A partir de 2 pacotes (2kg)"
          ],
          [
           "Sabão em pó Tixan Ypê 800g Plástico 800g Venda por Plástico"
          ],
          [
           "Álcool Bactericida Top 46° 1L Frasco de 1L Unidade"
          ],
          [
           "Cerveja Brahma Duplo Malte Puro Malte 350ml Lata Lata de 350ml Unidade"
          ],
          [
           "Esponja multiuso Brilhex leve 12 pague 10 Kit com 12 esponjas Pacote"
          ],
          [
           "Farinha de Trigo Anaconda 1Kg Pacote de 1kg Unidade"
          ],
          [
           "Polenta Palito 1.02kg - Agro Yoshi Pacote de 1.02kg Venda por Pacote"
          ],
          [
           "Requeijão Cremoso 3.6kg - Scala Resfriado - Balde de 3.6kg A partir de 1 balde"
          ],
          [
           "Detergente Ypê Clear 500ml Frasco de 500ml A partir de 1 unidade"
          ],
          [
           "Batata Pré-Frita Corte Tradicional 2kg - Rapipap Congelado - Pacote de 2kg A partir de 1 pacote"
          ],
          [
           "Molho de Tomate Tradicional Olé 300g Sachê de 300g Venda por Sachê"
          ],
          [
           "Molho Para Salada Liza Sabor Caesar 234ml Pet 234ml Unidade"
          ],
          [
           "Sobrecoxa de Frango com Osso - SEARA Congelado - Bandeja de 1kg A partir de 2 bandejas (2kg)"
          ],
          [
           "Ervilha Quero 170g Lata de 170g Unidade"
          ],
          [
           "Azeitona Preta Fatiada Fornello 2kg Balde 2Kg Unidade"
          ],
          [
           "Alho Frito Fornello Pouch 300g Pouch 300g Unidade"
          ],
          [
           "Sal Lebre Sachê 1000x0,8g Sachês de 0,8g Caixa"
          ],
          [
           "Macarrão com Ovos Ave-Maria Dona Benta 500g Pacote de 500g Unidade"
          ],
          [
           "Azeitona Verde 28/32 Fornello Balde 2kg Balde 2Kg Unidade"
          ],
          [
           "Linguiça Toscana - Sadia Congelado - Pacote com 5kg Venda por Pacote"
          ],
          [
           "Óleo de Palma Refinado Saúde PalmFry 14.5Kg Balde De 14,5Kg Unidade"
          ],
          [
           "Néctar de Maçã 200ml - Maguary Tetra pak de 200ml Venda por Tetra"
          ],
          [
           "Álcool Gel Vip 70° 400g Embalagem com 400g Unidade"
          ],
          [
           "Detergente Limpol Neutro 5L 5L Unidade"
          ],
          [
           "Farinha Panko 200g - Venturelli Pacote de 200g Venda por Pacote"
          ],
          [
           "Pimenta Biquinho Fornello Balde 2kg Balde 2Kg Unidade"
          ],
          [
           "Mandioca Pré-Cozida Supreme - SEARA Pacote de 1.5kg 1 pacote (1.5kg)"
          ],
          [
           "Café União Tradicional Pouch 500g Pacote de 500g A partir de 1 unidade"
          ],
          [
           "Margarina Cremosa sem Sal 0.5kg - Claybom Pote de 0.5kg A partir de 2 potes"
          ],
          [
           "Ervilha Olé 1,7kg Lata de 1,7Kg Venda por Lata"
          ],
          [
           "Suco Tial 100% Manga e Maçã 330ml Tetra Pak de 330ml Unidade"
          ],
          [
           "Presunto Cozido Magro Oval 3.4Kg - SEARA Resfriado - Peça de 3.4Kg A partir de 1 peça"
          ],
          [
           "Papel Toalha Mili Gran Chef 360 folhas Pacote com 360 folhas Venda por Pacote"
          ],
          [
           "Cerveja Original Pilsen 350ml Lata Lata de 350ml A partir de 1 unidade"
          ],
          [
           "Desinfetante Bak Ypê Eucalipto 5L Garrafa 5L Venda por Garrafa"
          ],
          [
           "Molho de Tomate Tradicional Pomarola 1.02Kg Sachê 1.02Kg Venda por Sachê"
          ],
          [
           "Coxa de Frango com Osso - SEARA Congelado - Bandeja de 1kg A partir de 2 bandejas (2kg)"
          ],
          [
           "Néctar Pêssego e Maçã Tial 330ml Tetra Pak de 330ml Unidade"
          ],
          [
           "Chocolate em Pó 200g - Hikari Pacote de 200g Venda por Pacote"
          ],
          [
           "Filé de Merluza 500g - Se7e Mares Congelado - Pacote de 500g Venda por Pacote"
          ],
          [
           "Molho de Pimenta Sriracha Cepêra 270ml Frasco de 270ml Venda por Frasco"
          ],
          [
           "Azeite de Oliva Olinda 500ml Pet de 500ml Unidade"
          ],
          [
           "Azeite de Oliva Extra Virgem Borges 500ml Vidro de 500ml Venda por Vidro"
          ],
          [
           "Mistura Para Pão Doce Maxi 25kg Saco de 25kg Venda por Saco"
          ],
          [
           "Esponja Não Risca Ypê 1 unidade Plástico 1 unidade Venda por Plástico"
          ],
          [
           "Chocolate Genuine Branco 1Kg Barra de 1Kg Venda por Barra"
          ],
          [
           "Café Cappuccino Classic 3 Corações 200g Pacote de 200g Venda por Pacote"
          ],
          [
           "Café Torrado em Grãos Gourmet 3 Corações 1kg Pacote de 1kg Venda por Pacote"
          ],
          [
           "Chocolate Bis Xtra ao Leite 24X45g Barra de 45g Venda por Barra"
          ],
          [
           "Azeite Borges Extra Virgem 5L 5L Unidade"
          ],
          [
           "Batata Pré-Frita Corte Carinhas 1.05kg - Bem Brasil Pacote de 1.05kg Venda por Pacote"
          ],
          [
           "Xarope de Guaraná 1L - Bela Ischia Garrafa de 1L Venda por Garrafa"
          ],
          [
           "Guardanapo Balcão Scott 200 Folhas Pacote de 200 Folhas Venda por Pacote"
          ],
          [
           "Limpa pisos Triex 1L Frasco de 1L Unidade"
          ],
          [
           "Molho de Pimenta Vermelha Kisabor 150ml Pet de 150ml Venda por Pet"
          ],
          [
           "Néctar Uva Tial 1L Tetra Pak de 1L Unidade"
          ],
          [
           "Molho de Tomate Triturado Sachê 1.7kg - Pomarola Sachê de 1.7kg Venda por Sachê"
          ],
          [
           "Groselha 1L - Bela Ischia Garrafa de 1L Venda por Garrafa"
          ],
          [
           "Farinha de Mandioca Crua 4kg - Kisabor Pacote de 4kg Venda por Pacote"
          ],
          [
           "Faca Descartável 18cm Darnel Kit com 20 facas Pacote"
          ],
          [
           "Néctar de Uva 150ml - Fruit Shoot Tetra Pak de 150ml Venda por Tetra"
          ],
          [
           "Coquetel Duelo Morango 500ml Garrafa de 500ml Venda por Garrafa"
          ],
          [
           "Vodka Smirnoff 600ml Garrafa de 600ml Venda por Garrafa"
          ],
          [
           "Saco de Papel Viagem 3 13.5 x 26cm Pacote com 500 sacos Pacote"
          ],
          [
           "Mistura para Empanar Milanesa Kisabor 300g Pacote de 300g Venda por Pacote"
          ],
          [
           "Margarina Cremosa com Sal 0.5kg - Qualy Pote de 0.5kg A partir de 2 potes"
          ],
          [
           "Néctar de Laranja 200ml - Maguary Tetra pak de 200ml Venda por Tetra"
          ],
          [
           "Suco Tial 100% Uva 330ml Tetra Pak de 330ml Unidade"
          ],
          [
           "Del Valle Goiaba 290ml Lata de 290ml Unidade"
          ],
          [
           "Limpa Alumínio Triex 500ml Garrafa 500ml Unidade"
          ],
          [
           "Vinagre de Álcool Galo de Barcelos 750ml Pet de 750ml Unidade"
          ],
          [
           "Salsicha Congelada - SEARA Pacote de 5kg 1 pacote (5kg)"
          ],
          [
           "Farinha de Mandioca 1Kg - Hikari Pacote de 1kg Venda por Pacote"
          ],
          [
           "Esponja de Aço Assolan 8 unidades Kit com 8 esponjas Venda por Kit"
          ],
          [
           "Sukita Laranja 200ml Garrafa de 200ml Venda por Garrafa"
          ],
          [
           "Papel higiênico folha simples Sublime leve 16 pague 15 rolos Pacote com 16 rolos Pacote"
          ],
          [
           "Farinha de Trigo para Salgados 5Kg - Suprema Pacote de 5kg Venda por Pacote"
          ],
          [
           "Vinagre de Álcool com Limão Galo de Barcelos 750ml Pet de 750ml Venda por Pet"
          ],
          [
           "Chiclete Trident Menta 21X8g Pacote de 8g Venda por Pacote"
          ],
          [
           "Maionese Predilecta 1,02Kg Sachê de 1,02Kg Unidade"
          ],
          [
           "Filtro de Café 103 3 Corações 30 Unidades Caixa com 30 unidades Venda por Caixa"
          ],
          [
           "Sapólio Radium Cremoso Clássico 450ml Frasco de 450ml Unidade"
          ],
          [
           "Esponja De Aço Bombril Kit com 8 esponjas Pacote"
          ],
          [
           "Margarina com Sal 500g - Delicata Resfriado - Pote de 500g A partir de 2 potes"
          ],
          [
           "Maionese Quero Sachê 1,02kg Sachê de 1,02Kg Venda por Sachê"
          ],
          [
           "Leite em Pó Integral 1kg - Piracanjuba Almofada de 1Kg Venda por Almofada"
          ],
          [
           "Azeitona Verde Fatiada Hemmer 150g Sachê de 150g Venda por Sachê"
          ],
          [
           "Azeitona Verde Fatiada Fornello Balde 2kg Balde 2Kg Unidade"
          ],
          [
           "Água Tônica Antarctica 350ml Lata de 350ml Unidade"
          ],
          [
           "Manteiga Sem Sal 0.5kg - Frimesa Pote de 0.5kg A partir de 2 potes"
          ],
          [
           "Néctar Maracujá Tial 330ml Tetra Pak de 330ml Unidade"
          ],
          [
           "Ketchup Cepêra Sachê 154 x 7g Caixa com 154 Sachês de 7g Venda por Caixa"
          ],
          [
           "Molho de Pimenta Vermelha Cepêra 1,01L Pet de 1,01L Unidade"
          ],
          [
           "Café Cappuccino Classic 3 Corações 400g Pote 400g Venda por Pote"
          ],
          [
           "Creme de Cebola 70g - Hikari Pacote de 70g Venda por Pacote"
          ],
          [
           "Mostarda Sachê 144x5g - Heinz Caixa com 144 sachês de 5g Venda por Caixa"
          ],
          [
           "Macarrão com Ovos Parafuso Dona Benta 500g Pacote de 500g Unidade"
          ],
          [
           "Chocolate Serenata de Amor 825g Pacote com 825g Venda por Pacote"
          ],
          [
           "Kapo Uva 200ml Tetra pak de 200ml A partir de 1 unidade"
          ],
          [
           "Café Brasileiro Extraforte Vácuo 500g Pacote de 500g Venda por Pacote"
          ],
          [
           "Café Extraforte Pouch Melitta 500g Pouch de 500g Unidade"
          ],
          [
           "Cobertura Genuine Branco em Moedas 2,05kg Pacote de 2,05kg Unidade"
          ],
          [
           "Chocolate Talento Avelã 15x25g Caixa com 15 unidades de 25g Venda por Caixa"
          ],
          [
           "Farinha de Trigo Sol 1Kg Pacote de 1kg Unidade"
          ],
          [
           "Água Sanitária Triex 1L Frasco de 1L Unidade"
          ],
          [
           "Azeitona Verde Sem Caroço Hemmer 140g Sachê de 140g Venda por Sachê"
          ],
          [
           "Óleo Composto Maria 2L 2L Unidade"
          ],
          [
           "Cerveja Budweiser American Lager 350ml Lata Lata de 350ml Venda por Lata"
          ],
          [
           "Milho para Canjica Branca Kicaldo 500g Pacote de 500g A partir de 1 unidade"
          ],
          [
           "Trigo Para Kibe 4kg - Kisabor Pacote de 4kg Venda por Pacote"
          ],
          [
           "Queijo de Coalho 285g - Scala Resfriado - Pacote de 285g (7 espetos) A partir de 1 pacote"
          ],
          [
           "Arroz Branco Campeiro 1kg Pacote de 1kg Venda por Pacote"
          ],
          [
           "Costelinha Suína Temperada - All Meat Congelado - Pacote de 1kg Venda por Pacote"
          ],
          [
           "Vinho Tinto Suave Santomé 1L Garrafa de 1L Venda por Garrafa"
          ],
          [
           "Farinha de Mandioca Branca Seca Fina Kicaldo 1Kg Pacote de 1kg Unidade"
          ],
          [
           "Esponja multiuso Triex Leve 4. Pague 3 Pacote c/ 4 esponjas Pacote"
          ],
          [
           "Carne Moída Bovina - Tudbom Congelado - Pacote de 1kg A partir de 1 pacote (1kg)"
          ],
          [
           "Farinha de Mandioca Torrada Kicaldo 1Kg Pacote de 1kg Unidade"
          ],
          [
           "Linguiça tipo Calabresa 2.5Kg - Estrela Pacote de 2.5kg Venda por Pacote"
          ],
          [
           "Sabão em pó Triex Flowers 800g Pacote de 800g Venda por Pacote"
          ],
          [
           "Água Sanitária Triex 2L Galão 2L Unidade"
          ],
          [
           "Amido de Milho Kimimo 500g Pacote de 500g Venda por Pacote"
          ],
          [
           "Fruta Congelada Acerola 1.02Kg - Ricaeli Pacote de 1.02kg Venda por Pacote"
          ],
          [
           "Filezinho Sassami GD - Bello Congelado - Pacote de 6kg Venda por Pacote"
          ],
          [
           "Polpa de Caju - Ricaeli Pacote de 1kg - Contém 10 unidades de 100g A partir de 1 pacote (1kg)"
          ],
          [
           "Cerveja Skol Pilsen Lata 269ml Lata de 269ml Unidade"
          ],
          [
           "Linguiça Mista sabor Calabresa Estreleza 2.5Kg - Estrela Pacote de 2.5kg Venda por Pacote"
          ],
          [
           "Maionese Liza Caseira 2.7kg Balde De 2,7Kg Unidade"
          ],
          [
           "Achocolatado em Pó Nescau 2.0 Sachê 1,2Kg Sachê de 1,2Kg A partir de 1 unidade"
          ],
          [
           "Macarrão com Ovos Padre Nosso 500g - Jóia Pacote de 500g Venda por Pacote"
          ],
          [
           "Ervilha Olé Lata 170g Lata de 170g Venda por Lata"
          ],
          [
           "Detergente Limpol Cristal 500ml Frasco de 500ml Unidade"
          ],
          [
           "Linguiça Toscana - Frimesa Pacote de 5kg 1 pacote (5kg)"
          ],
          [
           "Filé de Tilápia sem Pele - Bello Alimentos Congelado - Pacote de 800g Venda por Pacote"
          ],
          [
           "Cerveja Brahma Chopp Pilsen 350ml Lata Lata de 350ml Unidade"
          ],
          [
           "Ketchup Heinz 397g Frasco de 397g Unidade"
          ],
          [
           "Molho Barbecue Liza 1,02kg Sachê de 1,02Kg A partir de 1 unidade"
          ],
          [
           "Macarrão Penne Semola Dona Benta 500g Pacote de 500g Venda por Pacote"
          ],
          [
           "Extrato de Tomate Elefante 850g Lata de 850g Venda por Lata"
          ],
          [
           "Aperitivo Paratudo 900ml Garrafa de 900ml Venda por Garrafa"
          ],
          [
           "Molho Shoyu Cepêra 1,01L Pet de 1,01L Unidade"
          ],
          [
           "Fanta Laranja 350ml Lata de 350ml Unidade"
          ],
          [
           "Desinfetante Lavandas do Campo Triex 500ml Garrafa de 500ml Venda por Garrafa"
          ],
          [
           "Bala Halls Melancia 21 X 28g Pacote de 28g Venda por Pacote"
          ],
          [
           "Refrigerante Pepsi 350ml Lata Lata de 350ml Unidade"
          ],
          [
           "Mostarda Amarela Cepêra Sachê 175 X 7g Sachês de 7g Caixa"
          ],
          [
           "Suco Tial 100% Laranja e Maçã 330ml Tetra Pak de 330ml Unidade"
          ],
          [
           "Farinha Panko 200g - Hikari Pacote de 200g Venda por Pacote"
          ],
          [
           "Filé de Peito de Frango GD IQF - Lar Congelado - Pacote de 2kg A partir de 1 pacote (2kg)"
          ],
          [
           "Chiclete Trident Melancia 21X8g Pacote de 8g Venda por Pacote"
          ],
          [
           "Queijo Mussarela 4kg - Três Marias Resfriado - Peça de 4kg A partir de 1 peça (4kg)"
          ],
          [
           "Chocolate Classic Ao Leite 22x25g Caixa com 22 barras de 25g Venda por Caixa"
          ],
          [
           "Néctar de Maracujá 1L - Maguary Tetra Pak de 1L Venda por Tetra"
          ],
          [
           "Farinha de Mandioca Torrada 500g - Pantera Pacote de 500g Venda por Pacote"
          ],
          [
           "Desinfetante Triex 2L Galão 2L Unidade"
          ],
          [
           "Fanta Uva 220ml Lata de 220ml Venda por Lata"
          ],
          [
           "Desengordurante Limpol Cozinha Squeeze 500ml Frasco de 500ml Unidade"
          ],
          [
           "Farinha de Trigo Dona Benta 5kg Embalagem de Papel 5kg Venda por Embalagem"
          ],
          [
           "Vinagre de Vinho Tinto 375ml - Galo de Barcelos Garrafa de 375ml Venda por Garrafa"
          ],
          [
           "Almondega Bovina - BJP Mezato Congelado - Pacote de 2kg (80 peças de 25g aprox.) A partir de 1 pacote (2kg)"
          ],
          [
           "Trigo para Kibe 4.5Kg - Hikari Pacote de 4.5Kg Venda por Pacote"
          ],
          [
           "Banha Suína 1kg - SEARA Pacote de 1kg A partir de 1 pacote"
          ],
          [
           "Maionese D'Lanche Foguetinho 200g Bisnaga de 200g Venda por Bisnaga"
          ],
          [
           "Empanado de Frango Recheado com Presunto e Queijo 111g - Seara Congelado - Pacote de 111g Venda por Pacote"
          ],
          [
           "Manteiga Extra sem Sal 5Kg - Hércules Refrigerado - Bloco de 5kg Venda por Refrigerado"
          ],
          [
           "Farinha de Trigo Para Panificação Rosa Branca 25kg Saco de 25kg Venda por Saco"
          ],
          [
           "Papel higiênico folha dupla Bianco leve 24 pague 22 Pacote com 24 rolos Pacote"
          ],
          [
           "Polenta Tolete - Prontinha Pacote de 1kg A partir de 2 pacotes (2kg)"
          ],
          [
           "Presunto Cozido Retangular 3.5kg - SEARA Refrigerado - Peça de 3.5kg Venda por Peça"
          ],
          [
           "Mistura Láctea Condensada Triangulo Mineiro 395g Tetra Pak de 395g Unidade"
          ],
          [
           "Kapo Morango 200ml Tetra pak de 200ml A partir de 1 unidade"
          ],
          [
           "Orégano 8g - Hikari Pacote de 8g Venda por Pacote"
          ],
          [
           "Ketchup Hemmer Sachê 190 x 7g Caixa com 190 sachês de 7g Venda por Caixa"
          ],
          [
           "Néctar de Uva 1L - Maguary Tetra Pak de 1L Venda por Tetra"
          ],
          [
           "Canela Em Pó Pura Aroma das Índias 60g Pacote de 60g Venda por Pacote"
          ],
          [
           "Desinfetante Flores da Primavera Triex 2L Garrafa de 2l Venda por Garrafa"
          ],
          [
           "Suco de Concentrado de Maracujá 500ml - Maguary Garrafa de 500ml Venda por Garrafa"
          ],
          [
           "Caldo de Galinha Maggi 114g Pacote de 114g Venda por Pacote"
          ],
          [
           "Limpador Multiuso Flor de Tangerina Triex 500ml Garrafa de 500ml Venda por Garrafa"
          ],
          [
           "Carne Seca de Traseiro em Cubos 1Kg - Cambuí Pacote de 1kg Venda por Pacote"
          ],
          [
           "Fermento Biológico Dona Benta 500g Pacote de 500g Venda por Pacote"
          ],
          [
           "Vinagre De Vinho Branco Castelo 750ml Pet 750ml Venda por Pet"
          ],
          [
           "Vinagre de Fruta Maçã 375ml - Galo de Barcelos Garrafa de 375ml Venda por Garrafa"
          ],
          [
           "Farinha Panko Oriental Orquídea 1.02kg Pacote de 1.02kg Venda por Pacote"
          ],
          [
           "Lombo de Bacalhau Dessalgado 800g - Se7e Mares Congelado - Pacote de 800g Venda por Pacote"
          ],
          [
           "Vinho Tinto Argentino Novecento Cabernet Sauvignon 750ml Garrafa de 750ml Venda por Garrafa"
          ],
          [
           "Néctar de Maçã 1L - Maguary Tetra Pak de 1L Venda por Tetra"
          ],
          [
           "Batata Pré-Frita Corte Smiles 1.5kg - McCain Pacote de 1.5kg Venda por Pacote"
          ],
          [
           "Pão Francês Integral Congelado 1.3Kg - Brico Bread Pacote de 1.3Kg (Aproximadamente 18 unidades) Venda por Pacote"
          ],
          [
           "Chocolate Bis Xtra Black 24X45g Barra de 45g Venda por Barra"
          ],
          [
           "Chicken Fingers 2Kg - Seara Congelado - Pacote de 2kg Venda por Pacote"
          ],
          [
           "Néctar Uva Yummy 1L Tetrapak de 1L Venda por Tetra"
          ],
          [
           "Atum Ralado em Óleo 170g - Gomes da Costa Lata de 170g Venda por Lata"
          ],
          [
           "Contra Filé Bovino 4Kg - Estrela Refrigerado - Peça de 4Kg Venda por Peça"
          ],
          [
           "Carne Moída de Suíno - Mezato Congelado - Pacote de 2kg Venda por Pacote"
          ],
          [
           "Molho de Tomate Tradicional Sachê 1.7kg - Olé Sachê de 1.7kg Venda por Sachê"
          ],
          [
           "Cobertura Genuine ao Leite 1Kg Barra de 1Kg Venda por Barra"
          ],
          [
           "Contra Filé Bovino 5Kg - Estrela Refrigerado - Peça de 5Kg Venda por Peça"
          ],
          [
           "Néctar Manga Yummy 200ml TetraPak de 200ml Venda por Tetra"
          ],
          [
           "Açaí Tradicional 4.5Kg - Maori Balde de 4.5Kg Venda por Balde"
          ],
          [
           "Cominho Em Pó Aroma das Índias 50g Pacote de 50g Venda por Pacote"
          ],
          [
           "Farinha de Mandioca Torrada Kisabor 500g Pacote de 500g Venda por Pacote"
          ],
          [
           "Álcool Bactericida Top 46° 5L Frasco de 5L A partir de 1 unidade"
          ],
          [
           "Molho de Tomate Pomarola 2Kg Sachê de 2Kg Unidade"
          ],
          [
           "Tekitos Tradicional 2.5kg - Seara Congelado - Pacote de 2.5kg Venda por Pacote"
          ],
          [
           "Dadinho Pré-Frito de Batata Com Queijo 1.05kg - Bem Brasil Pacote de 1.05kg Venda por Pacote"
          ],
          [
           "Carne Moida de Acém 500g - Do Chefe Congelado - Pacote de 500g Venda por Pacote"
          ],
          [
           "Néctar de Maracuja 150ml - Fruit Shoot Tetra Pak de 150ml Venda por Tetra"
          ],
          [
           "Chocolate Lacta Diamante Negro 12x34g Barra de 34g Venda por Barra"
          ],
          [
           "Recheio sabor Chocolate Branco 1kg - Dolci Creme Bisnaga de 1.005kg 1 bisnaga"
          ],
          [
           "Molho Shoyo Cepêra 150ml Pet de 150ml Venda por Pet"
          ],
          [
           "Mostarda Hemmer 3,6kg Galão de 3,6Kg Venda por Galão"
          ],
          [
           "Bebida Láctea Cappuccino Pronto Classic 260ml - 3 Corações Pet de 260ml Venda por Pet"
          ],
          [
           "Tomate Seco Fornello Balde 2kg Balde 2Kg Unidade"
          ],
          [
           "Hambúrguer sabor Picanha CX 2.016Kg - Estrela Congelado - Caixa de 2.016Kg Venda por Caixa"
          ],
          [
           "Molho de Tomate Tradicional Hemmer Sachê 300g Sachê de 300g Venda por Sachê"
          ],
          [
           "Néctar Manga Yummy 1L Tetrapak de 1L Venda por Tetra"
          ],
          [
           "Macarrão com Ovos Penne 500g - Jóia Pacote de 500g Venda por Pacote"
          ],
          [
           "Cobertura Genuine Meio Amargo 1Kg Barra de 1Kg Venda por Barra"
          ],
          [
           "Travesseirinho de Queijo Gouda 1Kg - McCain Pacote de 1kg Venda por Pacote"
          ],
          [
           "Papel Higiênico Folha Dupla Mili 12 Rolos Pacote com 12 rolos Venda por Pacote"
          ],
          [
           "Molho de Tomate Tradicional Heinz Sachê 300g Sachê de 300g Venda por Sachê"
          ],
          [
           "Limpa Vidros Triex 500ml Garrafa 500ml Unidade"
          ],
          [
           "Leite Semidesnatado A2 1L - Piracanjuba Tetrapak de 1L Venda por TetraPak"
          ],
          [
           "Coxas e Sobrecoxas Empanadas - Lar Congelado - Pacote de 1.5kg Venda por Pacote"
          ],
          [
           "Jurubeba Baião de Dois 600ml Garrafa de 600ml Venda por Garrafa"
          ],
          [
           "Néctar Abacaxi com Hortelã Yummy 1L Tetrapak de 1L Venda por Tetra"
          ],
          [
           "Queijo Prato 2.8kg - Scala Peça de 2.8kg 1 peça"
          ],
          [
           "Linguiça Toscana 5Kg - Mezato Congelado - Pacote de 5kg Venda por Pacote"
          ],
          [
           "Atum Sólido em Óleo 170g - Gomes da Costa Lata de 170g Venda por Lata"
          ],
          [
           "Fubá Mimoso 4kg - Kisabor Pacote de 4kg Venda por Pacote"
          ],
          [
           "Polpa de Uva 1kg - Agro Yoshi Pacote de 1kg Venda por Pacote"
          ],
          [
           "Chocolate Genuine Blend 2,1Kg 2,1Kg Unidade"
          ],
          [
           "Mostarda Heinz 2kg Bag de 2Kg Unidade"
          ],
          [
           "Sardinha com Óleo 125g - Gomes da Costa Lata de 125g Venda por Lata"
          ],
          [
           "Noz Moscada Em Pó Aroma das Índias 40g Pacote de 40g Venda por Pacote"
          ],
          [
           "Atum Ralado com Óleo 500g - 88 Sachê de 500g Venda por Sachê"
          ],
          [
           "Cobertura Genuine Branco 2,1Kg 2,1Kg Unidade"
          ],
          [
           "Molho Shoyu Light Premium Cepêra 270ml Frasco de 270ml Venda por Frasco"
          ],
          [
           "Vinho Tinto Suave Santo Expedito 4,5L Garrafa de 4,5L Venda por Garrafa"
          ],
          [
           "Farinha de Mandioca Crua Fina Kisabor 500g Pacote de 500g Venda por Pacote"
          ],
          [
           "Kani Kama - Bom Peixe Pacote de 1kg (28 unidades de 35g aprox.) A partir de 2 pacotes (2kg)"
          ],
          [
           "Patinho Bovino 1.5Kg - Friboi Congelado - Peça de 1.5Kg Venda por Peça"
          ],
          [
           "Recheio sabor Chocolate ao Leite 1kg - Dolci Creme Bisnaga de 1.005kg 1 bisnaga"
          ],
          [
           "Misturas de óleos vegetais 14.5kg - Saúde (Atacado) Balde de 14.5kg Venda por Balde"
          ],
          [
           "Café Seleto Extraforte Almofada 500g Pacote de 500g A partir de 1 unidade"
          ],
          [
           "Kapo Laranja 200ml Tetra pak de 200ml A partir de 1 unidade"
          ],
          [
           "Recheio sabor Creme de Avelã com Cacau 1kg - Dolci Creme Bisnaga de 1.005kg 1 bisnaga"
          ],
          [
           "Cobertura Genuine Meio Amargo em Moedas 2,05kg Pacote de 2,05kg Unidade"
          ],
          [
           "Posta de Cação - Bom Peixe Pacote de 1kg - Aprox. 9 postas A partir de 2 pacotes (2kg)"
          ],
          [
           "Vinho Tinto Suave San Piero 970 ml Garrafa de 970ml Venda por Garrafa"
          ],
          [
           "Extrato de Tomate Quero 300g Sachê de 300g A partir de 1 unidade"
          ],
          [
           "Carne Moída Bovina 1Kg - Estrela Congelado - Pacote de 1kg Venda por Pacote"
          ],
          [
           "Margarina com Sal 15kg - Delicata Resfriado - Balde de 15kg A partir de 1 balde"
          ],
          [
           "Coquetel Corote Morango 500ml Garrafa de 500ml A partir de 1 unidade"
          ],
          [
           "Anéis de Cebola 1.1kg - Morixe Congelado - Pacote de 1.1kg A partir de 1 pacote"
          ],
          [
           "Carne Seca Bovina de Traseiro Pq - Mineiro Resfriado - Pacote de 1kg A partir de 1 pacote (1kg)"
          ],
          [
           "Vinagre de Vinho Branco 375ml - Galo de Barcelos Garrafa de 375ml Venda por Garrafa"
          ],
          [
           "Creme de Avelã Triângulo Mineiro 3kg Balde de 3kg Unidade"
          ],
          [
           "Ketchup Galão Stella d'Oro 3,2Kg Galão de 3,2kg Venda por Galão"
          ],
          [
           "Café Tradicional Pouch Melitta 250g Pouch de 250g Unidade"
          ],
          [
           "Saquê Jurojin 750ml Garrafa de 750ml Venda por Garrafa"
          ],
          [
           "Carne Seca de Dianteiro em Cubos 1Kg - Cambuí Pacote de 1kg Venda por Pacote"
          ],
          [
           "Batata Pré-Frita Crinkle Fries 2.5kg - McCain Congelado - Pacote de 2.5kg A partir de 1 pacote"
          ],
          [
           "Chocolate Crunch 22x22,5g Caixa com 22 barras de 22,5g Venda por Caixa"
          ],
          [
           "Café Extraforte  a Vácuo Melitta 500g Pacote de 500g Unidade"
          ],
          [
           "Cerveja Corona Lata 269ml Lata de 269ml Venda por Lata"
          ],
          [
           "Arroz Parboilizado Tio João 5kg Pacote de 5kg Venda por Pacote"
          ],
          [
           "Vinho Tinto Argentino Novecento Malbec 750ml Garrafa de 750ml Venda por Garrafa"
          ],
          [
           "Creme Cebola Kisabor 1,01Kg Pacote de 1,01Kg Venda por Pacote"
          ]
         ],
         "hovertemplate": "Cluster_Label=TAIL<br>GMV (USD)=%{x}<br>Penetración=%{y}<br>product_name=%{customdata[0]}<extra></extra>",
         "legendgroup": "TAIL",
         "marker": {
          "color": "#636efa",
          "symbol": "circle"
         },
         "mode": "markers",
         "name": "TAIL",
         "orientation": "v",
         "showlegend": true,
         "type": "scatter",
         "x": [
          6814.39862,
          6059.98054,
          10412.05105,
          11695.63887,
          8358.83379,
          2138.34355,
          4864.74956,
          20256.9161,
          14977.07523,
          1999.8706,
          7886.88355,
          5677.05778,
          5006.31317,
          6107.69311,
          805.76405,
          8767.80428,
          7597.5839,
          8439.80156,
          1165.61619,
          2455.5695,
          20659.50165,
          7717.99868,
          684.32332,
          1544.66507,
          682.37836,
          2248.39001,
          1622.80671,
          3645.57918,
          7264.67026,
          1232.79292,
          3612.99314,
          7402.80807,
          3415.13267,
          2888.64486,
          3845.79226,
          567.14187,
          1893.45519,
          561.62245,
          1142.28115,
          737.34908,
          1526.87049,
          330.14715,
          3734.82631,
          1958.05813,
          3035.17877,
          2976.08147,
          7233.73765,
          1151.18917,
          12708.16798,
          564.57032,
          11868.32694,
          3353.34874,
          1550.04257,
          17468.49379,
          11066.06732,
          13269.66838,
          14210.31392,
          23192.16393,
          5190.93082,
          8875.32706,
          9620.94366,
          1642.60724,
          23191.99941,
          7460.34936,
          10439.43166,
          3708.73447,
          5230.90835,
          15875.57202,
          1870.98895,
          14664.91054,
          20316.82093,
          20612.20341,
          10983.76197,
          6036.61575,
          4298.47374,
          7620.54918,
          4285.77468,
          2355.69576,
          5190.88533,
          3817.3907,
          1074.11752,
          647.64778,
          9513.20431,
          1726.84158,
          2419.51206,
          31.30724,
          6819.3027,
          2396.69697,
          175.92196,
          110.64626,
          4971.45893,
          10521.03453,
          2960.48009,
          2704.75501,
          4470.23537,
          1483.84514,
          16335.40921,
          14663.16103,
          7416.07641,
          2807.59461,
          3471.54896,
          15226.69792,
          21608.18218,
          10540.13338,
          13270.16751,
          11266.81152,
          4566.89617,
          13005.25738,
          7702.36507,
          923.24127,
          5722.55901,
          6483.54236,
          213.42092,
          5196.15839,
          1350.62017,
          15459.57559,
          7275.8123,
          11542.66268,
          10724.77042,
          2221.68679,
          17385.55646,
          1688.94279,
          6047.03515,
          7939.41387,
          4209.33978,
          7327.11602,
          2058.43935,
          1623.03458,
          4617.98867,
          2602.07177,
          7267.09518,
          5779.80686,
          6927.71067,
          8382.58366,
          3668.43347,
          1139.11554,
          3846.28847,
          1630.17511,
          4656.86192,
          2060.00126,
          2132.36551,
          8685.65524,
          2061.84124,
          6421.42331,
          3095.97877,
          4739.8004,
          4303.33157,
          7297.9184,
          6513.10458,
          1292.14875,
          12266.20129,
          785.00152,
          7012.50935,
          4263.96126,
          2798.58067,
          18593.61792,
          1578.66692,
          1729.46286,
          16360.8108,
          3850.63644,
          1315.62891,
          1716.54619,
          17117.26953,
          6327.62026,
          5613.5898,
          5211.32395,
          10149.54325,
          11480.81651,
          960.8685,
          9901.21963,
          53.34729,
          501.37247,
          6200.62003,
          878.81604,
          1197.05815,
          1930.79724,
          606.78911,
          13920.87967,
          2432.46349,
          1129.28908,
          4603.88799,
          1999.07789,
          2742.4984,
          5734.73378,
          648.83348,
          831.23326,
          1440.8922,
          2057.48502,
          3210.26866,
          1353.05116,
          121.76418,
          342.31576,
          1973.75327,
          2005.08309,
          351.10729,
          2554.81676,
          187.40841,
          9139.24979,
          5907.95644,
          217.3431,
          825.43328,
          739.95778,
          2030.94723,
          628.12608,
          115.18083,
          374.22911,
          5557.54727,
          629.88597,
          255.35568,
          382.3747,
          1661.38923,
          27.741,
          2873.16402,
          1217.55775,
          193.33886,
          319.0483,
          301.46945,
          135.71783,
          52.88202,
          520.88624,
          367.58099,
          20.77891,
          146.87154,
          108.03577,
          170.69894,
          118.35789,
          11.46104,
          2.05684,
          29.33473,
          38.08417,
          664.37426,
          8250.89324,
          1338.21018,
          2515.7993,
          2261.51291,
          2643.00292,
          414.29426,
          397.98086,
          3468.75744,
          18459.58686,
          47.88205,
          1046.23725,
          1546.58082,
          568.12365,
          544.40611,
          13901.57038,
          1303.43293,
          649.33858,
          997.69233,
          1096.00522,
          1878.65843,
          1034.47562,
          20.24208,
          379.62927,
          87.84,
          533.27989,
          211.40206,
          17.15368,
          6.50736,
          8135.65615,
          1313.51726,
          6062.42542,
          5197.68821,
          5223.13564,
          19779.55081,
          16061.06857,
          15300.46048,
          4840.60869,
          2587.93276,
          2288.53392,
          3123.70781,
          15183.64758,
          5367.34969,
          21541.11316,
          2856.07155,
          294.38312,
          2545.10927,
          5645.75462,
          621.80948,
          6004.43889,
          10740.78969,
          1077.98461,
          15178.14988,
          5058.71716,
          1491.81193,
          8108.08417,
          2239.11139,
          267.51132,
          2066.24467,
          1869.43567,
          2306.04518,
          638.98259,
          2228.27888,
          10677.68841,
          1577.8562,
          7984.95749,
          424.36387,
          6740.05827,
          3824.60489,
          1390.47103,
          8500.95058,
          22889.85867,
          2285.24773,
          297.40596,
          1065.79217,
          766.01176,
          3075.08606,
          371.25013,
          533.32817,
          1143.47203,
          715.92801,
          4563.67549,
          302.5871,
          5184.03894,
          1157.59711,
          2146.03707,
          4166.42034,
          5693.37968,
          2705.12572,
          965.02296,
          2789.75334,
          333.39325,
          438.64408,
          361.23966,
          229.13047,
          8795.48152,
          36.74104,
          1705.26088,
          49.90724,
          19.53683,
          304.74732,
          252.74945,
          53.62522,
          545.4105,
          8.93894,
          438.3218,
          1250.26667,
          2320.17822,
          525.32181,
          2716.42066,
          249.17248,
          951.22485,
          197.91554,
          113.58313,
          2850.1742,
          310.24408,
          564.39355,
          153.95361,
          88.10716,
          737.51418,
          465.67363,
          1326.06301,
          27.34735,
          125.01048,
          100.96208,
          127.09894,
          4.47789,
          14049.24184,
          20904.541,
          5439.29078,
          4014.31632,
          571.20409,
          5440.06495,
          17585.89724,
          205.5721,
          13821.4983,
          12363.48505,
          11479.84967,
          749.34479,
          1268.63385,
          15788.00577,
          6006.1951,
          3413.31216,
          1343.04236,
          4850.91815,
          8174.57846,
          10990.38298,
          22914.25463,
          1807.9226,
          3008.50187,
          588.05655,
          6535.15856,
          940.86424,
          99.06098,
          16886.99951,
          2373.25205,
          1583.7972,
          621.81663,
          7920.1418,
          444.76378,
          527.57857,
          104.63358,
          345.26287,
          2219.23307,
          102.36628,
          405.22077,
          380.61431,
          767.00817,
          229.92202,
          155.29048,
          782.37235,
          16.91788,
          34.30736,
          11448.56229,
          11836.52341,
          1818.0029,
          16712.8703,
          7517.77631,
          16328.12681,
          1009.29636,
          5445.93551,
          7031.26355,
          6069.47774,
          2465.75887,
          6574.37358,
          22394.97535,
          2381.32928,
          6320.76087,
          184.0884,
          16593.18405,
          2665.63074,
          9440.17879,
          1231.00117,
          3377.27146,
          1529.75916,
          454.06663,
          3367.60868,
          3593.82589,
          644.82232,
          9745.07911,
          165.80205,
          1642.01752,
          19066.5426,
          2219.93949,
          2229.02854,
          3952.22207,
          952.7573,
          1115.30236,
          9253.25505,
          4464.02034,
          1286.55558,
          7031.46717,
          1884.2741,
          773.22899,
          387.80105,
          12865.41028,
          820.82717,
          322.18081,
          163.04834,
          210.55567,
          1006.41432,
          568.76605,
          273.25258,
          1394.50689,
          1326.07107,
          106.06519,
          270.37802,
          2279.1586,
          2956.94205,
          2502.35669,
          17820.03957,
          11140.81337,
          1359.06266,
          1243.0856,
          5879.16548,
          10226.69805,
          625.08993,
          2130.47962,
          944.08754,
          1436.16518,
          6242.36103,
          9365.12578,
          11539.01716,
          8211.41556,
          12852.47919,
          5079.70296,
          9018.19724,
          5355.07645,
          12993.69686,
          71.43997,
          13592.60959,
          3289.95662,
          2017.94704,
          2423.44578,
          2676.46433,
          14215.84073,
          12960.60535,
          2052.11988,
          216.903,
          4516.33481,
          3225.02158,
          3544.47009,
          4564.62215,
          9675.98188,
          131.59358,
          1370.10632,
          359.82057,
          699.12626,
          381.48799,
          757.18661,
          938.57667,
          295.29443,
          111.43365,
          4235.44564,
          168.02942,
          1600.05463,
          7230.35755,
          1435.2707,
          12944.34151,
          6628.47407,
          22400.95692,
          3329.78858,
          16251.88301,
          2272.13459,
          4249.04821,
          10881.45195,
          3318.62981,
          8243.99924,
          20615.72649,
          5482.50752,
          1213.23438,
          2651.4516,
          81.51361,
          3097.53968,
          2055.85749,
          4548.55616,
          1705.10846,
          875.6967,
          4390.54012,
          9957.00202,
          13643.36642,
          848.26927,
          150.34937,
          773.2735,
          932.23712,
          1435.81815,
          2490.18885,
          2993.73978,
          7458.19341,
          5439.64743,
          213.28611,
          865.99536,
          3058.82054,
          3869.16283,
          533.23198,
          27.32838,
          52.73656,
          397.01462,
          613.05669,
          216.60629,
          244.23771,
          531.81459,
          1021.06087,
          315.46278,
          597.51756,
          86.39365,
          654.51257,
          126.58938,
          132.64193,
          306.66713,
          748.04198,
          218.52624,
          377.60207,
          323.07359,
          1000.53456,
          1097.77006,
          953.61912,
          279.38514,
          114.50307,
          327.9136,
          74.87999,
          70.70734,
          143.43356,
          53.68625,
          1496.07572,
          94.23993,
          3760.21236,
          1.06315,
          31.66314,
          3.7221,
          191.78508,
          27.50526,
          157.25048,
          13.13684,
          19243.62335,
          4033.57596,
          9436.87264,
          6097.06423,
          20668.25105,
          1950.78359,
          4416.25398,
          13885.51324,
          3012.42608,
          11004.90781,
          972.57198,
          3543.86922,
          10964.40734,
          15430.61863,
          13957.18801,
          2207.01889,
          7705.18702,
          2214.51016,
          3512.8817,
          2776.58199,
          9127.12521,
          2794.41321,
          3510.82596,
          20765.52341,
          4832.80408,
          1911.72992,
          563.54251,
          9380.11578,
          759.92995,
          13404.68672,
          2610.72782,
          1257.37448,
          3018.69164,
          4029.75259,
          438.60401,
          5972.13978,
          1676.15272,
          7100.53778,
          842.45638,
          1117.22262,
          3473.46196,
          2017.79284,
          847.05405,
          237.27779,
          759.894,
          6998.42024,
          5971.54477,
          5110.89864,
          239.0647,
          155.62101,
          353.15771,
          2395.39343,
          2986.1804,
          2649.8652,
          1900.44328,
          83.90516,
          561.55762,
          489.18272,
          3.66946,
          1145.43134,
          718.87786,
          167.51999,
          1377.25427,
          20.97257,
          451.8312,
          284.7662,
          623.42298,
          9.90526,
          21.27157,
          14508.18555,
          2270.61422,
          8486.82661,
          7487.30063,
          4536.05191,
          7459.53606,
          22149.29872,
          1071.21387,
          5519.91943,
          5778.71702,
          3438.67712,
          9260.7137,
          136.0672,
          4177.41804,
          1834.82304,
          4530.29776,
          4057.84322,
          11696.38674,
          2561.42315,
          2089.5252,
          15537.67966,
          400.14068,
          8201.37251,
          10594.15238,
          3992.31475,
          4783.34939,
          15534.97529,
          3059.43256,
          4808.73149,
          559.54455,
          2983.61193,
          8318.19103,
          386.87138,
          2526.79511,
          17042.95147,
          5617.14207,
          259.90732,
          291.03776,
          14353.82876,
          2417.25079,
          618.50877,
          4214.65563,
          1938.16365,
          1806.51275,
          458.05665,
          3352.79716,
          4473.73866,
          1398.99542,
          718.82289,
          16174.48979,
          5579.21328,
          6774.47416,
          3819.82909,
          3184.7726,
          2893.19065,
          11629.73831,
          14282.65031,
          7360.65126,
          23207.02594,
          2839.01132,
          20891.08028,
          8258.66661,
          14026.85466,
          160.18308,
          605.84385,
          8660.09344,
          15227.36117,
          19972.75419,
          15712.53697,
          3170.37378,
          2794.5653,
          1298.35094,
          1774.88019,
          794.17873,
          6159.04819,
          9161.565,
          15530.69675,
          696.01309,
          1174.46439,
          11710.07662,
          6747.28417,
          3689.55666,
          2188.75823,
          10589.29448,
          2007.24132,
          13416.33634,
          662.76388,
          1092.44181,
          554.02475,
          1218.24464,
          1769.077,
          738.69191,
          11628.08321,
          96.11146,
          2212.92964,
          2580.34237,
          1853.0033,
          90.40828,
          1439.76747,
          2483.11768,
          9134.23328,
          3810.64687,
          4229.0257,
          4985.7968,
          3488.21994,
          1922.84147,
          139.51115,
          2426.19502,
          1460.05223,
          67.93884,
          720.29344,
          4094.52563,
          108.85456,
          675.45135,
          345.50095,
          895.60378,
          308.79751,
          76.90508,
          700.43562,
          434.92417,
          366.58944,
          627.13247,
          843.57872,
          192.63569,
          339.33043,
          246.16835,
          207.76417,
          110.79153,
          1624.94052,
          415.9072,
          801.66302,
          144.46302,
          263.92274,
          823.69891,
          36.62525,
          16.29049,
          24.73472,
          1800.00374,
          5377.59249,
          2482.93626,
          620.42713,
          885.53876,
          192.07561,
          1442.32155,
          1491.98503,
          324.93641,
          589.7387,
          354.90934,
          3780.48745,
          1388.41875,
          305.87547,
          959.51988,
          1706.42227,
          329.65888,
          315.56202,
          1116.23675,
          843.74454,
          297.26049,
          491.06307,
          1041.82071,
          97.59782,
          757.46513,
          3105.55346,
          648.32618,
          79.95786,
          282.24411,
          243.83991,
          342.86313,
          523.75572,
          80.07785,
          23.65259,
          94.91789,
          264.91785,
          10.87788,
          114.12209,
          1.02736,
          1557.2523,
          329.06494,
          1449.95984,
          7255.03359,
          9247.32486,
          633.04395,
          897.2207,
          193.49258,
          2171.43331,
          63.0926,
          772.16154,
          2023.37437,
          488.3957,
          274.23153,
          801.75132,
          367.15572,
          109.16621,
          357.04627,
          59.69683,
          1863.63111,
          190.63565,
          163.30522,
          667.3557,
          247.36415,
          64.87577,
          297.70728,
          755.57023,
          23.20841,
          153.70728
         ],
         "xaxis": "x",
         "y": [
          4.91581302248911,
          3.22029906982221,
          1.56010832450253,
          8.91322265395031,
          6.82326621923937,
          1.28340986694925,
          5.42211232779936,
          3.84434239962322,
          4.14458966207465,
          1.1656658424585,
          4.7274225833039,
          0.682915342046391,
          2.66101495349111,
          0.835982573884375,
          0.153067231837984,
          2.92593900859531,
          2.37254209348876,
          3.24384787472036,
          0.62993053102555,
          0.71235134816908,
          3.12021664900506,
          2.06640762981279,
          0.806546567761686,
          0.241375250206052,
          0.671140939597315,
          1.18332744613211,
          1.03026021429412,
          2.06640762981279,
          1.09501942776404,
          0.71235134816908,
          0.423878488166726,
          3.20263746614859,
          1.51889791593077,
          2.35488048981514,
          1.28929706817379,
          1.08324502531497,
          1.21865065347934,
          0.871305781231603,
          0.777110561638997,
          0.200164841634287,
          1.51889791593077,
          0.223713646532438,
          0.830095372659837,
          0.694689744495467,
          0.170728835511598,
          0.612268927351937,
          1.10090662898858,
          0.217826445307901,
          0.435652890615801,
          0.158954433062522,
          1.27752266572471,
          0.270811256328741,
          1.62486753797245,
          5.08654185800071,
          1.99576121511833,
          0.588720122453785,
          4.42128811962793,
          2.3489932885906,
          1.13622983633581,
          3.3439302955375,
          3.04957023431061,
          0.647592134699164,
          2.29012127634523,
          2.73166136818556,
          5.02766984575533,
          1.00082420817144,
          2.15471564818085,
          4.2917696926881,
          0.217826445307901,
          1.17155304368303,
          5.96962204168138,
          2.40786530083598,
          3.83845519839868,
          0.57694572000471,
          1.74849876368774,
          4.47427293064877,
          0.8242081714353,
          0.830095372659837,
          0.671140939597315,
          1.38937948899093,
          0.429765689391263,
          0.74178735429177,
          1.63664194042152,
          0.512186506534793,
          1.477687507359,
          0.123631225715295,
          1.41292829388909,
          1.54244672082892,
          0.111856823266219,
          0.0941952195926057,
          1.55422112327799,
          0.618156128576475,
          1.61309313552337,
          0.87719298245614,
          2.79053338043094,
          1.05380901919228,
          3.60885435064171,
          4.38007771105616,
          2.18415165430354,
          1.2598610620511,
          0.647592134699164,
          0.482750500412104,
          2.34310608736607,
          5.45743553514659,
          2.37254209348876,
          2.68456375838926,
          2.10761803838455,
          0.747674555516308,
          2.92005180737078,
          0.812433768986224,
          0.735900153067232,
          0.95961379959967,
          0.135405628164371,
          2.6433533498175,
          0.700576945720005,
          1.54833392205346,
          1.44825150123631,
          1.63664194042152,
          1.72494995878959,
          1.50123631225715,
          2.46085011185682,
          0.270811256328741,
          2.23124926409985,
          0.476863299187566,
          0.8242081714353,
          1.31873307429648,
          1.97221241022018,
          0.694689744495467,
          0.300247262451431,
          1.87212998940304,
          6.79383021311668,
          0.365006475921347,
          0.682915342046391,
          0.883080183680678,
          1.04792181796774,
          0.353232073472271,
          2.88472860002355,
          1.05969622041681,
          0.777110561638997,
          0.835982573884375,
          2.22536206287531,
          1.11268103143765,
          0.57694572000471,
          1.07147062286589,
          0.535735311432945,
          2.4726245143059,
          2.36665489226422,
          1.42470269633816,
          4.66855057105852,
          0.806546567761686,
          1.96632520899564,
          0.624043329801013,
          4.02095843635936,
          1.96043800777111,
          0.288472860002355,
          4.7745201931002,
          0.376780878370423,
          1.6955139526669,
          4.09160485105381,
          4.23289768044272,
          0.488637701636642,
          3.13199105145414,
          1.96043800777111,
          2.28423407512069,
          2.03108442246556,
          4.03862004003297,
          4.22701047921818,
          1.70140115389144,
          0.588720122453785,
          4.66266336983398,
          0.0883080183680678,
          0.135405628164371,
          1.11268103143765,
          0.559284116331096,
          0.618156128576475,
          0.688802543270929,
          0.312021664900506,
          0.624043329801013,
          1.15977864123396,
          0.977275403273284,
          0.930177793476981,
          1.8662427881785,
          0.417991286942188,
          0.777110561638997,
          0.312021664900506,
          0.406216884493112,
          0.347344872247733,
          1.14211703756034,
          1.98987401389379,
          1.20098904980572,
          0.0470976097963028,
          0.0883080183680678,
          1.23042505592841,
          0.765336159189921,
          0.0765336159189921,
          0.111856823266219,
          0.041210408571765,
          0.71235134816908,
          0.98904980572236,
          0.0941952195926057,
          0.406216884493112,
          0.16484163428706,
          0.188390439185211,
          0.182503237960673,
          0.264924055104203,
          0.406216884493112,
          0.158954433062522,
          0.24726245143059,
          0.141292829388909,
          0.270811256328741,
          0.241375250206052,
          0.041210408571765,
          0.323796067349582,
          0.194277640409749,
          0.0706464146944543,
          0.135405628164371,
          0.0176616036736136,
          0.0883080183680678,
          0.0765336159189921,
          0.0294360061226893,
          0.08242081714353,
          0.0353232073472271,
          0.041210408571765,
          0.0176616036736136,
          0.0176616036736136,
          0.0176616036736136,
          0.0176616036736136,
          0.00588720122453785,
          0.00588720122453785,
          0.0235488048981514,
          0.653479335923702,
          0.671140939597315,
          0.465088896738491,
          0.535735311432945,
          0.264924055104203,
          1.20687625103026,
          0.447427293064877,
          0.223713646532438,
          0.406216884493112,
          0.753561756740845,
          0.0706464146944543,
          0.62993053102555,
          0.211939244083363,
          0.653479335923702,
          0.153067231837984,
          2.4726245143059,
          0.488637701636642,
          0.294360061226893,
          0.294360061226893,
          0.176616036736136,
          0.488637701636642,
          0.429765689391263,
          0.0235488048981514,
          0.147180030613446,
          0.111856823266219,
          0.129518426939833,
          0.0235488048981514,
          0.00588720122453785,
          0.00588720122453785,
          0.747674555516308,
          0.747674555516308,
          2.44907570940775,
          1.0891322265395,
          2.3489932885906,
          1.12445543388673,
          1.83680678205581,
          7.54739196985753,
          1.54244672082892,
          1.62486753797245,
          1.95455080654657,
          2.41375250206052,
          2.75521017308372,
          2.00164841634287,
          2.19592605675262,
          1.41881549511362,
          0.0765336159189921,
          2.4726245143059,
          2.14294124573178,
          0.624043329801013,
          0.818320970210762,
          1.49534911103262,
          0.518073707759331,
          1.46591310490993,
          0.671140939597315,
          0.87719298245614,
          1.51889791593077,
          1.6484163428706,
          0.241375250206052,
          1.26574826327564,
          0.317908866125044,
          0.865418580007065,
          0.49452490286118,
          0.771223360414459,
          1.8191451783822,
          0.429765689391263,
          1.24808665960203,
          0.259036853879666,
          1.12445543388673,
          1.21865065347934,
          0.406216884493112,
          0.677028140821853,
          0.417991286942188,
          0.547509713882021,
          0.200164841634287,
          1.10090662898858,
          1.48357470858354,
          3.47933592370187,
          0.370893677145885,
          0.170728835511598,
          1.26574826327564,
          0.41210408571765,
          1.80737077593312,
          0.323796067349582,
          0.582832921229248,
          0.588720122453785,
          0.641704933474626,
          0.547509713882021,
          0.953726598375133,
          0.624043329801013,
          0.241375250206052,
          0.200164841634287,
          0.400329683268574,
          0.200164841634287,
          0.270811256328741,
          0.100082420817144,
          0.476863299187566,
          0.0176616036736136,
          0.32968326857412,
          0.117744024490757,
          0.0294360061226893,
          0.0470976097963028,
          0.0294360061226893,
          0.0941952195926057,
          0.0529848110208407,
          0.0117744024490757,
          0.24726245143059,
          0.677028140821853,
          0.423878488166726,
          0.211939244083363,
          0.206052042858825,
          0.223713646532438,
          0.306134463675968,
          0.158954433062522,
          0.0647592134699164,
          0.612268927351937,
          0.200164841634287,
          0.08242081714353,
          0.0647592134699164,
          0.211939244083363,
          0.105969622041681,
          0.0941952195926057,
          0.158954433062522,
          0.0235488048981514,
          0.0588720122453785,
          0.0176616036736136,
          0.0117744024490757,
          0.00588720122453785,
          2.30778288001884,
          1.70140115389144,
          2.60214294124573,
          1.00082420817144,
          0.117744024490757,
          1.2127634522548,
          10.2613917343695,
          0.49452490286118,
          2.79053338043094,
          1.20098904980572,
          6.28753090780643,
          0.506299305310255,
          1.06558342164135,
          5.75179559637348,
          0.417991286942188,
          2.12527964205817,
          1.42470269633816,
          1.2127634522548,
          4.54491934534322,
          1.48946190980808,
          2.46085011185682,
          1.98987401389379,
          0.830095372659837,
          0.370893677145885,
          1.13622983633581,
          0.947839397150595,
          0.100082420817144,
          1.63075473919699,
          0.518073707759331,
          0.571058518780172,
          0.282585658777817,
          0.49452490286118,
          0.406216884493112,
          0.317908866125044,
          0.135405628164371,
          0.294360061226893,
          0.606381726127399,
          0.0235488048981514,
          0.323796067349582,
          0.312021664900506,
          0.270811256328741,
          0.147180030613446,
          0.0588720122453785,
          0.16484163428706,
          0.0235488048981514,
          0.0117744024490757,
          3.06723183798422,
          1.88979159307665,
          0.753561756740845,
          1.71317555634052,
          2.99069822206523,
          4.02684563758389,
          0.606381726127399,
          1.03026021429412,
          1.40115389144001,
          1.71317555634052,
          0.983162604497822,
          1.6955139526669,
          2.7375485694101,
          1.11268103143765,
          1.33050747674556,
          0.0470976097963028,
          5.58695396208642,
          0.400329683268574,
          1.46591310490993,
          0.71235134816908,
          1.23042505592841,
          0.606381726127399,
          0.847756976333451,
          3.48522312492641,
          1.29518426939833,
          0.718238549393618,
          2.99658542328977,
          0.0588720122453785,
          1.12445543388673,
          1.53067231837984,
          0.983162604497822,
          0.71235134816908,
          1.82503237960673,
          0.523960908983869,
          0.488637701636642,
          1.50712351348169,
          0.624043329801013,
          0.259036853879666,
          1.39526669021547,
          1.21865065347934,
          0.571058518780172,
          0.95961379959967,
          0.600494524902861,
          0.406216884493112,
          0.211939244083363,
          0.0529848110208407,
          0.170728835511598,
          0.365006475921347,
          0.223713646532438,
          0.0470976097963028,
          0.253149652655128,
          0.512186506534793,
          0.0588720122453785,
          0.865418580007065,
          0.965501000824208,
          0.730012951842694,
          2.33721888614153,
          3.031908630637,
          3.57353114329448,
          0.535735311432945,
          0.541622512657483,
          0.500412104085718,
          2.68456375838926,
          0.847756976333451,
          0.206052042858825,
          0.818320970210762,
          1.14211703756034,
          0.98904980572236,
          1.81325797715766,
          0.718238549393618,
          0.847756976333451,
          0.8242081714353,
          1.85446838572942,
          1.53067231837984,
          3.53820793594725,
          0.971388202048746,
          0.0353232073472271,
          0.677028140821853,
          0.571058518780172,
          1.23042505592841,
          0.624043329801013,
          1.15389144000942,
          0.777110561638997,
          0.753561756740845,
          1.63664194042152,
          0.129518426939833,
          0.541622512657483,
          1.08324502531497,
          1.1656658424585,
          0.847756976333451,
          1.10679383021312,
          0.0883080183680678,
          0.953726598375133,
          0.312021664900506,
          0.111856823266219,
          0.335570469798658,
          0.671140939597315,
          0.135405628164371,
          0.200164841634287,
          0.123631225715295,
          0.500412104085718,
          0.0470976097963028,
          0.170728835511598,
          1.94866360532203,
          2.61391734369481,
          3.60296714941717,
          1.22453785470387,
          5.4279995290239,
          0.859531378782527,
          0.965501000824208,
          1.66607794654421,
          1.44825150123631,
          0.57694572000471,
          1.64252914164606,
          1.58954433062522,
          5.41622512657483,
          1.49534911103262,
          0.936064994701519,
          0.753561756740845,
          0.0883080183680678,
          1.24808665960203,
          1.27752266572471,
          0.406216884493112,
          1.19510184858118,
          0.276698457553279,
          0.971388202048746,
          1.03614741551866,
          1.64252914164606,
          0.211939244083363,
          0.105969622041681,
          0.194277640409749,
          0.777110561638997,
          0.8242081714353,
          0.500412104085718,
          0.918403391027905,
          0.694689744495467,
          0.547509713882021,
          0.217826445307901,
          0.535735311432945,
          2.19003885552808,
          0.688802543270929,
          0.0529848110208407,
          0.0470976097963028,
          0.359119274696809,
          0.100082420817144,
          0.176616036736136,
          0.0470976097963028,
          0.188390439185211,
          0.16484163428706,
          0.123631225715295,
          0.347344872247733,
          0.176616036736136,
          0.0294360061226893,
          0.0588720122453785,
          0.0588720122453785,
          0.206052042858825,
          0.288472860002355,
          0.158954433062522,
          0.0588720122453785,
          0.041210408571765,
          0.0470976097963028,
          0.08242081714353,
          0.300247262451431,
          0.0765336159189921,
          0.111856823266219,
          0.0941952195926057,
          0.111856823266219,
          0.0117744024490757,
          0.0117744024490757,
          0.188390439185211,
          0.0588720122453785,
          0.08242081714353,
          0.0706464146944543,
          0.0941952195926057,
          0.00588720122453785,
          0.0176616036736136,
          0.00588720122453785,
          0.135405628164371,
          0.0176616036736136,
          0.041210408571765,
          0.00588720122453785,
          4.2917696926881,
          0.653479335923702,
          2.59625574002119,
          2.64924055104203,
          3.43223831390557,
          1.5247851171553,
          2.59036853879666,
          2.37842929471329,
          3.1732014600259,
          2.3489932885906,
          0.49452490286118,
          0.147180030613446,
          3.35570469798658,
          1.80737077593312,
          6.46414694454256,
          1.29518426939833,
          1.77204756858589,
          1.46591310490993,
          0.606381726127399,
          1.37171788531732,
          6.59955257270694,
          0.888967384905216,
          0.853644177557989,
          2.37842929471329,
          0.141292829388909,
          0.49452490286118,
          0.565171317555634,
          2.59036853879666,
          0.441540091840339,
          2.31367008124338,
          0.429765689391263,
          0.276698457553279,
          2.07818203226186,
          0.865418580007065,
          0.24726245143059,
          0.924290592252443,
          1.15389144000942,
          0.941952195926057,
          0.406216884493112,
          0.49452490286118,
          1.07735782409043,
          0.871305781231603,
          0.665253738372778,
          0.100082420817144,
          0.565171317555634,
          1.07147062286589,
          0.65936653714824,
          0.206052042858825,
          0.847756976333451,
          0.0470976097963028,
          0.235488048981514,
          0.217826445307901,
          0.700576945720005,
          0.0883080183680678,
          0.8242081714353,
          0.129518426939833,
          0.188390439185211,
          0.417991286942188,
          0.0117744024490757,
          0.229600847756976,
          0.0529848110208407,
          0.0470976097963028,
          0.370893677145885,
          0.0706464146944543,
          0.400329683268574,
          0.111856823266219,
          0.147180030613446,
          0.00588720122453785,
          0.0176616036736136,
          5.37501471800306,
          0.571058518780172,
          2.20181325797716,
          3.43223831390557,
          2.83174378900271,
          7.45319675026492,
          3.63829035676439,
          0.782997762863535,
          7.37077593312139,
          2.75521017308372,
          1.83091958083127,
          1.03026021429412,
          0.188390439185211,
          1.38937948899093,
          1.2598610620511,
          4.78629459554928,
          2.23713646532438,
          11.4329447780525,
          1.77793476981043,
          1.01259861062051,
          1.76027316613682,
          0.447427293064877,
          1.56599552572707,
          3.89144000941952,
          0.912516189803367,
          1.68962675144236,
          4.9452490286118,
          2.53149652655128,
          0.918403391027905,
          0.677028140821853,
          0.994937006946897,
          3.75014718003061,
          0.135405628164371,
          0.8242081714353,
          2.19003885552808,
          1.00082420817144,
          0.0470976097963028,
          0.16484163428706,
          4.22112327799364,
          1.41292829388909,
          0.665253738372778,
          0.8242081714353,
          0.441540091840339,
          1.07735782409043,
          0.135405628164371,
          0.71235134816908,
          1.78970917225951,
          0.470976097963028,
          0.294360061226893,
          3.72659837513246,
          7.14117508536442,
          1.06558342164135,
          1.40704109266455,
          0.841869775108913,
          3.16731425880137,
          6.50535735311433,
          3.9032144118686,
          3.17908866125044,
          1.40704109266455,
          1.55422112327799,
          2.45496291063229,
          1.68962675144236,
          1.6484163428706,
          0.100082420817144,
          0.476863299187566,
          3.91498881431767,
          4.69209937595667,
          2.54327092900035,
          1.48357470858354,
          0.641704933474626,
          0.953726598375133,
          0.488637701636642,
          0.924290592252443,
          0.24726245143059,
          1.6955139526669,
          4.98057223595903,
          4.30354409513717,
          1.36583068409278,
          0.771223360414459,
          3.02602142941246,
          2.97303661839162,
          1.17744024490757,
          1.30107147062287,
          1.75438596491228,
          0.682915342046391,
          0.753561756740845,
          0.300247262451431,
          0.270811256328741,
          0.641704933474626,
          1.31284587307194,
          0.930177793476981,
          0.71235134816908,
          0.665253738372778,
          0.147180030613446,
          0.465088896738491,
          0.506299305310255,
          0.865418580007065,
          0.129518426939833,
          0.812433768986224,
          0.16484163428706,
          0.276698457553279,
          1.21865065347934,
          0.730012951842694,
          0.853644177557989,
          0.624043329801013,
          0.653479335923702,
          0.453314494289415,
          0.588720122453785,
          0.323796067349582,
          0.0941952195926057,
          0.953726598375133,
          0.482750500412104,
          0.24726245143059,
          1.26574826327564,
          0.100082420817144,
          0.282585658777817,
          0.341457671023196,
          0.147180030613446,
          0.176616036736136,
          0.0588720122453785,
          0.0706464146944543,
          0.153067231837984,
          0.259036853879666,
          0.111856823266219,
          0.0941952195926057,
          0.0470976097963028,
          0.0353232073472271,
          0.0706464146944543,
          0.141292829388909,
          0.153067231837984,
          0.200164841634287,
          0.0647592134699164,
          0.0294360061226893,
          0.041210408571765,
          0.00588720122453785,
          0.0294360061226893,
          0.0117744024490757,
          0.476863299187566,
          0.74178735429177,
          0.482750500412104,
          0.288472860002355,
          0.217826445307901,
          0.16484163428706,
          0.635817732250088,
          0.153067231837984,
          0.406216884493112,
          0.153067231837984,
          0.153067231837984,
          0.700576945720005,
          0.435652890615801,
          0.276698457553279,
          0.16484163428706,
          1.01259861062051,
          0.111856823266219,
          0.0706464146944543,
          0.788884964088073,
          0.518073707759331,
          0.535735311432945,
          0.129518426939833,
          0.300247262451431,
          0.111856823266219,
          0.235488048981514,
          0.264924055104203,
          0.123631225715295,
          0.0353232073472271,
          0.129518426939833,
          0.135405628164371,
          0.0353232073472271,
          0.153067231837984,
          0.0529848110208407,
          0.0294360061226893,
          0.0176616036736136,
          0.0353232073472271,
          0.0235488048981514,
          0.0235488048981514,
          0.00588720122453785,
          0.194277640409749,
          0.0647592134699164,
          0.235488048981514,
          0.170728835511598,
          1.54833392205346,
          0.300247262451431,
          0.194277640409749,
          0.0588720122453785,
          0.241375250206052,
          0.0353232073472271,
          0.482750500412104,
          0.482750500412104,
          0.0706464146944543,
          0.0883080183680678,
          0.264924055104203,
          0.123631225715295,
          0.141292829388909,
          0.0588720122453785,
          0.041210408571765,
          0.57694572000471,
          0.147180030613446,
          0.0529848110208407,
          0.0765336159189921,
          0.117744024490757,
          0.0176616036736136,
          0.0765336159189921,
          0.211939244083363,
          0.0176616036736136,
          0.0647592134699164
         ],
         "yaxis": "y"
        },
        {
         "customdata": [
          [
           "Filé de Peito de Frango 20Kg - Canção Congelado - Caixa de 20kg Venda por Caixa"
          ],
          [
           "Filé de Peito de Frango Envelopado CX - Lar Congelado - Caixa de 20kg A partir de 1 caixa (20kg)"
          ],
          [
           "Leite Integral Italac 1L Tetrapack 1 L (Com Tampa) Unidade"
          ],
          [
           "Óleo de Algodão Liza 14,5Kg 14,5Kg Unidade"
          ],
          [
           "Açúcar Refinado União 1Kg Pacote de 1kg Unidade"
          ],
          [
           "Café Pilão Tradicional Almofada 500g Almofada de 500g Unidade"
          ],
          [
           "Leite Integral Piracanjuba 1L Tetrapack 1 L (Com Tampa) Unidade"
          ],
          [
           "Arroz Branco 5kg - Pantera Pacote de 5kg Venda por Pacote"
          ],
          [
           "Feijão Preto Kicaldo 1Kg Pacote de 1kg Unidade"
          ],
          [
           "Feijão Carioca Camil 1Kg Pacote de 1kg Unidade"
          ],
          [
           "Cerveja Heineken long neck 330ml Garrafa de 330ml Unidade"
          ],
          [
           "Arroz Branco 5Kg - Mateus Pacote de 5kg Venda por Pacote"
          ],
          [
           "Ovos Brancos Grandes - Cinta com 5 dúzias Cinta com 5 dúzias Venda por Cinta"
          ],
          [
           "Coca-Cola 200ml Garrafa de 200ml A partir de 1 unidade"
          ],
          [
           "Leite Condensado Semidesnatado 395g - Piracanjuba Tetra Pak de 395g Unidade"
          ],
          [
           "Creme de Leite Piracanjuba 1,030Kg Tetra Pak de 1,030Kg Unidade"
          ],
          [
           "Coca-Cola 350ml Lata de 350ml Unidade"
          ],
          [
           "Linguiça tipo Calabresa - SEARA Pacote de 2.5kg 1 pacote (2.5kg)"
          ],
          [
           "Batata Pré Frita Tradicional 2kg - Mais Batata Congelado - Pacote de 2kg A partir de 1 pacote"
          ],
          [
           "Coca-Cola Zero 350ml Lata de 350ml Unidade"
          ],
          [
           "Queijo Mussarela 4Kg - Coyote Resfriado - Peça de 4kg Venda por Peça"
          ],
          [
           "Coca-Cola 2L Garrafa de 2l A partir de 1 unidade"
          ],
          [
           "Coca-Cola 600ml Garrafa de 600ml A partir de 1 unidade"
          ],
          [
           "Açúcar Refinado Caravelas 1kg Pacote de 1kg Venda por Pacote"
          ],
          [
           "Feijão Carioca Kicaldo 1Kg Pacote de 1kg Unidade"
          ]
         ],
         "hovertemplate": "Cluster_Label=KVI<br>GMV (USD)=%{x}<br>Penetración=%{y}<br>product_name=%{customdata[0]}<extra></extra>",
         "legendgroup": "KVI",
         "marker": {
          "color": "#EF553B",
          "symbol": "circle"
         },
         "mode": "markers",
         "name": "KVI",
         "orientation": "v",
         "showlegend": true,
         "type": "scatter",
         "x": [
          127586.46541,
          163625.51002,
          164143.57633,
          85301.56853,
          96974.49005,
          89294.70418,
          119192.27764,
          117927.99626,
          112293.77809,
          142946.53532,
          130018.73828,
          121833.47484,
          121687.17979,
          104588.05716,
          84289.6248,
          85199.16235,
          190287.60648,
          120587.17825,
          128155.20423,
          125090.39282,
          116894.55339,
          94042.07021,
          122484.66536,
          129999.97276,
          186425.707
         ],
         "xaxis": "x",
         "y": [
          3.18497586247498,
          3.52643353349817,
          12.3160249617332,
          2.20181325797716,
          11.580124808666,
          7.05286706699635,
          9.64912280701754,
          2.73166136818556,
          14.5178382197103,
          12.5279642058166,
          5.02766984575533,
          4.83339220534558,
          13.4993524078653,
          15.6069704462499,
          11.1326975156011,
          5.99317084657954,
          15.3773695984929,
          12.2336041445897,
          9.00153067231838,
          11.1032615094784,
          5.58695396208642,
          7.54739196985753,
          13.0166019074532,
          21.14682679854,
          14.9888143176734
         ],
         "yaxis": "y"
        },
        {
         "customdata": [
          [
           "Requeijão Cremoso 1.5kg - Tirolez Bisnaga de 1.5kg Venda por Bisnaga"
          ],
          [
           "Requeijão Cremoso 1.5kg - Catupiry Resfriado - Bisnaga de 1.5kg A partir de 1 bisnaga"
          ],
          [
           "Azeite de Oliva Extra Virgem Borges 2 L Pet de 2L A partir de 1 unidade"
          ],
          [
           "Feijão Preto Camil 1Kg Pacote de 1kg Unidade"
          ],
          [
           "Feijão Carioca Caldo Nobre 1kg Pacote de 1kg Unidade"
          ],
          [
           "Feijão Carioca 1kg - Pantera Pacote de 1kg Venda por Pacote"
          ],
          [
           "Cerveja Skol Pilsen 350ml Lata Lata de 350ml Unidade"
          ],
          [
           "Água Mineral Frescca sem gás 510ml Garrafa de 510ml Unidade"
          ],
          [
           "Batata Pré-Frita One Fry 2.5Kg - McCain Pacote de 2.5kg Venda por Pacote"
          ],
          [
           "Batata Pré-Frita Tradicional 2kg - UAI Pacote de 2kg Venda por Pacote"
          ],
          [
           "Guaraviton Açaí 500ml Garrafa de 500ml Unidade"
          ],
          [
           "Farinha de Trigo Anaconda 5Kg Pacote de 5kg Unidade"
          ],
          [
           "Conhaque Dreher 900ml Garrafa de 900ml A partir de 12 unidades"
          ],
          [
           "Sassami de Frango GD - SEARA Congelado - Pacote de 6kg A partir de 1 pacote (6kg)"
          ],
          [
           "Ketchup Cepêra 3,5Kg Galão de 3,5Kg Unidade"
          ],
          [
           "Arroz Branco Gourmet Tio João 5kg Pacote de 5kg Venda por Pacote"
          ],
          [
           "Detergente Ypê Neutro 500ml Frasco de 500ml A partir de 1 unidade"
          ],
          [
           "Água Sanitária Triex 5L Galão de 5L Unidade"
          ],
          [
           "Farinha de Mandioca Branca Seca Grossa Kicaldo 1Kg Pacote de 1kg Unidade"
          ],
          [
           "Ovos Brancos Grandes - Bandeja com 30 unidades Bandeja com 30 unidades Venda por Bandeja"
          ],
          [
           "Farinha de Trigo Três Coroas 1kg Embalagem de Plástico 1 kg Venda por Embalagem"
          ],
          [
           "Leite Condensado Bag Piracanjuba 2,5Kg Bag de 2,5Kg Unidade"
          ],
          [
           "Batata Pré-Frita Corte Tradicional 2.5kg - McCain Congelado - Pacote de 2.5kg A partir de 1 pacote"
          ],
          [
           "Batata Pré-Frita 7mm 2.25Kg - Simplot Pacote de 2.25kg Venda por Pacote"
          ],
          [
           "Filé de Peito de Frango BD - SEARA Bandeja de 1kg A partir de 2 bandejas (2kg)"
          ],
          [
           "Refrigerante h2oh limão 500ml Garrafa Garrafa 500ml Unidade"
          ],
          [
           "Refrigerante Guaraná Antarctica 350ml Lata Lata de 350ml Unidade"
          ],
          [
           "Farinha de Trigo para Pastel 5Kg - Suprema Pacote de 5kg Venda por Pacote"
          ],
          [
           "Itubaína Retrô Lata 350ml Lata de 350ml Unidade"
          ],
          [
           "Guaraná Antarctica 600ml Garrafa de 600ml A partir de 1 unidade"
          ],
          [
           "Farinha de Trigo Para Pastel Rosa Branca 5kg Pacote de 5kg Venda por Pacote"
          ],
          [
           "Milho Verde Olé 170g Lata de 170g Venda por Lata"
          ],
          [
           "Detergente Limpol Neutro 500ml Frasco de 500ml Unidade"
          ],
          [
           "Sassami de Frango IQF - Lar Congelado - Pacote de 2kg A partir de 1 pacote (2kg)"
          ],
          [
           "Linguiça Toscana - SEARA Pacote de 5kg 1 pacote (5kg)"
          ],
          [
           "Água Mineral Frescca com gás 510ml Garrafa de 510ml Unidade"
          ],
          [
           "Refrigerante Guaraná Antarctica 200ML Garrafa Pet Garrafa de 200ml A partir de 1 unidade"
          ],
          [
           "Arroz Integral Camil  Food Service 2Kg Pacote de 2kg Unidade"
          ],
          [
           "Filé de Peito de Frango IQF - Lar Congelado - Pacote de 1kg A partir de 2 pacotes (2kg)"
          ],
          [
           "Sal Miramar 1Kg Pacote de 1kg Unidade"
          ],
          [
           "Milho Verde Olé 1,7kg Lata de 1,7Kg Venda por Lata"
          ],
          [
           "Café Brasileiro Extraforte Pouch 500g Pacote de 500g Venda por Pacote"
          ],
          [
           "Macarrão com Ovos Espaguete 500g - Adria Pacote de 500g Venda por Pacote"
          ],
          [
           "Queijo Mussarela 4Kg - Ouro do Campo Embalagem de 4Kg Venda por Embalagem"
          ],
          [
           "Queijo Mussarela 4,1Kg - Coyote Resfriado - Peça de 4.1kg Venda por Resfriado"
          ],
          [
           "Creme de Leite Piracanjuba 200g Tetra Pak de 200g Unidade"
          ],
          [
           "Queijo Mussarela 4Kg - Piloto Refrigerado - Peça de 4Kg Venda por Refrigerado"
          ],
          [
           "Bacon Fatiado - Frimesa Pacote de 1kg (67 fatias de 15g aprox.) A partir de 2 pacotes (2kg)"
          ],
          [
           "Maionese Mariana 3kg Balde de 3kg Venda por Balde"
          ],
          [
           "Papel Toalha Mili 600 folhas Pacote com 600 folhas A partir de 1 pacote"
          ],
          [
           "Detergente Triex Neutro 500ml Frasco de 500ml Unidade"
          ],
          [
           "Cerveja Itaipava Pilsen 350ml Lata de 350ml Unidade"
          ],
          [
           "Bisteca Suína Congelada Caixa - Sadia Congelado - Caixa com 10kg Venda por Caixa"
          ],
          [
           "Queijo Mussarela 4.1Kg - Monte Castelo Refrigerado - Peça de 4.1Kg Venda por Refrigerado"
          ],
          [
           "Água Mineral Cristal Classic sem gás 510ml Garrafa de 510ml Venda por Garrafa"
          ],
          [
           "Água Mineral Cristal Classic com gás 510ml Garrafa de 510ml Venda por Garrafa"
          ],
          [
           "Requeijão Cremoso 1.5kg - Scala Resfriado - Bisnaga de 1.5kg A partir de 1 bisnaga"
          ],
          [
           "Itubaína Retrô Garrafa 355ml Garrafa de 355ml Unidade"
          ],
          [
           "Arroz Japonês Guin Grão Longo 5Kg Pacote de 5kg Unidade"
          ],
          [
           "Polpa de Maracujá - Ricaeli Pacote de 1kg - Contém 10 unidades de 100g A partir de 1 pacote (1kg)"
          ],
          [
           "Farinha de Trigo Sol 5kg Embalagem de Papel 5kg Venda por Embalagem"
          ],
          [
           "Óleo Composto Olinda 500ml Pet de 500ml Unidade"
          ],
          [
           "Sal Lebre 1Kg Pacote de 1kg Unidade"
          ],
          [
           "Molho de Tomate Tarantella 2Kg Sachê de 2Kg Unidade"
          ],
          [
           "Açúcar Cristal Alto Alegre 5Kg Pacote de 5kg Unidade"
          ],
          [
           "Mistura Para Pão Francês Maxi 25kg Saco de 25kg Venda por Saco"
          ],
          [
           "Feijão Carioca 1Kg - Big Valley Pacote de 1kg Venda por Pacote"
          ],
          [
           "Refrigerante Guaraná Antarctica Sem Açúcar 350ml Lata Lata de 350ml A partir de 1 unidade"
          ],
          [
           "Óleo Composto Olinda 3L Galão de 3L Unidade"
          ],
          [
           "Cachaça Pitú 350ml Lata de 350ml A partir de 12 unidades"
          ],
          [
           "Batata Palha Amavita 1Kg Pacote de 1kg Venda por Pacote"
          ],
          [
           "Refrigerante Guaraná Antarctica Garrafa 2L Garrafa de 2l A partir de 1 unidade"
          ],
          [
           "Café Pilão Tradicional Vácuo 500g Pacote de 500g Unidade"
          ],
          [
           "Óleo de Algodão Saúde 14.5 Kg Balde De 14,5Kg Unidade"
          ],
          [
           "Margarina 15Kg - Sofiteli Balde de 15kg Venda por Balde"
          ],
          [
           "Filé de Peito de Frango - Bello Alimentos Congelado - Caixa de 12kg Venda por Caixa"
          ],
          [
           "Detergente Triex Neutro 5L Frasco de 5L Unidade"
          ],
          [
           "Cerveja Heineken Sleek 350ml Lata de 350ml Venda por Lata"
          ],
          [
           "Refrigerante h2oh Limoneto 500ml Garrafa Garrafa 500ml Unidade"
          ],
          [
           "Farinha de Trigo Rosa Branca 5kg Embalagem de Papel 5kg Venda por Embalagem"
          ],
          [
           "Café Tradicional Pouch FORT 500g Pacote de 500g Unidade"
          ],
          [
           "Macarrão com Ovos Espaguete Dona Benta 500g Pacote de 500g Unidade"
          ],
          [
           "Arroz Parboilizado Campeiro 5kg Pacote de 5kg Venda por Pacote"
          ],
          [
           "Ovos Brancos Grandes - Caixa com 15 dúzias Caixa com 15 dúzias Venda por Caixa"
          ],
          [
           "Bacon em Cubos - Frimesa Pacote de 1kg 1 pacote (1kg)"
          ],
          [
           "Bacon Inteiro CX - Sadia Caixa de 10kg A partir de 1 caixa (10kg)"
          ],
          [
           "Café Seleto Tradicional Almofada 500g Pacote de 500g A partir de 1 unidade"
          ],
          [
           "Carne Seca Bovina Dianteiro 5Kg - Friboi Refrigerado - Pacote com 5Kg Venda por Pacote"
          ],
          [
           "Leite Condensado Bag Piracanjuba 5Kg - Atacado Bag de 5Kg Venda por Bag"
          ],
          [
           "Arroz Parboilizado Camil Food Service 5Kg Pacote de 5kg Unidade"
          ]
         ],
         "hovertemplate": "Cluster_Label=MID<br>GMV (USD)=%{x}<br>Penetración=%{y}<br>product_name=%{customdata[0]}<extra></extra>",
         "legendgroup": "MID",
         "marker": {
          "color": "#00cc96",
          "symbol": "circle"
         },
         "mode": "markers",
         "name": "MID",
         "orientation": "v",
         "showlegend": true,
         "type": "scatter",
         "x": [
          40196.36187,
          36186.70347,
          43842.69915,
          54900.80371,
          29811.56475,
          73648.16249,
          61859.61034,
          73254.88916,
          30493.35184,
          67133.14128,
          24574.90343,
          41406.75951,
          48892.78578,
          81957.59512,
          30567.06209,
          42735.91294,
          50423.27538,
          26481.02373,
          55273.5427,
          24725.85804,
          31013.4505,
          25110.72227,
          24662.58955,
          77018.71478,
          28371.43361,
          79807.71776,
          71205.13379,
          48129.08449,
          41494.19715,
          31082.01315,
          26151.79757,
          44261.40388,
          45293.6671,
          33631.33137,
          32980.10964,
          32690.43856,
          36597.95712,
          26127.49407,
          68545.996,
          23481.846,
          63359.58567,
          27414.56547,
          30193.17746,
          72870.46227,
          27069.77749,
          50798.67002,
          66243.69461,
          74121.59079,
          34602.12205,
          27645.62474,
          41165.33022,
          41928.42393,
          29890.7769,
          32094.40112,
          74190.47334,
          40808.97843,
          28436.72428,
          26937.97594,
          25468.96922,
          34053.7464,
          29199.86329,
          42891.56433,
          46423.54399,
          67842.97747,
          25500.89052,
          47043.32414,
          66347.82418,
          38635.05656,
          24927.29226,
          30059.10892,
          25672.38273,
          34074.80953,
          27261.93058,
          63832.24532,
          36473.61117,
          35033.00095,
          30444.27741,
          46723.04557,
          72732.64957,
          23495.89841,
          69032.15881,
          37587.74031,
          40190.43628,
          53105.32046,
          43981.60693,
          35143.98306,
          41368.84587,
          24842.22908,
          47135.09096,
          27671.29657
         ],
         "xaxis": "x",
         "y": [
          3.03779583186153,
          2.01931002001648,
          1.63664194042152,
          8.48934416578359,
          5.43977393147298,
          4.56258094901684,
          6.57011656658425,
          13.1520075356176,
          1.54244672082892,
          6.19333568821382,
          8.83080183680678,
          2.52560932532674,
          6.66431178617685,
          2.62569174614388,
          8.27151772047569,
          0.612268927351937,
          11.427057576828,
          14.8180854821618,
          9.96703167314259,
          6.76439420699399,
          7.20593429883433,
          1.84269398328035,
          1.08324502531497,
          1.20687625103026,
          2.69633816083834,
          13.2167667490875,
          12.4514305898976,
          1.57188272695161,
          10.2025197221241,
          5.8165548098434,
          0.965501000824208,
          11.9804544919345,
          8.76604262333687,
          2.9082774049217,
          3.96208642411398,
          8.07724008006594,
          8.68362180619334,
          3.28505828329212,
          6.14035087719298,
          14.382432591546,
          4.08571764982927,
          2.93182620981985,
          9.43129636170964,
          3.93853761921583,
          2.00164841634287,
          10.420346167432,
          4.05039444248204,
          3.37925350288473,
          4.20934887554457,
          5.37501471800306,
          7.09407747556812,
          5.28670669963499,
          1.98398681266926,
          1.13034263511127,
          16.1956905687036,
          10.5851878017191,
          2.10761803838455,
          4.89226421759096,
          0.735900153067232,
          4.45661132697516,
          3.29094548451666,
          7.81820322618627,
          27.5638761332862,
          6.59955257270694,
          0.835982573884375,
          0.482750500412104,
          7.47085835393854,
          6.49358295066525,
          3.04368303308607,
          4.15636406452372,
          4.33298010125986,
          4.48016013187331,
          3.35570469798658,
          2.61391734369481,
          1.99576121511833,
          1.64252914164606,
          5.23372188861415,
          3.20852466737313,
          10.2613917343695,
          2.26068527022254,
          5.13363946779701,
          9.24879312374897,
          1.44825150123631,
          3.06723183798422,
          4.52137054044507,
          1.74261156246321,
          4.80395619922289,
          1.78382197103497,
          1.0891322265395,
          1.53655951960438
         ],
         "yaxis": "y"
        },
        {
         "customdata": [
          [
           "Açúcar Alto Alegre 1Kg Pacote de 1kg Unidade"
          ],
          [
           "Óleo Concórdia 900 ml PET 900ml Unidade"
          ],
          [
           "Leite Integral Hércules 1L Tetrapack 1 L A partir de 1 unidade"
          ],
          [
           "Leite Integral Líder 1L Tetra Pak de 1L Venda por Tetra"
          ],
          [
           "Arroz Branco Camil Food Service 5kg Pacote de 5kg Unidade"
          ],
          [
           "Arroz Branco Campeiro 5Kg Pacote de 5kg Unidade"
          ],
          [
           "Queijo Mussarela 4kg - Litoral Peça de 4kg Venda por Peça"
          ],
          [
           "Óleo Vitaliv 900ml PET 900ml Unidade"
          ]
         ],
         "hovertemplate": "Cluster_Label=SUPER KVI<br>GMV (USD)=%{x}<br>Penetración=%{y}<br>product_name=%{customdata[0]}<extra></extra>",
         "legendgroup": "SUPER KVI",
         "marker": {
          "color": "#ab63fa",
          "symbol": "circle"
         },
         "mode": "markers",
         "name": "SUPER KVI",
         "orientation": "v",
         "showlegend": true,
         "type": "scatter",
         "x": [
          524593.82879,
          350521.64865,
          493185.57264,
          405235.82269,
          670212.29674,
          530866.6015,
          443852.59738,
          1472697.1189
         ],
         "xaxis": "x",
         "y": [
          45.0900741787354,
          21.5059460732368,
          27.5579889320617,
          25.0912516189803,
          17.3907924172848,
          11.9922288943836,
          13.5817732250088,
          46.815024137525
         ],
         "yaxis": "y"
        }
       ],
       "layout": {
        "legend": {
         "title": {
          "text": "Cluster_Label"
         },
         "tracegroupgap": 0
        },
        "template": {
         "data": {
          "bar": [
           {
            "error_x": {
             "color": "#2a3f5f"
            },
            "error_y": {
             "color": "#2a3f5f"
            },
            "marker": {
             "line": {
              "color": "#E5ECF6",
              "width": 0.5
             }
            },
            "type": "bar"
           }
          ],
          "barpolar": [
           {
            "marker": {
             "line": {
              "color": "#E5ECF6",
              "width": 0.5
             }
            },
            "type": "barpolar"
           }
          ],
          "carpet": [
           {
            "aaxis": {
             "endlinecolor": "#2a3f5f",
             "gridcolor": "white",
             "linecolor": "white",
             "minorgridcolor": "white",
             "startlinecolor": "#2a3f5f"
            },
            "baxis": {
             "endlinecolor": "#2a3f5f",
             "gridcolor": "white",
             "linecolor": "white",
             "minorgridcolor": "white",
             "startlinecolor": "#2a3f5f"
            },
            "type": "carpet"
           }
          ],
          "choropleth": [
           {
            "colorbar": {
             "outlinewidth": 0,
             "ticks": ""
            },
            "type": "choropleth"
           }
          ],
          "contour": [
           {
            "colorbar": {
             "outlinewidth": 0,
             "ticks": ""
            },
            "colorscale": [
             [
              0,
              "#0d0887"
             ],
             [
              0.1111111111111111,
              "#46039f"
             ],
             [
              0.2222222222222222,
              "#7201a8"
             ],
             [
              0.3333333333333333,
              "#9c179e"
             ],
             [
              0.4444444444444444,
              "#bd3786"
             ],
             [
              0.5555555555555556,
              "#d8576b"
             ],
             [
              0.6666666666666666,
              "#ed7953"
             ],
             [
              0.7777777777777778,
              "#fb9f3a"
             ],
             [
              0.8888888888888888,
              "#fdca26"
             ],
             [
              1,
              "#f0f921"
             ]
            ],
            "type": "contour"
           }
          ],
          "contourcarpet": [
           {
            "colorbar": {
             "outlinewidth": 0,
             "ticks": ""
            },
            "type": "contourcarpet"
           }
          ],
          "heatmap": [
           {
            "colorbar": {
             "outlinewidth": 0,
             "ticks": ""
            },
            "colorscale": [
             [
              0,
              "#0d0887"
             ],
             [
              0.1111111111111111,
              "#46039f"
             ],
             [
              0.2222222222222222,
              "#7201a8"
             ],
             [
              0.3333333333333333,
              "#9c179e"
             ],
             [
              0.4444444444444444,
              "#bd3786"
             ],
             [
              0.5555555555555556,
              "#d8576b"
             ],
             [
              0.6666666666666666,
              "#ed7953"
             ],
             [
              0.7777777777777778,
              "#fb9f3a"
             ],
             [
              0.8888888888888888,
              "#fdca26"
             ],
             [
              1,
              "#f0f921"
             ]
            ],
            "type": "heatmap"
           }
          ],
          "heatmapgl": [
           {
            "colorbar": {
             "outlinewidth": 0,
             "ticks": ""
            },
            "colorscale": [
             [
              0,
              "#0d0887"
             ],
             [
              0.1111111111111111,
              "#46039f"
             ],
             [
              0.2222222222222222,
              "#7201a8"
             ],
             [
              0.3333333333333333,
              "#9c179e"
             ],
             [
              0.4444444444444444,
              "#bd3786"
             ],
             [
              0.5555555555555556,
              "#d8576b"
             ],
             [
              0.6666666666666666,
              "#ed7953"
             ],
             [
              0.7777777777777778,
              "#fb9f3a"
             ],
             [
              0.8888888888888888,
              "#fdca26"
             ],
             [
              1,
              "#f0f921"
             ]
            ],
            "type": "heatmapgl"
           }
          ],
          "histogram": [
           {
            "marker": {
             "colorbar": {
              "outlinewidth": 0,
              "ticks": ""
             }
            },
            "type": "histogram"
           }
          ],
          "histogram2d": [
           {
            "colorbar": {
             "outlinewidth": 0,
             "ticks": ""
            },
            "colorscale": [
             [
              0,
              "#0d0887"
             ],
             [
              0.1111111111111111,
              "#46039f"
             ],
             [
              0.2222222222222222,
              "#7201a8"
             ],
             [
              0.3333333333333333,
              "#9c179e"
             ],
             [
              0.4444444444444444,
              "#bd3786"
             ],
             [
              0.5555555555555556,
              "#d8576b"
             ],
             [
              0.6666666666666666,
              "#ed7953"
             ],
             [
              0.7777777777777778,
              "#fb9f3a"
             ],
             [
              0.8888888888888888,
              "#fdca26"
             ],
             [
              1,
              "#f0f921"
             ]
            ],
            "type": "histogram2d"
           }
          ],
          "histogram2dcontour": [
           {
            "colorbar": {
             "outlinewidth": 0,
             "ticks": ""
            },
            "colorscale": [
             [
              0,
              "#0d0887"
             ],
             [
              0.1111111111111111,
              "#46039f"
             ],
             [
              0.2222222222222222,
              "#7201a8"
             ],
             [
              0.3333333333333333,
              "#9c179e"
             ],
             [
              0.4444444444444444,
              "#bd3786"
             ],
             [
              0.5555555555555556,
              "#d8576b"
             ],
             [
              0.6666666666666666,
              "#ed7953"
             ],
             [
              0.7777777777777778,
              "#fb9f3a"
             ],
             [
              0.8888888888888888,
              "#fdca26"
             ],
             [
              1,
              "#f0f921"
             ]
            ],
            "type": "histogram2dcontour"
           }
          ],
          "mesh3d": [
           {
            "colorbar": {
             "outlinewidth": 0,
             "ticks": ""
            },
            "type": "mesh3d"
           }
          ],
          "parcoords": [
           {
            "line": {
             "colorbar": {
              "outlinewidth": 0,
              "ticks": ""
             }
            },
            "type": "parcoords"
           }
          ],
          "pie": [
           {
            "automargin": true,
            "type": "pie"
           }
          ],
          "scatter": [
           {
            "marker": {
             "colorbar": {
              "outlinewidth": 0,
              "ticks": ""
             }
            },
            "type": "scatter"
           }
          ],
          "scatter3d": [
           {
            "line": {
             "colorbar": {
              "outlinewidth": 0,
              "ticks": ""
             }
            },
            "marker": {
             "colorbar": {
              "outlinewidth": 0,
              "ticks": ""
             }
            },
            "type": "scatter3d"
           }
          ],
          "scattercarpet": [
           {
            "marker": {
             "colorbar": {
              "outlinewidth": 0,
              "ticks": ""
             }
            },
            "type": "scattercarpet"
           }
          ],
          "scattergeo": [
           {
            "marker": {
             "colorbar": {
              "outlinewidth": 0,
              "ticks": ""
             }
            },
            "type": "scattergeo"
           }
          ],
          "scattergl": [
           {
            "marker": {
             "colorbar": {
              "outlinewidth": 0,
              "ticks": ""
             }
            },
            "type": "scattergl"
           }
          ],
          "scattermapbox": [
           {
            "marker": {
             "colorbar": {
              "outlinewidth": 0,
              "ticks": ""
             }
            },
            "type": "scattermapbox"
           }
          ],
          "scatterpolar": [
           {
            "marker": {
             "colorbar": {
              "outlinewidth": 0,
              "ticks": ""
             }
            },
            "type": "scatterpolar"
           }
          ],
          "scatterpolargl": [
           {
            "marker": {
             "colorbar": {
              "outlinewidth": 0,
              "ticks": ""
             }
            },
            "type": "scatterpolargl"
           }
          ],
          "scatterternary": [
           {
            "marker": {
             "colorbar": {
              "outlinewidth": 0,
              "ticks": ""
             }
            },
            "type": "scatterternary"
           }
          ],
          "surface": [
           {
            "colorbar": {
             "outlinewidth": 0,
             "ticks": ""
            },
            "colorscale": [
             [
              0,
              "#0d0887"
             ],
             [
              0.1111111111111111,
              "#46039f"
             ],
             [
              0.2222222222222222,
              "#7201a8"
             ],
             [
              0.3333333333333333,
              "#9c179e"
             ],
             [
              0.4444444444444444,
              "#bd3786"
             ],
             [
              0.5555555555555556,
              "#d8576b"
             ],
             [
              0.6666666666666666,
              "#ed7953"
             ],
             [
              0.7777777777777778,
              "#fb9f3a"
             ],
             [
              0.8888888888888888,
              "#fdca26"
             ],
             [
              1,
              "#f0f921"
             ]
            ],
            "type": "surface"
           }
          ],
          "table": [
           {
            "cells": {
             "fill": {
              "color": "#EBF0F8"
             },
             "line": {
              "color": "white"
             }
            },
            "header": {
             "fill": {
              "color": "#C8D4E3"
             },
             "line": {
              "color": "white"
             }
            },
            "type": "table"
           }
          ]
         },
         "layout": {
          "annotationdefaults": {
           "arrowcolor": "#2a3f5f",
           "arrowhead": 0,
           "arrowwidth": 1
          },
          "autotypenumbers": "strict",
          "coloraxis": {
           "colorbar": {
            "outlinewidth": 0,
            "ticks": ""
           }
          },
          "colorscale": {
           "diverging": [
            [
             0,
             "#8e0152"
            ],
            [
             0.1,
             "#c51b7d"
            ],
            [
             0.2,
             "#de77ae"
            ],
            [
             0.3,
             "#f1b6da"
            ],
            [
             0.4,
             "#fde0ef"
            ],
            [
             0.5,
             "#f7f7f7"
            ],
            [
             0.6,
             "#e6f5d0"
            ],
            [
             0.7,
             "#b8e186"
            ],
            [
             0.8,
             "#7fbc41"
            ],
            [
             0.9,
             "#4d9221"
            ],
            [
             1,
             "#276419"
            ]
           ],
           "sequential": [
            [
             0,
             "#0d0887"
            ],
            [
             0.1111111111111111,
             "#46039f"
            ],
            [
             0.2222222222222222,
             "#7201a8"
            ],
            [
             0.3333333333333333,
             "#9c179e"
            ],
            [
             0.4444444444444444,
             "#bd3786"
            ],
            [
             0.5555555555555556,
             "#d8576b"
            ],
            [
             0.6666666666666666,
             "#ed7953"
            ],
            [
             0.7777777777777778,
             "#fb9f3a"
            ],
            [
             0.8888888888888888,
             "#fdca26"
            ],
            [
             1,
             "#f0f921"
            ]
           ],
           "sequentialminus": [
            [
             0,
             "#0d0887"
            ],
            [
             0.1111111111111111,
             "#46039f"
            ],
            [
             0.2222222222222222,
             "#7201a8"
            ],
            [
             0.3333333333333333,
             "#9c179e"
            ],
            [
             0.4444444444444444,
             "#bd3786"
            ],
            [
             0.5555555555555556,
             "#d8576b"
            ],
            [
             0.6666666666666666,
             "#ed7953"
            ],
            [
             0.7777777777777778,
             "#fb9f3a"
            ],
            [
             0.8888888888888888,
             "#fdca26"
            ],
            [
             1,
             "#f0f921"
            ]
           ]
          },
          "colorway": [
           "#636efa",
           "#EF553B",
           "#00cc96",
           "#ab63fa",
           "#FFA15A",
           "#19d3f3",
           "#FF6692",
           "#B6E880",
           "#FF97FF",
           "#FECB52"
          ],
          "font": {
           "color": "#2a3f5f"
          },
          "geo": {
           "bgcolor": "white",
           "lakecolor": "white",
           "landcolor": "#E5ECF6",
           "showlakes": true,
           "showland": true,
           "subunitcolor": "white"
          },
          "hoverlabel": {
           "align": "left"
          },
          "hovermode": "closest",
          "mapbox": {
           "style": "light"
          },
          "paper_bgcolor": "white",
          "plot_bgcolor": "#E5ECF6",
          "polar": {
           "angularaxis": {
            "gridcolor": "white",
            "linecolor": "white",
            "ticks": ""
           },
           "bgcolor": "#E5ECF6",
           "radialaxis": {
            "gridcolor": "white",
            "linecolor": "white",
            "ticks": ""
           }
          },
          "scene": {
           "xaxis": {
            "backgroundcolor": "#E5ECF6",
            "gridcolor": "white",
            "gridwidth": 2,
            "linecolor": "white",
            "showbackground": true,
            "ticks": "",
            "zerolinecolor": "white"
           },
           "yaxis": {
            "backgroundcolor": "#E5ECF6",
            "gridcolor": "white",
            "gridwidth": 2,
            "linecolor": "white",
            "showbackground": true,
            "ticks": "",
            "zerolinecolor": "white"
           },
           "zaxis": {
            "backgroundcolor": "#E5ECF6",
            "gridcolor": "white",
            "gridwidth": 2,
            "linecolor": "white",
            "showbackground": true,
            "ticks": "",
            "zerolinecolor": "white"
           }
          },
          "shapedefaults": {
           "line": {
            "color": "#2a3f5f"
           }
          },
          "ternary": {
           "aaxis": {
            "gridcolor": "white",
            "linecolor": "white",
            "ticks": ""
           },
           "baxis": {
            "gridcolor": "white",
            "linecolor": "white",
            "ticks": ""
           },
           "bgcolor": "#E5ECF6",
           "caxis": {
            "gridcolor": "white",
            "linecolor": "white",
            "ticks": ""
           }
          },
          "title": {
           "x": 0.05
          },
          "xaxis": {
           "automargin": true,
           "gridcolor": "white",
           "linecolor": "white",
           "ticks": "",
           "title": {
            "standoff": 15
           },
           "zerolinecolor": "white",
           "zerolinewidth": 2
          },
          "yaxis": {
           "automargin": true,
           "gridcolor": "white",
           "linecolor": "white",
           "ticks": "",
           "title": {
            "standoff": 15
           },
           "zerolinecolor": "white",
           "zerolinewidth": 2
          }
         }
        },
        "title": {
         "text": "Distribución de GMV y Penetración por Cluster"
        },
        "xaxis": {
         "anchor": "y",
         "domain": [
          0,
          1
         ],
         "title": {
          "text": "GMV (USD)"
         }
        },
        "yaxis": {
         "anchor": "x",
         "domain": [
          0,
          1
         ],
         "title": {
          "text": "Penetración"
         }
        }
       }
      },
      "text/html": [
       "<div>                            <div id=\"a55fccf8-743e-4d16-a248-9dd5e910b438\" class=\"plotly-graph-div\" style=\"height:525px; width:100%;\"></div>            <script type=\"text/javascript\">                require([\"plotly\"], function(Plotly) {                    window.PLOTLYENV=window.PLOTLYENV || {};                                    if (document.getElementById(\"a55fccf8-743e-4d16-a248-9dd5e910b438\")) {                    Plotly.newPlot(                        \"a55fccf8-743e-4d16-a248-9dd5e910b438\",                        [{\"customdata\": [[\"Papel Toalha Kitchen 120 folhas Pacote com 2 rolos Unidade\"], [\"Vinagre De \\u00c1lcool Castelo 5L Gal\\u00e3o 5L Venda por Gal\\u00e3o\"], [\"Bisteca Su\\u00edna Fatiada - Frimesa Caixa de 5kg - Aprox. 33 bistecas de 150g 1 caixa (5kg)\"], [\"Sab\\u00e3o em p\\u00f3 Triex 800g Pacote de 800g A partir de 1 unidade\"], [\"Vinagre de \\u00c1lcool Colorido Galo de Barcelos 750ml Pet de 750ml Unidade\"], [\"Bebida L\\u00e1ctea Sabor Chocolate Pirakids 200ml - Piracanjuba TetraPak de 200ml Venda por TetraPak\"], [\"Limpador Multiuso Triex 500ml Garrafa 500ml Unidade\"], [\"\\u00c1gua Mineral Crystal sem g\\u00e1s 500ml Garrafa de 500ml A partir de 1 unidade\"], [\"Sprite 350ml Lata de 350ml Unidade\"], [\"Papel Higi\\u00eanico Folha Tripla Mili 4 Rolos Pacote com 4 rolos Venda por Pacote\"], [\"\\u00c1gua Sanit\\u00e1ria Suprema 2L Frasco de 2L Unidade\"], [\"Creme de Leite Leve (17%) 1.010 kg - Tri\\u00e2ngulo Mineiro Tetra Pak de 1.01kg Venda por Tetra\"], [\"Sab\\u00e3o em p\\u00f3 Tixan Primavera Yp\\u00ea 800g Caixa de 800g Venda por Caixa\"], [\"Mortadela Defumada Gourmet 4.8Kg - SEARA Pe\\u00e7a de 4.8Kg A partir de 1 pe\\u00e7a\"], [\"Bolinho de Bacalhau - Bom Peixe Caixa de 360g - Cont\\u00e9m aprox. 20 bolinhos A partir de 2 caixas (720g)\"], [\"Requeij\\u00e3o 200g - Tirolez Resfriado - Copo de 200g A partir de 2 copos\"], [\"Farinha de Trigo Rosa Branca 1kg Embalagem de Pl\\u00e1stico 1 kg Venda por Embalagem\"], [\"Milho Verde Quero 170g Lata 170g A partir de 1 unidade\"], [\"Fanta Laranja 220ml Lata de 220ml Venda por Lata\"], [\"Molho de Tomate Heinz Tradicional 1,02kg Sach\\u00ea de 1.02kg Venda por Sach\\u00ea\"], [\"Fil\\u00e9 de Coxa e Sobrecoxa de Frango sem Osso - SEARA Congelado - Bandeja de 1kg A partir de 2 bandejas (2kg)\"], [\"Gr\\u00e3o de Bico Camil 500g Pacote de 500g Unidade\"], [\"Farinha de Mandioca 500g - Hikari Pacote de 500g Venda por Pacote\"], [\"Cerveja Eisenbahn long neck 355ml Garrafa de 355ml Unidade\"], [\"Desinfetante Yp\\u00ea Pinho 1L Frasco de 1L Venda por Frasco\"], [\"Macarr\\u00e3o com Ovos Parafuso 500g - J\\u00f3ia Pacote de 500g Venda por Pacote\"], [\"Molho Para Salada Liza Sabor Lim\\u00e3o 234ml Pet 234ml Unidade\"], [\"Molho Barbecue Cep\\u00eara 1,01Kg Pet de 1,01Kg Unidade\"], [\"Milho Verde Quero 1.7kg Lata de 1,7Kg A partir de 1 unidade\"], [\"Tomates Pelados Inteiros Ol\\u00e9 240g Lata de 240g Venda por Lata\"], [\"Atum em peda\\u00e7os em \\u00f3leo Coqueiro 480g Pouch de 480g Unidade\"], [\"Del Valle Manga 290ml Lata de 290ml Unidade\"], [\"Cacha\\u00e7a Pit\\u00fa 965ml Garrafa de 965ml A partir de 12 unidades\"], [\"Desinfetante Lavandas do Campo Triex 5L Garrafa de 5L Venda por Garrafa\"], [\"Lentilha Kicaldo 500g Pacote de 500g A partir de 1 unidade\"], [\"Desinfetante Flores da Primavera Triex 500ml Garrafa de 500ml Venda por Garrafa\"], [\"Macarr\\u00e3o Parafuso Semola Dona Benta 500g Pacote de 500g Venda por Pacote\"], [\"Lustra M\\u00f3veis Triex Lavanda 200ml Frasco de 200ml A partir de 1 unidade\"], [\"Bala Halls Menta 21 x 28g Pacote de 28g Venda por Pacote\"], [\"Cebolinha Fornello Balde 2kg Balde 2Kg Unidade\"], [\"Filtro de Caf\\u00e9 102 3 Cora\\u00e7\\u00f5es 30 Unidades Caixa com 30 unidades Venda por Caixa\"], [\"Canjica Branca 500g - Hikari Pacote de 500g Venda por Pacote\"], [\"Extrato de Tomate Elefante sach\\u00ea 1,02kg Sach\\u00ea de 1,02Kg Unidade\"], [\"Ervilha e Milho Quero 170g Lata de 170g Unidade\"], [\"Carne Seca Bovina de Traseiro - Mineiro Resfriado - Pacote de 5kg A partir de 1 pacote (5kg)\"], [\"N\\u00e9ctar de Morango 200ml - Maguary Tetra pak de 200ml Venda por Tetra\"], [\"Caf\\u00e9 3 Cora\\u00e7\\u00f5es Extraforte Pouch 250g Pacote de 250g Venda por Pacote\"], [\"Tomate Triturado Pomarola 2Kg Sach\\u00ea de 2Kg Venda por Sach\\u00ea\"], [\"Sassami de Frango Envelopado CX 20Kg - Lar Congelado - Caixa com 20Kg Venda por Caixa\"], [\"Atum ralado em \\u00f3leo Coqueiro 480g Pouch de 480g Unidade\"], [\"Cerveja Original 269ml Lata de 269ml Venda por Lata\"], [\"Farinha de Trigo Premium Rosa Branca 5kg Embalagem de Papel 5kg Venda por Embalagem\"], [\"\\u00c1lcool Gel Sulmar 70\\u00b0 440g Garrafa 440g Venda por Garrafa\"], [\"Del Valle Uva 290ml Lata de 290ml Unidade\"], [\"Requeij\\u00e3o 480g - Tirolez Resfriado - Pote de 480g A partir de 2 potes\"], [\"Arroz Branco Camil Reserva Especial 5kg Pacote de 5kg A partir de 1 unidade\"], [\"Farinha de Milho Floc\\u00e3o Dona Clara 500g Pacote de 500g Venda por Pacote\"], [\"Salsicha Hot Dog - Perdig\\u00e3o Congelado - Pacote de 5kg A partir de 1 pacote (5kg)\"], [\"Feij\\u00e3o Fradinho Camil Food Service 2Kg Pacote de 2kg Unidade\"], [\"Polpa de Acerola - Ricaeli Pacote de 1kg - Cont\\u00e9m 10 unidades de 100g A partir de 1 pacote (1kg)\"], [\"Farinha de Trigo Dona Benta 1Kg Pacote de 1kg Unidade\"], [\"Farinha de Mandioca Crua Fina 1Kg - Pantera Pacote de 1kg Venda por Pacote\"], [\"Carne Mo\\u00edda Bovina - Toda Hora Congelado - Pacote de 1kg A partir de 1 pacote (1kg)\"], [\"Papel higi\\u00eanico folha dupla Bianco leve 12 pague 11 Pacote com 12 rolos Pacote\"], [\"Papel higi\\u00eanico folha simples Sublime 8 rolos Pacote com 8 rolos Pacote\"], [\"Presunto Fatiado - Frimesa Refrigerado - Pacote de 500g Venda por Pacote\"], [\"Polpa de Abacaxi com Hortel\\u00e3 - Ricaeli Pacote de 1kg - Cont\\u00e9m 10 unidades de 100g A partir de 1 pacote (1kg)\"], [\"Margarina Cremosa com Sal 1kg - Qualy Pote de 1kg A partir de 2 potes\"], [\"Lingui\\u00e7a Reta Defumada - Rezende Resfriado - Pacote de 2.5kg A partir de 1 pacote (2.5kg)\"], [\"Requeij\\u00e3o Cremoso sabor Cheddar 1.5kg - Scala Resfriado - Bisnaga de 1.5kg A partir de 1 bisnaga\"], [\"Detergente Triex Clear 500ml Frasco de 500ml Unidade\"], [\"Cerveja Itaipava 269ml Lata de 269ml Venda por Lata\"], [\"Del Valle P\\u00eassego 290ml Lata de 290ml Unidade\"], [\"Cora\\u00e7\\u00e3o de Frango - SEARA Pacote de 1kg A partir de 2 pacotes (2kg)\"], [\"Batata Palha Amavita 500g Pacote de 500g Venda por Pacote\"], [\"Sal Marinho Pluma Refinado 1Kg Pacote de 1kg Venda por Pacote\"], [\"Extrato de Tomate Ol\\u00e9 1,02kg Sach\\u00ea de 1,02Kg Venda por Sach\\u00ea\"], [\"Chocolate Prest\\u00edgio 30x33g Caixa com 30 unidades de 33g Venda por Caixa\"], [\"Queijo de Coalho 2kg - Tirolez Resfriado - Pe\\u00e7a de 2kg A partir de 1 pe\\u00e7a\"], [\"Alho Triturado Fornello Pote 1kg Pote de 1kg Unidade\"], [\"Chiclete Trident Tutti-Frutti 21X8g Pacote de 8g Venda por Pacote\"], [\"Sab\\u00e3o em p\\u00f3 Triex C\\u00f4co 800g Pacote de 800g Venda por Pacote\"], [\"Ketchup Sach\\u00ea 144x7g - Heinz Caixa com 144 sach\\u00eas de 7g Venda por Caixa\"], [\"Caf\\u00e9 Tradicional Pouch Melitta 500g Pouch de 500g Unidade\"], [\"Polpa de Goiaba 1kg - Agro Yoshi Pacote de 1kg Venda por Pacote\"], [\"Chiclete Bubbaloo Morango Bag com 10 unidades Pacote de 50g Venda por Pacote\"], [\"Extrato de Tomate Quero 1,08kg TetraPak de 1,08kg Unidade\"], [\"Macarr\\u00e3o com Ovos Linguine Dona Benta 500g Pacote de 500g Unidade\"], [\"Chocolate Galak 22x25g Caixa com 22 barras de 25g Venda por Caixa\"], [\"Chocolate Talento Castanha-do-Par\\u00e1 15x25g Caixa com 15 barras de 25g Venda por Caixa\"], [\"N\\u00e9ctar Uva Tial 330ml Tetra Pak de 330ml Unidade\"], [\"Tomates Pelados Em Cubos Ol\\u00e9 1,5kg Lata de 1,5kg Venda por Lata\"], [\"Guardanapo folha simples Kitchen 50 folhas 22,7 x 22,8cm Pacote com 50 folhas Pacote\"], [\"Gr\\u00e3o de Bico Kicaldo 500g Pacote de 500g A partir de 1 unidade\"], [\"Caldo De Galinha Em P\\u00f3 Kisabor 1,01Kg Pacote de 1,01Kg Venda por Pacote\"], [\"Macarr\\u00e3o com Ovos Espaguetinho Dona Benta 500g Pacote de 500g Unidade\"], [\"Cacha\\u00e7a Velho Barreiro 910ml Garrafa de 910ml A partir de 1 unidade\"], [\"Guardanapo folha simples Mili 21 x 22cm Pacote com 50 folhas Pacote\"], [\"Feij\\u00e3o Fradinho 1Kg - Pantera Pacote de 1kg Venda por Pacote\"], [\"N\\u00e9ctar Manga e Ma\\u00e7\\u00e3 Tial 330ml Tetra Pak de 330ml Unidade\"], [\"Meio da Asa de Frango com Osso - SEARA Pacote de 1kg A partir de 2 pacotes (2kg)\"], [\"Batata Pr\\u00e9-Frita Extra Crocante Surecrisp 2.5kg - McCain Congelado - Pacote de 2.5kg A partir de 1 pacote\"], [\"Lingui\\u00e7a Tipo Calabresa Defumada - Frimesa Pacote de 3kg Venda por Pacote\"], [\"\\u00c1gua Sanit\\u00e1ria Suprema 1L Frasco de 1L Unidade\"], [\"Br\\u00f3colis 2kg - Agro Yoshi Pacote de 2kg Venda por Pacote\"], [\"Margarina Cremosa 3kg - Sofiteli Balde de 3kg 1 balde\"], [\"Detergente Yp\\u00ea Lim\\u00e3o 500ml Frasco de 500ml A partir de 1 unidade\"], [\"A\\u00e7\\u00facar Refinado Alto Alegre 5Kg Pacote de 5kg Venda por Pacote\"], [\"Ervilha 1.1kg - Lar Congelado - Pacote de 1.1kg A partir de 1 pacote\"], [\"Limpeza Pesada Limpol Cloro Max 500ml Frasco de 500ml Unidade\"], [\"Cerveja Spaten Puro Malte 350ml Lata Lata de 350ml A partir de 1 unidade\"], [\"Steak de Frango Empanado CX - Sadia Congelado - Caixa de 4.5kg (45 Steaks de 100g) A partir de 1 caixa (45 Steaks)\"], [\"\\u00c1gua Sanit\\u00e1ria Yp\\u00ea 1L Frasco de 1L Venda por Frasco\"], [\"Macarr\\u00e3o com Ovos Parafuso 500g - Adria Pacote de 500g Venda por Pacote\"], [\"Molho de Tomate Tradicional Tarantella 1,02Kg Sach\\u00ea 1.02Kg Venda por Sach\\u00ea\"], [\"Extrato de Tomate Elefante 2Kg 2Kg Unidade\"], [\"Molho Barbecue Cep\\u00eara 3,5Kg Gal\\u00e3o de 3,5Kg Unidade\"], [\"Caf\\u00e9 Brasileiro Extraforte Pouch 250g Pacote de 250g Venda por Pacote\"], [\"Caf\\u00e9 Brasileiro Tradicional Pouch 250g Pacote de 250g Venda por Pacote\"], [\"Caf\\u00e9 Sol\\u00favel Tradicional 3 Cora\\u00e7\\u00f5es 40g Pacote de 40g Venda por Pacote\"], [\"Caf\\u00e9 Brasileiro Tradicional Pouch 500g Pacote de 500g Venda por Pacote\"], [\"Cerveja Eisenbahn 350ml Lata de 350ml Unidade\"], [\"Macarr\\u00e3o Espaguete Semola Dona Benta 500g Pacote de 500g Venda por Pacote\"], [\"Farinha De Trigo Com Fermento Dona Benta 1kg Embalagem de Pl\\u00e1stico 1kg Venda por Embalagem\"], [\"Apresuntado Retangular 3.6Kg - SEARA Resfriado - Pe\\u00e7a de 3.6kg A partir de 1 pe\\u00e7a\"], [\"Caf\\u00e9 3 Cora\\u00e7\\u00f5es Tradicional Pouch 250g Pacote de 250g Venda por Pacote\"], [\"Molho Ingl\\u00eas Cep\\u00eara 1,01L Pet de 1,01L Unidade\"], [\"Palmito Golden Palm Recheio Flex 200g Pouch 200g A partir de 1 unidade\"], [\"Farinha de Trigo para Pastel 5Kg - Dona Benta Pacote de 5kg Venda por Pacote\"], [\"Maionese Predilecta Sach\\u00ea 144x7g Sach\\u00eas de 7g Caixa\"], [\"Sal Grosso para Churrasco Lebre 1Kg Pacote de 1kg Venda por Pacote\"], [\"Farinha de Trigo com Fermento Rosa Branca 1kg Embalagem de Pl\\u00e1stico 1 kg Venda por Embalagem\"], [\"Cream Cheese Cremoso 1.2kg - Scala Bisnaga de 1.2kg 1 bisnaga\"], [\"Fil\\u00e9 de Merluza - Bom Peixe Pacote de 1kg - Aprox. 11 fil\\u00e9s A partir de 2 pacotes (2kg)\"], [\"Hamb\\u00farguer Texas Burguer CX 2.016Kg - Seara Congelado - Caixa de 2.016Kg (Aproximadamente 36 unidades de 56g) Venda por Caixa\"], [\"Salsicha Hot Dog Congelada - Bello Congelado - Pacote de 3kg Venda por Pacote\"], [\"Fub\\u00e1 500g - Hikari Pacote de 500g Venda por Pacote\"], [\"Molho Para Salada Liza Sabor Rose 234ml Pet 234ml Unidade\"], [\"Fil\\u00e9 de Panga 500g - Se7e Mares Congelado - Pacote de 500g Venda por Pacote\"], [\"Salsicha Hot Dog 3Kg - Estrela Congelado - Pacote de 3kg Venda por Pacote\"], [\"Limpador Multiuso Yp\\u00ea 500ml Frasco de 500ml Venda por Frasco\"], [\"Fil\\u00e9 de Til\\u00e1pia 800g - Riviera Congelado - Pacote de 800g Venda por Pacote\"], [\"Azeite de Oliva Extra Virgem Borges 250ml Vidro de 250ml Venda por Vidro\"], [\"Feij\\u00e3o Preto 1Kg - Pantera Pacote de 1kg Venda por Pacote\"], [\"Costela de Traseiro Bovina Refrigerada 2Kg - Friboi Refrigerado - Peso Vari\\u00e1vel Venda por Peso\"], [\"\\u00c1lcool Bactericida Sulmar 46\\u00b0 1L Garrafa 1L Venda por Garrafa\"], [\"Farinha de Rosca 500g - Hikari Pacote de 500g Venda por Pacote\"], [\"Cerveja Imp\\u00e9rio 350ml Lata de 350ml Unidade\"], [\"Desinfetante Triex 5L Gal\\u00e3o 5L Unidade\"], [\"Polpa de Manga 1kg - Agro Yoshi Pacote de 1kg Venda por Pacote\"], [\"Apresuntado Retangular 3.43kg - Rezende Resfriado - Pe\\u00e7a de 3.43kg A partir de 1 pe\\u00e7a\"], [\"Alvejante Triex 2L Gal\\u00e3o 2L Unidade\"], [\"\\u00c1lcool Bactericida Sulmar 70\\u00b0 500ml Garrafa 500ml Venda por Garrafa\"], [\"Farofa de Mandioca 400g - Hikari Pacote de 400g Venda por Pacote\"], [\"Caf\\u00e9 Torrado em Gr\\u00e3os Sul Minas 3 Cora\\u00e7\\u00f5es 500g Pacote de 500g Venda por Pacote\"], [\"Ketchup Cep\\u00eara Sach\\u00ea 175 X 7g Sach\\u00eas de 7g Caixa\"], [\"Pepino Fornello Balde 2kg Balde 2Kg Unidade\"], [\"Caldo De Carne Em P\\u00f3 Kisabor 1,01Kg Pacote de 1,01Kg Venda por Pacote\"], [\"Detergente Yp\\u00ea Neutro 5L Garrafa 5L Venda por Garrafa\"], [\"Mostarda Amarela Cep\\u00eara 1,01Kg Pet de 1,01Kg Unidade\"], [\"Sprite 220ml Lata de 220ml Venda por Lata\"], [\"Molho de Pimenta Ol\\u00e9 150ml Pet de 150ml Venda por Pet\"], [\"Energ\\u00e9tico Red Bull 250ml Lata de 250ml Venda por Lata\"], [\"Couve-Flor 1.1kg - Lar Congelado - Pacote de 1.1kg A partir de 1 pacote\"], [\"Macarr\\u00e3o com Ovos Penne Dona Benta 500g Pacote de 500g Unidade\"], [\"Sal Marinho Marfim Refinado 1Kg Pacote de 1kg Venda por Pacote\"], [\"Detergente Limpol Coco 500ml Frasco de 500ml Unidade\"], [\"Sassami de Frango (Filezinho de Peito) - SEARA Bandeja de 1kg A partir de 2 bandejas (2kg)\"], [\"Pudim de Leite condensado 120g - Doceria da Rebeka Refrigerado - Pote de 120g Venda por Pote\"], [\"\\u00c1lcool Neutro Sulmar 46\\u00b0 1L Garrafa 1L Venda por Garrafa\"], [\"F\\u00edgado de Frango - Bello Congelado - Bandeja de 450g Venda por Bandeja\"], [\"N\\u00e9ctar de Maracuj\\u00e1 335ml - Maguary Lata de 335ml Venda por Lata\"], [\"Lingui\\u00e7a Calabresa Reta 2.5Kg - Seara Pacote de 2.5kg Venda por Pacote\"], [\"Palmito Golden Palm Salada Flex 200g Pouch 200g A partir de 1 unidade\"], [\"Mostarda Heinz 255g Frasco de 255g Unidade\"], [\"Chiclete Trident Hortel\\u00e3 21X8g Pacote de 8g Venda por Pacote\"], [\"Suco Tial 100% P\\u00eassego 330ml Tetra Pak de 330ml Unidade\"], [\"Manteiga sem Sal 5kg - Tirolez Resfriado - Bloco de 5kg A partir de 1 bloco\"], [\"Atum ralado em \\u00f3leo Coqueiro 170g Lata de 170g Unidade\"], [\"Extrato de Tomate Ol\\u00e9 300g Sach\\u00ea de 300g Venda por Sach\\u00ea\"], [\"Carne Seca de Dianteiro - Cambu\\u00ed Pacote de 1kg 1 pacote (1kg)\"], [\"Farinha de Milho Flocada 500g - Hikari Pacote de 500g Venda por Pacote\"], [\"Palmito Palma D'Oro Inteiro Flex 1,10kg Pouch de 1,1kg A partir de 1 unidade\"], [\"Contra Fil\\u00e9 Bovino 1.5Kg - Friboi Congelado - Pe\\u00e7a de 1.5Kg Venda por Pe\\u00e7a\"], [\"Suco 100% Uva 150ml - Fruit Shoot Tetra Pak de 150ml Venda por Tetra\"], [\"Seleta de Legumes Quero Lata 170g Lata de 170g Venda por Lata\"], [\"Ketchup Hemmer 3,8kg Gal\\u00e3o de 3,8kg Venda por Gal\\u00e3o\"], [\"Vinagre De \\u00c1lcool Colorido Castelo 5L Gal\\u00e3o 5L Venda por Gal\\u00e3o\"], [\"Macarr\\u00e3o com Ovos Penne 500g - Adria Pacote de 500g Venda por Pacote\"], [\"Esponja Bombril Multiuso  Kit com 10 esponjas Pacote\"], [\"Chocolate Genuine ao Leite 1Kg Barra de 1Kg Venda por Barra\"], [\"Coquetel Corote P\\u00eassego 500ml Garrafa de 500ml A partir de 1 unidade\"], [\"Vinagre de Vinho Tinto Galo de Barcelos 750ml Pet de 750ml Unidade\"], [\"Farinha de Mandioca Crua Grossa 1Kg - Pantera Pacote de 1kg Venda por Pacote\"], [\"N\\u00e9ctar de Melancia 1L - Maguary Tetra Pak de 1L Venda por Tetra\"], [\"Azeite de Oliva Extra Virgem Tordesilha 3L Gal\\u00e3o de 3L Unidade\"], [\"Cobertura Genuine ao Leite 2,1Kg 2,1Kg Unidade\"], [\"Cerveja Stella Artois Puro Malte 330ml Long Neck Garrafa de 330ml Unidade\"], [\"An\\u00e9is de Cebola Empanados 1.05kg - McCain Congelado - Pacote de 1.05kg A partir de 1 pacote\"], [\"Vinho Tinto Suave P\\u00e9rgola 1L Garrafa de 1L Venda por Garrafa\"], [\"Tomate Seco Fornello Pote 700g Pote 700g Unidade\"], [\"N\\u00e9ctar Laranja e Ma\\u00e7\\u00e3 Tial 1L Tetra Pak de 1L Unidade\"], [\"Chocolate Genuine Meio Amargo 2,1Kg 2,1Kg Unidade\"], [\"Chocolate Suflair ao Leite 20x50g Caixa com 20 unidades de 50g Venda por Caixa\"], [\"Molho Ingl\\u00eas Cep\\u00eara 150ml Pet de 150ml Venda por Pet\"], [\"Vinagre De Vinho Tinto Castelo 750ml Pet 750ml Venda por Pet\"], [\"Mistura Pronta para P\\u00e3o Franc\\u00eas Anamix 25kg Saco de 25kg Venda por Saco\"], [\"Ch\\u00e1 Verde com Lim\\u00e3o 335ml - Natural Tea Lata de 335ml Venda por Lata\"], [\"Macarr\\u00e3o com Ovos Espaguetinho 500g - Adria Pacote de 500g Venda por Pacote\"], [\"Vinagre Bals\\u00e2mico 375ml - Galo de Barcelos Garrafa de 375ml Venda por Garrafa\"], [\"Farinha de Trigo para Pizza Dona Benta 5kg Embalagem de Papel 5kg Venda por Embalagem\"], [\"Whisky Black Baron 900ml Garrafa de 900ml Venda por Garrafa\"], [\"Azeitona Azapa 130/150 Fornello Balde 2kg Balde 2Kg Unidade\"], [\"Suco de Concentrado de Caju 500ml - Maguary Garrafa de 500ml Venda por Garrafa\"], [\"Cerveja Corona Lata 350ml Lata de 350ml Venda por Lata\"], [\"Carne Moida de Patinho 500g - Do Chefe Congelado - Pacote de 500g Venda por Pacote\"], [\"Chocolate Genuine Branco 2,1Kg 2,1Kg Unidade\"], [\"Bebida L\\u00e1ctea Whey 15g Coco 250ml - Piracanjuba TetraPak de 250ml Venda por TetraPak\"], [\"Molho Original Billy Jack 200g Bisnaga de 200g Venda por Bisnaga\"], [\"A\\u00e7\\u00facar Refinado 25Kg - Alto Alegre Pacote de 25kg Venda por Pacote\"], [\"Chocolate Bis Xtra Oreo 24X45g Barra de 45g Venda por Barra\"], [\"Molho Teriaki Cep\\u00eara 270ml Frasco de 270ml Venda por Frasco\"], [\"Toalha Americana Mini Lisa Premiatta 33x23cm Pacote com 500 toalhas Pacote\"], [\"Atum em Peda\\u00e7os com \\u00d3leo 500g - Gomes da Costa Sach\\u00ea de 500g Venda por Sach\\u00ea\"], [\"Atum Ralado com \\u00d3leo 500g - Gomes da Costa Sach\\u00ea de 500g Venda por Sach\\u00ea\"], [\"Queijo Mussarela Pizza 4kg - Scala Pe\\u00e7a de 4kg Venda por Pe\\u00e7a\"], [\"Removedor Multiuso Tradicional Suprema 500ml Frasco de 500ml Venda por Frasco\"], [\"Farinha Panko Oriental Orqu\\u00eddea 200g Pacote de 200g Venda por Pacote\"], [\"Dispenser para Papel Toalha Basic Slim Roll Kimberly-Clark Unidade Venda por Unidade\"], [\"Ch\\u00e1 Branco com Lichia 335ml - Natural Tea Lata de 335ml Venda por Lata\"], [\"Mostarda D'Lanche Sach\\u00ea 144x6g Sach\\u00ea de 6g Venda por Sach\\u00ea\"], [\"Caf\\u00e9 Cappuccino Classic 3 Cora\\u00e7\\u00f5es 1kg Pacote de 1kg Venda por Pacote\"], [\"Maionese Hemmer Sach\\u00ea 190 x 7g Caixa com 190 sach\\u00eas de 7g Venda por Caixa\"], [\"Vodka Smirnoff 998ml Garrafa de 998ml Venda por Garrafa\"], [\"Azeite Virgem Galo de Barcelos 375ml Pet de 375ml Venda por Pet\"], [\"A\\u00e7\\u00facar Demerara Alto Alegre 1Kg Pacote de 1kg Unidade\"], [\"Limpeza Pesada Yp\\u00ea 500ml Frasco de 500ml Venda por Frasco\"], [\"Suco Tial 100% Goiaba e Ma\\u00e7\\u00e3 330ml Tetra Pak de 330ml Unidade\"], [\"Smirnoff Ice 275ml Garrafa de 275ml Venda por Garrafa\"], [\"Cerveja Corona Extra 330ml Long Neck Garrafa de 330ml Unidade\"], [\"Mostarda D'Lanche Foguetinho 200g Bisnaga de 200g Venda por Bisnaga\"], [\"Tekitos Congelado 1kg - Seara Congelado - Pacote de 1kg Venda por Pacote\"], [\"Palmito Palma D'oro Salada Flex 1,10kg Pouch de 1,1kg A partir de 1 unidade\"], [\"Molho de Alho Cep\\u00eara 150ml Pet de 150ml Venda por Pet\"], [\"Bolinho de Queijo Frita 800g - Da Bisa Pacote de 800g Venda por Pacote\"], [\"A\\u00e7\\u00facar Refinado Da Barra 1Kg Pacote de 1kg Unidade\"], [\"Creme Chantilly Vegetal 1L - Ricca Tetrapak de 1L Venda por TetraPak\"], [\"Iscas de Frango Empanadas 900g - Seara Congelado - Pacote de 900g Venda por Pacote\"], [\"Champignon Inteiro Fornello Balde 1,01kg Balde 1,01Kg Unidade\"], [\"Carne Seca Bovina de Dianteiro MD - Cambu\\u00ed Resfriado - Pacote de 2.5kg A partir de 1 pacote (2.5kg)\"], [\"Fil\\u00e9 de Salm\\u00e3o em Peda\\u00e7os 500g - Bacalanor Congelado - Pacote de 500g Venda por Pacote\"], [\"Ch\\u00e1 Verde com Laranja e Gengibre 335ml - Natural Tea Lata de 335ml Venda por Lata\"], [\"Farinha de Mandioca Crua Fina Kisabor 1kg Pacote de 1kg Venda por Pacote\"], [\"Chocolate Genuine Meio Amargo 1Kg Barra de 1Kg Venda por Barra\"], [\"Salsa Desidratada Kisabor 250g Pacote de 250g Venda por Pacote\"], [\"N\\u00e9ctar P\\u00eassego e Ma\\u00e7\\u00e3 Tial 1L Tetra Pak de 1L Unidade\"], [\"N\\u00e9ctar de Morango 335ml - Maguary Lata de 335ml Venda por Lata\"], [\"Coquetel Dream Blue 500ml Garrafa de 500ml Venda por Garrafa\"], [\"Fondue de Queijo Emmental 400g - Tirolez Unidade de 400g Venda por Unidade\"], [\"Cerveja Budweiser American Lager 330ml Long Neck Garrafa de 330ml Unidade\"], [\"Polpa de Acerola 1kg - Agro Yoshi Pacote de 1kg Venda por Pacote\"], [\"Br\\u00f3colis 1.02kg - Agro Yoshi Pacote de 1.02kg Venda por Pacote\"], [\"Arroz Integral Campeiro 1kg Pacote de 1kg Venda por Pacote\"], [\"Polpa de Abacaxi - Ricaeli Pacote de 1kg - Cont\\u00e9m 10 unidades de 100g A partir de 1 pacote (1kg)\"], [\"A\\u00e7\\u00facar Cristal Alto Alegre 2Kg Pacote de 2kg Unidade\"], [\"Carne Seca de Traseiro - Cambu\\u00ed Pacote de 1kg 1 pacote (1kg)\"], [\"Sab\\u00e3o em barras Yp\\u00ea Neutro 900g Pl\\u00e1stico 900g Venda por Pl\\u00e1stico\"], [\"Detergente Suprema Neutro 5L Frasco de 5L Unidade\"], [\"Vinagre de \\u00c1lcool Colorido Galo de Barcelos 3L Gal\\u00e3o de 3L Unidade\"], [\"Trigo para Kibe 500g - Hikari Pacote de 500g Venda por Pacote\"], [\"Desinfetante Flores da Primavera Triex 5L Garrafa de 5L Venda por Garrafa\"], [\"Maionese Siolle 3Kg Balde de 3kg Unidade\"], [\"Ketchup D'Lanche Sach\\u00ea 144x6g Sach\\u00ea de 6g Venda por Sach\\u00ea\"], [\"Molho de Tomate Tradicional Quero Sach\\u00ea 2kg Sach\\u00ea de 2Kg Venda por Sach\\u00ea\"], [\"Molho de Alho Cep\\u00eara 1,01L Pet de 1,01L Unidade\"], [\"Cobertura Genuine Ao Leite em Moedas 2,05kg Pacote de 2,05kg Unidade\"], [\"Fermento em P\\u00f3 Tradicional Dona Benta 100g Frasco de 100g A partir de 1 unidade\"], [\"Achocolatado Chocolatto 700g - 3 Cora\\u00e7\\u00f5es Pacote de 700g Venda por Pacote\"], [\"Sal Marinho Marfim Churrasco 1Kg Pacote de 1kg Venda por Pacote\"], [\"Maionese Heinz 390g Frasco de 390g Unidade\"], [\"Batata Pr\\u00e9-Frita Tradicional 2Kg - Prime Fries Pacote de 2kg Venda por Pacote\"], [\"Guardanapo Folha Dupla Mili Bistr\\u00f4 23cmx 22,5cm Pacote com 50 folhas Venda por Pacote\"], [\"Molho de Tomate Tradicional Mamma D'oro 1,7kg Sach\\u00ea de 1,7Kg Venda por Sach\\u00ea\"], [\"Steak de Frango Empanado CX - SEARA Congelado - Caixa de 7.2kg (72 Steaks de 100g) A partir de 1 caixa (72 Steaks)\"], [\"Ado\\u00e7ante Uni\\u00e3o Sach\\u00ea Sucralose 400x600mg Caixa com 400 unidades de sach\\u00ea de 600mg A partir de 1 unidade\"], [\"Champignon Fatiado Fornello Balde 1,01kg Balde 1,01Kg Unidade\"], [\"Margarina Com Sal 500g - Cremosy Pote de 500g Venda por Pote\"], [\"N\\u00e9ctar de Laranja 150ml - Fruit Shoot Tetra Pak de 150ml Venda por Tetra\"], [\"Farofa Temperada Premium 400g - Kicaldo Pacote de 400g Venda por Pacote\"], [\"Caf\\u00e9 Tradicional a V\\u00e1cuo Melitta 500g Pacote de 500g Unidade\"], [\"Vodka Balalaika 1L Garrafa de 1L A partir de 1 unidade\"], [\"Tira Limo Yp\\u00ea Cloro Gel 520g Frasco com 520g Venda por Frasco\"], [\"Salame tipo Italiano 0.38Kg - SEARA Pe\\u00e7a de 0.38Kg A partir de 1 pe\\u00e7a\"], [\"Caf\\u00e9 Brasileiro Tradicional V\\u00e1cuo 500g Pacote de 500g Venda por Pacote\"], [\"Lingui\\u00e7a Toscana - Frimesa Pacote de 1kg A partir de 2 pacotes (2kg)\"], [\"Requeij\\u00e3o Cremoso Sabor Cheddar 1kg - Catupiry Resfriado - Bisnaga de 1.010kg A partir de 1 bisnaga\"], [\"Chocolate Talento Meio Amargo 15x25g Caixa com 15 barras de 25g Venda por Caixa\"], [\"Cerveja Amstel Sleek 350ml Lata de 350ml Venda por Lata\"], [\"Frango a Passarinho com Osso In Natura - SEARA Pacote de 1kg A partir de 2 pacotes (2kg)\"], [\"Farinha de Trigo 5Kg - Globo Pacote de 5kg Venda por Pacote\"], [\"Cerveja Original Pilsen 600ml Garrafa Garrafa de 600ml Unidade\"], [\"\\u00d3leo de Algod\\u00e3o 14.5kg - Sa\\u00fade (Atacado) Balde de 14.5kg Venda por Balde\"], [\"Fil\\u00e9 de Polaca 500g - Se7e Mares Congelado - Pacote de 500g Venda por Pacote\"], [\"Vinho Tinto Seco Santo Expedito 750ml Garrafa de 750ml Venda por Garrafa\"], [\"\\u00c1lcool Neutro Sulmar 46\\u00b0 500ml Garrafa 500ml Venda por Garrafa\"], [\"Or\\u00e9gano 30g - Hikari Pacote de 30g Venda por Pacote\"], [\"Vinagre De \\u00c1lcool Castelo 750ml Pet 750ml Venda por Pet\"], [\"Farinha Flocada para Empanar 200g - Hikari Pacote de 200g Venda por Pacote\"], [\"Molho de Tomate Passata Pomarola 1,02Kg Sach\\u00ea de 1,02Kg Venda por Sach\\u00ea\"], [\"Azeitona Verde Fatiada Ol\\u00e9 120g Sach\\u00ea de 120g Venda por Sach\\u00ea\"], [\"Polpa de Abacaxi 1kg - Agro Yoshi Pacote de 1kg Venda por Pacote\"], [\"Desinfetante Bak Yp\\u00ea Lavanda 5L Garrafa 5L Venda por Garrafa\"], [\"Sal de Parrilla 500g - Lebre Pacote de 500g Venda por Pacote\"], [\"Molho de Tomate sabor Pizza Tarantella 2Kg Sach\\u00ea de 2Kg Unidade\"], [\"Iscas de F\\u00edgado - Friboi Congelado - Pacote de 500g Venda por Pacote\"], [\"Extrato de Tomate Elefante 1,04Kg TetraPak de 1,04kg Venda por Tetra\"], [\"Carne Seca Su\\u00edna - BJP Mezato Pacote de 2.5kg A partir de 1 pacote (2.5kg)\"], [\"Bacon Fatiado 750g - Sadia Refrigerado - Pacote de 750g Venda por Pacote\"], [\"N\\u00e9ctar de Maracuj\\u00e1 200ml - Maguary Tetra pak de 200ml Venda por Tetra\"], [\"Polpa de Maracuj\\u00e1 1kg - Agro Yoshi Pacote de 1kg Venda por Pacote\"], [\"N\\u00e9ctar Caju Yummy 200ml TetraPak de 200ml Venda por Tetra\"], [\"Desinfetante Bak Yp\\u00ea Lavanda 500ml Garrafa 500ml Venda por Garrafa\"], [\"Suco 100% Ma\\u00e7\\u00e3 150ml - Fruit Shoot Tetra Pak de 150ml Venda por Tetra\"], [\"Couve-Flor 1.02kg - Agro Yoshi Pacote de 1.02kg Venda por Pacote\"], [\"Chocolate Alpino Nestl\\u00e9 22x25g Caixa com 22 barras de 25g Venda por Caixa\"], [\"Extrato Tomate Elefante 4,08kg Lata de 4,08Kg Unidade\"], [\"Sardinha com \\u00d3leo 250g - Gomes da Costa Lata de 250g Venda por Lata\"], [\"Presunto Cozido Magro Oval 3.4Kg - SEARA Refrigerado - Pe\\u00e7a de 3.4Kg Venda por Pe\\u00e7a\"], [\"Chiclete Bubbaloo Tutti-Frutti Bag com 10 unidades Pacote de 50g Venda por Pacote\"], [\"Limpador Multiuso Limpeza Pesada Suprema 500ml Frasco de 500ml Venda por Frasco\"], [\"Lombo de Bacalhau Levemente Salgado 800g - Bacalanor Congelado - Pacote de 800g Venda por Pacote\"], [\"Vinho Rose Piscine 750ml Garrafa de 750ml Venda por Garrafa\"], [\"Paliteiro Billa c/ 100 Unidade com 100 palitos Unidade\"], [\"A\\u00e7\\u00facar Refinado Caravelas 25kg Pacote de 25kg Venda por Pacote\"], [\"Caf\\u00e9 Pouch 3 Cora\\u00e7\\u00f5es Estrada Real 500g Pacote de 500g Venda por Pacote\"], [\"Batata Palha Extra Fina Kisabor 100g Pacote de 100g Venda por Pacote\"], [\"Cloro concentrado Suprema 5L Frasco de 5L Unidade\"], [\"Alcaparras 09/11 Fornello Balde 2kg Balde 2Kg Unidade\"], [\"Fanta Guaran\\u00e1 220ml Lata de 220ml Venda por Lata\"], [\"Carne Seca Bovina de Traseiro MD - Cambu\\u00ed Resfriado - Pacote de 2.5kg A partir de 1 pacote (2.5kg)\"], [\"Mostarda com Mel Cep\\u00eara 400g Bisnaga de 400g Venda por Bisnaga\"], [\"Mostarda Hemmer Sach\\u00ea 190 x 7g Caixa com 190 sach\\u00eas de 7g Venda por Caixa\"], [\"Tampa Marmitex Totalplast Fardo com 100 tampas para marmitex Venda por Fardo\"], [\"Ch\\u00e1 Branco com Pitaya e Amora 335ml - Natural Tea Lata de 335ml Venda por Lata\"], [\"Caf\\u00e9 Uni\\u00e3o Extraforte Pouch 500g Pacote de 500g A partir de 1 unidade\"], [\"Polpa de Abacaxi com Hortel\\u00e3 1kg - Agro Yoshi Pacote de 1kg Venda por Pacote\"], [\"Chocolate Genuine Ao Leite em Moedas 2,05kg Pacote de 2,05kg Unidade\"], [\"Coquetel Duelo Maracuj\\u00e1 500ml Garrafa de 500ml Venda por Garrafa\"], [\"Cominho em P\\u00f3 40g - Hikari Pacote de 40g Venda por Pacote\"], [\"Contra-Fil\\u00e9 Bovino Refrigerado 3Kg - Friboi Refrigerado - Peso Vari\\u00e1vel Venda por Peso\"], [\"Lingui\\u00e7a Defumada 2.5kg - Rezende Pacote de 2.5kg Venda por Pacote\"], [\"N\\u00e9ctar Laranja Yummy 1L Tetrapak de 1L Venda por Tetra\"], [\"Caf\\u00e9 Tradicional Bom Jesus 500g Almofada de 500g Unidade\"], [\"P\\u00e3o de Queijo 1Kg - Brico Bread Pacote de 1Kg (Aproximadamente 60 unidades) Venda por Pacote\"], [\"Vinho Tinto Seco Santo Expedito 4,5L Garrafa de 4,5L Venda por Garrafa\"], [\"Molho de Tomate Tradicional Sach\\u00ea 1.7kg - Pomarola Sach\\u00ea de 1.7kg Venda por Sach\\u00ea\"], [\"Maionese Caseira Sach\\u00ea 7g - Liza Caixa com 144 sach\\u00eas de 7g Venda por Caixa\"], [\"Farinha de Rosca 4.5Kg - Hikari Pacote de 4.5Kg Venda por Pacote\"], [\"Queijo Mussarela Fatiado 1kg - Goiabal Resfriado - Pacote de 1kg (40 fatias de 25g aprox.) A partir de 1 pacote\"], [\"Polpa de Manga - Ricaeli Pacote de 1kg - Cont\\u00e9m 10 unidades de 100g A partir de 1 pacote (1kg)\"], [\"Coxinha da Asa de Frango com Osso - SEARA Pacote de 1kg A partir de 2 pacotes (2kg)\"], [\"Bebida Vegetal A Tal Da Castanha Original 1L Tetrapak 1L Venda por TetraPak\"], [\"Bisteca Su\\u00edna Fatiada - BJP Selecta Pacote de 2kg - Aprox. 16 fatias de 125g 1 pacote (2kg)\"], [\"\\u00c1gua Sanit\\u00e1ria Suprema 5L Frasco de 5L Unidade\"], [\"Sap\\u00f3lio Radium Em Pedra Cl\\u00e1ssico 200g 200g Unidade\"], [\"Feij\\u00e3o Preto Caldo Nobre 1kg Pacote de 1kg Unidade\"], [\"Cerveja Heineken 0,0% long neck 330ml Garrafa de 330ml Unidade\"], [\"Molho de Tomate Tradicional Quero 300g Sach\\u00ea de 300g A partir de 1 unidade\"], [\"Batata Palha Tradicional Kisabor 100g Pacote de 100g Venda por Pacote\"], [\"Desinfetante Yp\\u00ea Bak Lavanda 2L Frasco de 2L Venda por Frasco\"], [\"A\\u00e7\\u00facar Uni\\u00e3o Premium Sach\\u00ea 400x5g Sach\\u00eas de 5g Caixa\"], [\"Farinha de Trigo para Salgado Rosa Branca 5kg Embalagem de Papel 5kg Venda por Embalagem\"], [\"Desengordurante Triex 500ml Garrafa 500ml Unidade\"], [\"Mostarda Sach\\u00ea 144x5g - Predilecta Caixa com 144 sach\\u00eas de 5g Venda por Caixa\"], [\"Maionese Quero Balde 3Kg Balde de 3kg Venda por Balde\"], [\"Papel higi\\u00eanico folha dupla Deluxe Ultra leve 12 pague 11 rolos Pacote com 12 rolos Venda por Pacote\"], [\"Coca-Cola Zero 2L Garrafa de 2l Venda por Garrafa\"], [\"Cream Cheese Cremoso 1.2kg - Catupiry Resfriado - Bisnaga de 1.2kg A partir de 1 bisnaga\"], [\"Molho de Pimenta Cep\\u00eara 150ml Pet de 150ml Venda por Pet\"], [\"Azeite de Oliva Extra Virgem Cocineiro 250ml Frasco de 250ml Unidade\"], [\"Polpa de Morango 1kg - Agro Yoshi Pacote de 1kg Venda por Pacote\"], [\"Ac\\u00e9m em Cubos - Friboi Congelado - Pacote de 500g Venda por Pacote\"], [\"Cogumelos Inteiros Ol\\u00e9 80g Sach\\u00ea de 80g Venda por Sach\\u00ea\"], [\"Milho para Pipoca Premium 500g - Hikari Pacote de 500g Venda por Pacote\"], [\"Farinha de Trigo Embalagem de Papel 5Kg - Farina Pacote de 5kg Venda por Pacote\"], [\"Cerveja Brahma Duplo Malte Lata 269ml Lata de 269ml Venda por Lata\"], [\"Fanta Guarana 350ml Lata de 350ml Unidade\"], [\"Chiclete Trident Canela 21X8g Pacote de 8g Venda por Pacote\"], [\"Queijo Parmesao 1.4kg - Scala Pe\\u00e7a de 1.4kg 1 pe\\u00e7a\"], [\"Polvilho Azedo 500g - Hikari Pacote de 500g Venda por Pacote\"], [\"Lentilha 500g - Hikari Pacote de 500g Venda por Pacote\"], [\"Sapon\\u00e1ceo Cremoso Yp\\u00ea Original 300ml Garrafa 300ml Venda por Garrafa\"], [\"Sal do Himalaia Mo\\u00eddo 500g - Lebre Pacote de 500g Venda por Pacote\"], [\"Lombo Su\\u00edno em Bifes - BJP Mezato Congelado - Pacote de 2kg (20 bifes de 100g aprox.) A partir de 1 pacote (2kg)\"], [\"Chocolate Genuine Blend 1Kg Barra de 1Kg Venda por Barra\"], [\"Sukita Uva 200ml Garrafa de 200ml Venda por Garrafa\"], [\"Farinha de Rosca 500g - Pantera Pacote de 500g Venda por Pacote\"], [\"Molho de Tomate Tradicional Pomarola 1,06Kg TetraPak de 1,06Kg Venda por TetraPak\"], [\"Fruta Congelada Abacaxi 1.02Kg - Ricaeli Pacote de 1.02kg Venda por Pacote\"], [\"Kibe Frito 800g - Da Bisa Pacote de 800g Venda por Pacote\"], [\"Cobertura Genuine Meio Amargo 2,1Kg 2,1Kg Unidade\"], [\"Vodka Toroika 900ml Garrafa de 900ml Venda por Garrafa\"], [\"Coquetel Vinhagrinha Coco 500ml Garrafa de 500ml Venda por Garrafa\"], [\"Cacha\\u00e7a 51 965ml Garrafa de 965ml A partir de 1 unidade\"], [\"Lingui\\u00e7a tipo Calabresa - Sadia Pacote de 2.5kg 1 pacote (2.5kg)\"], [\"Apresuntado Fatiado - Frimesa Refrigerado - Pacote de 200g Venda por Pacote\"], [\"Queijo Parmes\\u00e3o Ralado 1kg - Goiabal Resfriado - Pacote de 1kg A partir de 1 pacote (1kg)\"], [\"Polpa de Morango - Ricaeli Pacote de 1kg - Cont\\u00e9m 10 unidades de 100g A partir de 1 pacote (1kg)\"], [\"\\u00c1gua Mineral Crystal com g\\u00e1s 500ml Garrafa de 500ml A partir de 1 unidade\"], [\"Polpa de Caju 1kg - Agro Yoshi Pacote de 1kg Venda por Pacote\"], [\"Carne Seca Bovina de Dianteiro Pq - Mineiro Resfriado - Pacote de 1kg A partir de 1 pacote (1kg)\"], [\"Farinha de Rosca 4kg - Kisabor Pacote de 4kg Venda por Pacote\"], [\"\\u00d3leo Composto Maria 500ml Pet de 500ml Venda por Pet\"], [\"N\\u00e9ctar Laranja e Ma\\u00e7\\u00e3 Tial 330ml Tetra Pak de 330ml Unidade\"], [\"Banha Su\\u00edna 1kg - Frimesa Pacote de 1kg 1 pacote\"], [\"Presunto Cozido Oval sem Capa 3.41kg - Rezende Resfriado - Pe\\u00e7a de 3.41kg A partir de 1 pe\\u00e7a\"], [\"A\\u00e7\\u00facar Cristal Uni\\u00e3o 1Kg Pacote de 1kg Unidade\"], [\"Leite Condensado Semidesnatado Triangulo Mineiro 395g Tetra Pak de 395g Unidade\"], [\"Caf\\u00e9 Extraforte Pouch Melitta 250g Pouch de 250g Unidade\"], [\"Mostarda Amarela Cep\\u00eara 3,3Kg Gal\\u00e3o de 3,3Kg Unidade\"], [\"Molho de Tomate Pizza Mamma D'oro 1,7kg Sach\\u00ea de 1,7Kg Venda por Sach\\u00ea\"], [\"Caf\\u00e9 Tradicional Pouch 3 Cora\\u00e7\\u00f5es 500g Pacote de 500g Unidade\"], [\"Ketchup Cep\\u00eara Squeeze 400g Squeeze de 400g Venda por Squeeze\"], [\"Coxinha da Asa de Frango com Osso IQF - Lar Congelado - Pacote de 2kg A partir de 1 pacote (2kg)\"], [\"P\\u00e3o Franc\\u00eas Congelado 1.3Kg - Brico Bread Pacote de 1.3Kg (Aproximadamente 20 unidades) Venda por Pacote\"], [\"Esponja Antiaderente Embalagem Econ\\u00f4mica Bombril Kit com 3 esponjas Pacote\"], [\"Ketchup Cep\\u00eara 1,01Kg Frasco de 1,01Kg Unidade\"], [\"Chocolate Lacta ao Leite 12X34g Barra de 45g Venda por Barra\"], [\"Molho Para Salada Liza Sabor Vinagrete 234ml Pet 234ml Unidade\"], [\"Macarr\\u00e3o com Ovos Espaguete 500g - J\\u00f3ia Pacote de 500g Venda por Pacote\"], [\"N\\u00e9ctar de Goiaba 1L - Maguary Tetra Pak de 1L Venda por Tetra\"], [\"Papel higi\\u00eanico folha dupla Cotton leve 12 pague 11 rolos Pacote com 12 rolos Venda por Pacote\"], [\"Base Culin\\u00e1ria Triangulo Mineiro 1kg Tetrapack 1 L (Com Tampa) Unidade\"], [\"Massa Lasanha Caseira Direto Ao Forno Dona Benta 200g Pacote de 200g A partir de 1 unidade\"], [\"Extrato de Tomate Quero Sach\\u00ea 1,02kg Sach\\u00ea de 1,02Kg Venda por Sach\\u00ea\"], [\"Ketchup D'Lanche 3kg Bombona de 3kg Venda por Bombona\"], [\"Macarr\\u00e3o com Ovos Ninho Dona Benta 500g Pacote de 500g Unidade\"], [\"Mortadela 1kg - Confian\\u00e7a Refrigerado - Pe\\u00e7a 1kg Venda por Pe\\u00e7a\"], [\"Caf\\u00e9 Tradicional V\\u00e1cuo 3 Cora\\u00e7\\u00f5es 500g Pacote de 500g Unidade\"], [\"A\\u00e7a\\u00ed Original - Frooty Congelado - Balde de 3.6kg A partir de 1 balde (3.6kg)\"], [\"Azeite de Oliva Extra Virgem Cocinero 500ml Frasco de 500ml Unidade\"], [\"Coca-Cola Zero 220ml Lata de 220ml Venda por Lata\"], [\"Seleta de Legumes Ol\\u00e9 170g Lata de 170g Venda por Lata\"], [\"Macarr\\u00e3o com Ovos Ninho 500g - Adria Pacote de 500g Venda por Pacote\"], [\"Esponja Multiuso Yp\\u00ea 1 unidade Pl\\u00e1stico 1 unidade Venda por Pl\\u00e1stico\"], [\"Manteiga sem Sal 5kg - Scala Bloco de 5kg 1 bloco\"], [\"Canela em P\\u00f3 500g - Hikari Pacote de 500g Venda por Pacote\"], [\"Suco 100% Laranja 150ml - Fruit Shoot Tetra Pak de 150ml Venda por Tetra\"], [\"N\\u00e9ctar de Tangerina 335ml - Maguary Lata de 335ml Venda por Lata\"], [\"Molho Yakissoba 500ml - Cep\\u00eara Garrafa de 500ml Venda por Garrafa\"], [\"Guardanapo Mili Bistro Folha Dupla 30x29,5cm Pacote com 50 folhas Venda por Pacote\"], [\"Chocolate Chokito ao Leite Nestl\\u00e9 30x32g Caixa com 30 unidades de 32g Venda por Caixa\"], [\"Lingui\\u00e7a Toscana Selada 5Kg - Frimesa Congelado - Pacote de 5kg Venda por Pacote\"], [\"Br\\u00f3colis 1.5Kg - Ati-Gel Pacote de 1.5kg Venda por Pacote\"], [\"Chiclete Trident Morango 21X8g Pacote de 8g Venda por Pacote\"], [\"Bebida de Castanha de Caju Sabor Chocolate sem Leite 1L Tetrapak 1L Venda por TetraPak\"], [\"Desinfetante Perfumes do Eucalipto Triex 500ml Garrafa de 500ml Venda por Garrafa\"], [\"P\\u00e3o de Queijo 1.01Kg - Da Bisa Pacote de 1.01Kg Venda por Pacote\"], [\"Mandioca Tolete 1.02kg - Agro Yoshi Pacote de 1.02kg Venda por Pacote\"], [\"Vinagre De \\u00c1lcool Colorido Castelo 750ml Pet 750ml Venda por Pet\"], [\"Leite em P\\u00f3 Integral 400g - Piracanjuba Almofada de 400g Venda por Almofada\"], [\"Margarina Cremosa com Sal 1kg - Claybom Pote de 1kg A partir de 2 potes\"], [\"Detergente Suprema Clear 5L Frasco de 5L Unidade\"], [\"Vinagre de Arroz Castelo 5L Gal\\u00e3o de 5L Venda por Gal\\u00e3o\"], [\"Farinha de Trigo para Pizza 5Kg - Suprema Pacote de 5kg Venda por Pacote\"], [\"Maionese Cep\\u00eara Sach\\u00ea 175 X 7g Sach\\u00eas de 7g Caixa\"], [\"Mostarda Ol\\u00e9 180g Bisnaga de 180g Venda por Bisnaga\"], [\"Porco a Passarinho Temperado - Frimesa Congelado - Pacote de 1kg A partir de 2 pacotes (2kg)\"], [\"Batata Palha 400g - Confraria do Alimento Pacote de 400g Venda por Pacote\"], [\"Caf\\u00e9 Sol\\u00favel Extraforte 3 Cora\\u00e7\\u00f5es 40g Pacote de 40g Venda por Pacote\"], [\"Apresuntado 3.58Kg - Frimesa Pe\\u00e7a de 3.58kg 1 pe\\u00e7a\"], [\"Coca-Cola 220ml Lata de 220ml Venda por Lata\"], [\"Arroz Culin\\u00e1ria Italiana Camil Food Service 2Kg Pacote de 2kg Unidade\"], [\"Toucinho pra Torresmo in Natura - BJP Congelado - Pacote de 3kg (60 pe\\u00e7as de 50g aprox.) A partir de 1 pacote (3kg)\"], [\"Queijo Mussarela 3.6kg - Tirolez Resfriado - Pe\\u00e7a de 3.6kg A partir de 1 pe\\u00e7a\"], [\"Molho de Tomate Quero 1,02kg Sach\\u00ea de 1,02Kg Unidade\"], [\"An\\u00e9is de Cebola 1.05kg - Bem Brasil Congelado - Pacote de 1.05kg A partir de 1 pacote\"], [\"Milho para Pipoca Kicaldo 500g Pacote de 500g A partir de 1 unidade\"], [\"Farinha de Trigo para Pizza Rosa Branca 5kg Embalagem de Papel 5kg Venda por Embalagem\"], [\"Fondue de Queijo 400g - Tirolez Unidade de 400g Venda por Unidade\"], [\"Misturas de \\u00f3leos vegetais Sa\\u00fade Fry 14.5kg Balde De 14,5Kg Unidade\"], [\"Frango Inteiro s/ Mi\\u00fados - Sadia Pacote de 1.4kg aprox. (1 frango de 1.35kg a 1.45kg) 1 pacote (1.4kg)\"], [\"\\u00c1gua sanit\\u00e1ria Yp\\u00ea 5l Gal\\u00e3o 5L Unidade\"], [\"Molho Shoyu 5L - Cep\\u00eara Garrafa de 5L Venda por Garrafa\"], [\"Batata Palha 800g - Confraria do Alimento Pacote de 800g Venda por Pacote\"], [\"Batata Pr\\u00e9-Frita Crinkle 2kg - Bem Brasil Congelado - Pacote de 2kg A partir de 1 pacote\"], [\"Heineken Garrafa 600ml descart\\u00e1vel Garrafa de 600ml Unidade\"], [\"Vinagre de \\u00c1lcool Galo de Barcelos 3L Gal\\u00e3o de 3L Unidade\"], [\"Vinho Tinto Suave Santo Expedito 750ml Garrafa de 750ml Venda por Garrafa\"], [\"Filezinho de Sassami Empanado - Lar Congelado - Pacote de 1.5kg Venda por Pacote\"], [\"Polenta Palito 1.05kg - Bem Brasil Congelado - Pacote de 1.05kg A partir de 1 pacote\"], [\"Creme de Leite Leve (17%) 200g - Tri\\u00e2ngulo Mineiro Tetra Pak de 200g Venda por Tetra\"], [\"Cacha\\u00e7a Corote Garrafa 500ml Garrafa de 500ml Venda por Garrafa\"], [\"Caf\\u00e9 Extraforte V\\u00e1cuo 3 Cora\\u00e7\\u00f5es 500g Pacote de 500g Unidade\"], [\"Guardanapo folha dupla Elite 50 folhas 23,5 x 24cm Pacote com 50 folhas Pacote\"], [\"Milho para Pipoca Premium Dona Clara 500g Pacote de 500g Venda por Pacote\"], [\"Farinha de Mandioca Torrada 500g - Hikari Pacote de 500g Venda por Pacote\"], [\"Queijo Prato 2.91Kg - Frimesa Pe\\u00e7a de 2.91kg 1 pe\\u00e7a\"], [\"\\u00c1gua sanit\\u00e1ria Yp\\u00ea 2l Frasco de 2L Unidade\"], [\"Maionese D'Lanche Sach\\u00ea 144x6g Sach\\u00ea de 6g Venda por Sach\\u00ea\"], [\"Suco de Concentrado de Uva 500ml - Maguary Garrafa de 500ml Venda por Garrafa\"], [\"Ciabatta Grande 218g - Brico Bread Pacote de 218g (2 unidades) Venda por Pacote\"], [\"Tomates Pelados em Cubos 240g - Ol\\u00e9 Lata de 240g Venda por Lata\"], [\"Hamb\\u00farguer Bovino Grande - Plena Congelado - Caixa com 4.32Kg (48 und de 90g) A partir de 1 caixa (48 hamb.)\"], [\"Farinha de Trigo para Confeitaria 5Kg - Suprema Pacote de 5kg Venda por Pacote\"], [\"Chocolate Genuine ao Leite 2,1Kg 2,1Kg Unidade\"], [\"Refrigerante Pepsi Black Sem A\\u00e7\\u00facar 350ml Lata Lata de 350ml Venda por Lata\"], [\"Esponja Multiuso Yp\\u00ea 3 unidades Kit com 3 esponjas Venda por Kit\"], [\"Margarina Cremosa com Sal 1kg - Doriana Pote de 1kg A partir de 2 potes\"], [\"Br\\u00f3colis 1.1kg - Lar Congelado - Pacote de 1.1kg A partir de 1 pacote\"], [\"Fruta Congelada Morango 1.02Kg - Ricaeli Pacote de 1.02kg Venda por Pacote\"], [\"Costelinha Su\\u00edna in Natura - BJP Mezato Congelado - Pacote de 2kg (30 pe\\u00e7as de 66g aprox.) A partir de 1 pacote (2kg)\"], [\"Carne Seca Bovina de Dianteiro - Mineiro Resfriado - Pacote de 5kg A partir de 1 pacote (5kg)\"], [\"Vinagre de Ma\\u00e7\\u00e3 Galo de Barcelos 750ml Pet de 750ml Venda por Pet\"], [\"Coquetel de Vinho Cantinho do Vale 880ml Garrafa de 880ml Venda por Garrafa\"], [\"Fil\\u00e9 de Pangasius Interfolhado CX 10Kg - Cadovimex Congelado - Caixa de 10Kg Venda por Caixa\"], [\"Papel toalha Kitchen Jumbo leve 240, pague 220 folhas Pacote com 2 rolos Pacote\"], [\"Farinha de Mandioca 4.5Kg - Hikari Pacote de 4.5Kg Venda por Pacote\"], [\"Coca-Cola Zero 200ml Garrafa de 200ml A partir de 1 unidade\"], [\"Suco Tial 100% Ma\\u00e7\\u00e3 330ml Tetra Pak de 330ml Unidade\"], [\"Molho Para Salada Liza Sabor Caseiro 234ml Pet 234ml Unidade\"], [\"Maionese Sach\\u00ea 144x7g - Heinz Caixa com 144 sach\\u00eas de 7g Venda por Caixa\"], [\"Molho Shoyu Premium Cep\\u00eara 270ml Frasco de 270ml Venda por Frasco\"], [\"N\\u00e9ctar Goiaba e Ma\\u00e7\\u00e3 Tial 330ml Tetra Pak de 330ml Unidade\"], [\"Bala Halls Extra Forte 21 X 27,5g Pacote de 27.5g Venda por Pacote\"], [\"Queijo Prato Fatiado 1kg - Goiabal Resfriado - Pacote de 1kg (40 fatias de 25g aprox.) A partir de 1 pacote\"], [\"Bala Halls Cereja 21 x 28g Pacote de 28g Venda por Pacote\"], [\"N\\u00e9ctar Goiaba Yummy 1L Tetrapak de 1L Venda por Tetra\"], [\"N\\u00e9ctar de Uva 200ml - Maguary Tetra pak de 200ml Venda por Tetra\"], [\"Margarina com Sal 14,5Kg - Cremosy Balde De 14,5Kg Venda por Balde\"], [\"Caf\\u00e9 Extraforte Pouch 3 Cora\\u00e7\\u00f5es 500g Pacote de 500g Unidade\"], [\"Cerveja Spaten Puro Malte 269ml Lata de 269ml Venda por Lata\"], [\"Molho Barbecue 400g - Cep\\u00eara Garrafa de 400g Venda por Garrafa\"], [\"Posta de Ca\\u00e7\\u00e3o 800g - Noriberica Congelado - Pacote de 800g Venda por Pacote\"], [\"Ketchup Predilecta 400g Frasco de 400g Unidade\"], [\"Sardinha em \\u00f3leo Coqueiro 125g Lata de 125g Unidade\"], [\"N\\u00e9ctar de Laranja 1L - Maguary Tetra Pak de 1L Venda por Tetra\"], [\"Polpa de Frutas Vermelhas - Ricaeli Pacote de 1kg - Cont\\u00e9m 10 unidades de 100g A partir de 1 pacote (1kg)\"], [\"Chickenitos Supreme - SEARA Pacote de 2.5kg - Cont\\u00e9m aprox. 119 unidades de 21g 1 pacote (2.5kg)\"], [\"Mandioca Tolete Pr\\u00e9-Cozida - Matheus Pacote de 2.5kg 1 pacote (2.5kg)\"], [\"N\\u00e9ctar de Morango 150ml - Fruit Shoot Tetra Pak de 150ml Venda por Tetra\"], [\"Coxinha de Frango Empanada 400g - Seara Congelado - Pacote de 400g Venda por Pacote\"], [\"Ketchup Predilecta Sach\\u00ea 144x7g Sach\\u00eas de 7g Caixa\"], [\"\\u00c1lcool Gel Acendedor Sulmar 80\\u00b0 5Kg Garrafa 5Kg Venda por Garrafa\"], [\"Cox\\u00e3o Mole Bovino 9Kg - Estrela Refrigerado - Pe\\u00e7a de 9Kg Venda por Pe\\u00e7a\"], [\"Ketchup Ol\\u00e9 1,1kg Sach\\u00ea de 1,1kg Venda por Sach\\u00ea\"], [\"Manjeric\\u00e3o 7g - Hikari Pacote de 7g Venda por Pacote\"], [\"Costela Barbecue Gourmet 1Kg - Seara Congelado - Pacote de 1kg Venda por Pacote\"], [\"Carne Su\\u00edna de Pernil em Cubos IQF - Mezato Congelado - Pacote de 2kg Venda por Pacote\"], [\"N\\u00e9ctar de Tangerina 1L - Maguary Tetra Pak de 1L Venda por Tetra\"], [\"Vinagre de Lim\\u00e3o Castelo 750ml Pet de 750ml Venda por Pet\"], [\"N\\u00e9ctar de Uva Zero A\\u00e7\\u00facar 200ml - Maguary Tetra pak de 200ml Venda por Tetra\"], [\"Suco de Concentrado de Abacaxi 500ml - Maguary Garrafa de 500ml Venda por Garrafa\"], [\"Maionese Sa\\u00fade Sach\\u00ea 1.0kg Caixa com 6 Sach\\u00eas de 1.0kg Venda por Caixa\"], [\"Coxinha Frita 800g - Da Bisa Pacote de 800g Venda por Pacote\"], [\"Espumante Argentino Dulce Novecento 750ml Garrafa de 750ml Venda por Garrafa\"], [\"Contra Fil\\u00e9 Bovino 3Kg - Estrela Refrigerado - Pe\\u00e7a de 3kg Venda por Pe\\u00e7a\"], [\"A\\u00e7a\\u00ed Tradicional 3.6L - Maori Balde de 3kg Venda por Balde\"], [\"Ketchup D'Lanche Foguetinho 200g Bisnaga de 200g Venda por Bisnaga\"], [\"Mostarda Amarela Cep\\u00eara 350g Bisnaga de 350g Venda por Bisnaga\"], [\"N\\u00e9ctar Caju Yummy 1L Tetrapak de 1L Venda por Tetra\"], [\"N\\u00e9ctar de Uva 335ml - Maguary Lata de 335ml Venda por Lata\"], [\"N\\u00e9ctar Laranja Yummy 200ml TetraPak de 200ml Venda por Tetra\"], [\"Chocolate Genuine Branco em Moedas 2,05kg Pacote de 2,05kg Unidade\"], [\"N\\u00e9ctar Goiaba Yummy 200ml TetraPak de 200ml Venda por Tetra\"], [\"Molho de Tomate Tradicional Tarantella 1,06Kg TetraPak de 1,06Kg Venda por TetraPak\"], [\"Cox\\u00e3o Mole Bovino 7.5Kg - Estrela Refrigerado - Pe\\u00e7a de 7.5Kg Venda por Pe\\u00e7a\"], [\"Fanta Guaran\\u00e1 Zero 350ml Lata de 350ml Venda por Lata\"], [\"Conhaque Marru\\u00e1 880ml Garrafa de 880ml Venda por Garrafa\"], [\"Ketchup Heinz 2kg Bag de 2Kg Unidade\"], [\"Suco de Concentrado de Goiaba 500ml - Maguary Garrafa de 500ml Venda por Garrafa\"], [\"Marmitex de alum\\u00ednio Wyda 480ml Pacote com 100 embalagens com tampas Pacote\"], [\"Amaciante De Carne Kisabor 1,01Kg Pacote de 1,01Kg Venda por Pacote\"], [\"Whisky Km 58 900ml Garrafa de 900ml Venda por Garrafa\"], [\"Queijo tipo Gorgonzola 3kg - Scala Pe\\u00e7a de 3kg Venda por Pe\\u00e7a\"], [\"Lentilha Seca Kisabor 500g Pacote de 500g Venda por Pacote\"], [\"Arroz Mix Campeiro 5kg Pacote de 5kg Venda por Pacote\"], [\"Creme de Cebola Maggi 68g Pacote de 68g Venda por Pacote\"], [\"Espumante Argentino Brut Novecento 750ml Garrafa de 750ml Venda por Garrafa\"], [\"Atum em Peda\\u00e7os ao Natural 170g - Gomes da Costa Lata de 170g Venda por Lata\"], [\"Sardinha com \\u00d3leo 125g - 88 Lata de 125g Venda por Lata\"], [\"Atum em Peda\\u00e7os com \\u00d3leo 170g - Gomes da Costa Lata de 170g Venda por Lata\"], [\"Chocolate Kit Kat Ao Leite 24x41,5g Caixa com 24 unidades de 41.5g Venda por Caixa\"], [\"Cacha\\u00e7a Km 58 Rafardense 500ml Garrafa de 500ml Venda por Garrafa\"], [\"Farinha de Trigo 1Kg - Farina Pacote de 1kg Venda por Pacote\"], [\"A\\u00e7a\\u00ed Original - Split Congelado - Balde de 3.6L A partir de 1 balde (3.6L)\"], [\"\\u00c1gua Mineral Cristal sem g\\u00e1s 1,5L Garrafa de 1,5L Venda por Garrafa\"], [\"Detergente Yp\\u00ea Coco 500ml Frasco de 500ml A partir de 1 unidade\"], [\"Frango a Passarinho IQF com Osso In Natura - Lar Congelado - Pacote de 1kg A partir de 2 pacotes (2kg)\"], [\"Sab\\u00e3o em p\\u00f3 Tixan Yp\\u00ea 800g Pl\\u00e1stico 800g Venda por Pl\\u00e1stico\"], [\"\\u00c1lcool Bactericida Top 46\\u00b0 1L Frasco de 1L Unidade\"], [\"Cerveja Brahma Duplo Malte Puro Malte 350ml Lata Lata de 350ml Unidade\"], [\"Esponja multiuso Brilhex leve 12 pague 10 Kit com 12 esponjas Pacote\"], [\"Farinha de Trigo Anaconda 1Kg Pacote de 1kg Unidade\"], [\"Polenta Palito 1.02kg - Agro Yoshi Pacote de 1.02kg Venda por Pacote\"], [\"Requeij\\u00e3o Cremoso 3.6kg - Scala Resfriado - Balde de 3.6kg A partir de 1 balde\"], [\"Detergente Yp\\u00ea Clear 500ml Frasco de 500ml A partir de 1 unidade\"], [\"Batata Pr\\u00e9-Frita Corte Tradicional 2kg - Rapipap Congelado - Pacote de 2kg A partir de 1 pacote\"], [\"Molho de Tomate Tradicional Ol\\u00e9 300g Sach\\u00ea de 300g Venda por Sach\\u00ea\"], [\"Molho Para Salada Liza Sabor Caesar 234ml Pet 234ml Unidade\"], [\"Sobrecoxa de Frango com Osso - SEARA Congelado - Bandeja de 1kg A partir de 2 bandejas (2kg)\"], [\"Ervilha Quero 170g Lata de 170g Unidade\"], [\"Azeitona Preta Fatiada Fornello 2kg Balde 2Kg Unidade\"], [\"Alho Frito Fornello Pouch 300g Pouch 300g Unidade\"], [\"Sal Lebre Sach\\u00ea 1000x0,8g Sach\\u00eas de 0,8g Caixa\"], [\"Macarr\\u00e3o com Ovos Ave-Maria Dona Benta 500g Pacote de 500g Unidade\"], [\"Azeitona Verde 28/32 Fornello Balde 2kg Balde 2Kg Unidade\"], [\"Lingui\\u00e7a Toscana - Sadia Congelado - Pacote com 5kg Venda por Pacote\"], [\"\\u00d3leo de Palma Refinado Sa\\u00fade PalmFry 14.5Kg Balde De 14,5Kg Unidade\"], [\"N\\u00e9ctar de Ma\\u00e7\\u00e3 200ml - Maguary Tetra pak de 200ml Venda por Tetra\"], [\"\\u00c1lcool Gel Vip 70\\u00b0 400g Embalagem com 400g Unidade\"], [\"Detergente Limpol Neutro 5L 5L Unidade\"], [\"Farinha Panko 200g - Venturelli Pacote de 200g Venda por Pacote\"], [\"Pimenta Biquinho Fornello Balde 2kg Balde 2Kg Unidade\"], [\"Mandioca Pr\\u00e9-Cozida Supreme - SEARA Pacote de 1.5kg 1 pacote (1.5kg)\"], [\"Caf\\u00e9 Uni\\u00e3o Tradicional Pouch 500g Pacote de 500g A partir de 1 unidade\"], [\"Margarina Cremosa sem Sal 0.5kg - Claybom Pote de 0.5kg A partir de 2 potes\"], [\"Ervilha Ol\\u00e9 1,7kg Lata de 1,7Kg Venda por Lata\"], [\"Suco Tial 100% Manga e Ma\\u00e7\\u00e3 330ml Tetra Pak de 330ml Unidade\"], [\"Presunto Cozido Magro Oval 3.4Kg - SEARA Resfriado - Pe\\u00e7a de 3.4Kg A partir de 1 pe\\u00e7a\"], [\"Papel Toalha Mili Gran Chef 360 folhas Pacote com 360 folhas Venda por Pacote\"], [\"Cerveja Original Pilsen 350ml Lata Lata de 350ml A partir de 1 unidade\"], [\"Desinfetante Bak Yp\\u00ea Eucalipto 5L Garrafa 5L Venda por Garrafa\"], [\"Molho de Tomate Tradicional Pomarola 1.02Kg Sach\\u00ea 1.02Kg Venda por Sach\\u00ea\"], [\"Coxa de Frango com Osso - SEARA Congelado - Bandeja de 1kg A partir de 2 bandejas (2kg)\"], [\"N\\u00e9ctar P\\u00eassego e Ma\\u00e7\\u00e3 Tial 330ml Tetra Pak de 330ml Unidade\"], [\"Chocolate em P\\u00f3 200g - Hikari Pacote de 200g Venda por Pacote\"], [\"Fil\\u00e9 de Merluza 500g - Se7e Mares Congelado - Pacote de 500g Venda por Pacote\"], [\"Molho de Pimenta Sriracha Cep\\u00eara 270ml Frasco de 270ml Venda por Frasco\"], [\"Azeite de Oliva Olinda 500ml Pet de 500ml Unidade\"], [\"Azeite de Oliva Extra Virgem Borges 500ml Vidro de 500ml Venda por Vidro\"], [\"Mistura Para P\\u00e3o Doce Maxi 25kg Saco de 25kg Venda por Saco\"], [\"Esponja N\\u00e3o Risca Yp\\u00ea 1 unidade Pl\\u00e1stico 1 unidade Venda por Pl\\u00e1stico\"], [\"Chocolate Genuine Branco 1Kg Barra de 1Kg Venda por Barra\"], [\"Caf\\u00e9 Cappuccino Classic 3 Cora\\u00e7\\u00f5es 200g Pacote de 200g Venda por Pacote\"], [\"Caf\\u00e9 Torrado em Gr\\u00e3os Gourmet 3 Cora\\u00e7\\u00f5es 1kg Pacote de 1kg Venda por Pacote\"], [\"Chocolate Bis Xtra ao Leite 24X45g Barra de 45g Venda por Barra\"], [\"Azeite Borges Extra Virgem 5L 5L Unidade\"], [\"Batata Pr\\u00e9-Frita Corte Carinhas 1.05kg - Bem Brasil Pacote de 1.05kg Venda por Pacote\"], [\"Xarope de Guaran\\u00e1 1L - Bela Ischia Garrafa de 1L Venda por Garrafa\"], [\"Guardanapo Balc\\u00e3o Scott 200 Folhas Pacote de 200 Folhas Venda por Pacote\"], [\"Limpa pisos Triex 1L Frasco de 1L Unidade\"], [\"Molho de Pimenta Vermelha Kisabor 150ml Pet de 150ml Venda por Pet\"], [\"N\\u00e9ctar Uva Tial 1L Tetra Pak de 1L Unidade\"], [\"Molho de Tomate Triturado Sach\\u00ea 1.7kg - Pomarola Sach\\u00ea de 1.7kg Venda por Sach\\u00ea\"], [\"Groselha 1L - Bela Ischia Garrafa de 1L Venda por Garrafa\"], [\"Farinha de Mandioca Crua 4kg - Kisabor Pacote de 4kg Venda por Pacote\"], [\"Faca Descart\\u00e1vel 18cm Darnel Kit com 20 facas Pacote\"], [\"N\\u00e9ctar de Uva 150ml - Fruit Shoot Tetra Pak de 150ml Venda por Tetra\"], [\"Coquetel Duelo Morango 500ml Garrafa de 500ml Venda por Garrafa\"], [\"Vodka Smirnoff 600ml Garrafa de 600ml Venda por Garrafa\"], [\"Saco de Papel Viagem 3 13.5 x 26cm Pacote com 500 sacos Pacote\"], [\"Mistura para Empanar Milanesa Kisabor 300g Pacote de 300g Venda por Pacote\"], [\"Margarina Cremosa com Sal 0.5kg - Qualy Pote de 0.5kg A partir de 2 potes\"], [\"N\\u00e9ctar de Laranja 200ml - Maguary Tetra pak de 200ml Venda por Tetra\"], [\"Suco Tial 100% Uva 330ml Tetra Pak de 330ml Unidade\"], [\"Del Valle Goiaba 290ml Lata de 290ml Unidade\"], [\"Limpa Alum\\u00ednio Triex 500ml Garrafa 500ml Unidade\"], [\"Vinagre de \\u00c1lcool Galo de Barcelos 750ml Pet de 750ml Unidade\"], [\"Salsicha Congelada - SEARA Pacote de 5kg 1 pacote (5kg)\"], [\"Farinha de Mandioca 1Kg - Hikari Pacote de 1kg Venda por Pacote\"], [\"Esponja de A\\u00e7o Assolan 8 unidades Kit com 8 esponjas Venda por Kit\"], [\"Sukita Laranja 200ml Garrafa de 200ml Venda por Garrafa\"], [\"Papel higi\\u00eanico folha simples Sublime leve 16 pague 15 rolos Pacote com 16 rolos Pacote\"], [\"Farinha de Trigo para Salgados 5Kg - Suprema Pacote de 5kg Venda por Pacote\"], [\"Vinagre de \\u00c1lcool com Lim\\u00e3o Galo de Barcelos 750ml Pet de 750ml Venda por Pet\"], [\"Chiclete Trident Menta 21X8g Pacote de 8g Venda por Pacote\"], [\"Maionese Predilecta 1,02Kg Sach\\u00ea de 1,02Kg Unidade\"], [\"Filtro de Caf\\u00e9 103 3 Cora\\u00e7\\u00f5es 30 Unidades Caixa com 30 unidades Venda por Caixa\"], [\"Sap\\u00f3lio Radium Cremoso Cl\\u00e1ssico 450ml Frasco de 450ml Unidade\"], [\"Esponja De A\\u00e7o Bombril Kit com 8 esponjas Pacote\"], [\"Margarina com Sal 500g - Delicata Resfriado - Pote de 500g A partir de 2 potes\"], [\"Maionese Quero Sach\\u00ea 1,02kg Sach\\u00ea de 1,02Kg Venda por Sach\\u00ea\"], [\"Leite em P\\u00f3 Integral 1kg - Piracanjuba Almofada de 1Kg Venda por Almofada\"], [\"Azeitona Verde Fatiada Hemmer 150g Sach\\u00ea de 150g Venda por Sach\\u00ea\"], [\"Azeitona Verde Fatiada Fornello Balde 2kg Balde 2Kg Unidade\"], [\"\\u00c1gua T\\u00f4nica Antarctica 350ml Lata de 350ml Unidade\"], [\"Manteiga Sem Sal 0.5kg - Frimesa Pote de 0.5kg A partir de 2 potes\"], [\"N\\u00e9ctar Maracuj\\u00e1 Tial 330ml Tetra Pak de 330ml Unidade\"], [\"Ketchup Cep\\u00eara Sach\\u00ea 154 x 7g Caixa com 154 Sach\\u00eas de 7g Venda por Caixa\"], [\"Molho de Pimenta Vermelha Cep\\u00eara 1,01L Pet de 1,01L Unidade\"], [\"Caf\\u00e9 Cappuccino Classic 3 Cora\\u00e7\\u00f5es 400g Pote 400g Venda por Pote\"], [\"Creme de Cebola 70g - Hikari Pacote de 70g Venda por Pacote\"], [\"Mostarda Sach\\u00ea 144x5g - Heinz Caixa com 144 sach\\u00eas de 5g Venda por Caixa\"], [\"Macarr\\u00e3o com Ovos Parafuso Dona Benta 500g Pacote de 500g Unidade\"], [\"Chocolate Serenata de Amor 825g Pacote com 825g Venda por Pacote\"], [\"Kapo Uva 200ml Tetra pak de 200ml A partir de 1 unidade\"], [\"Caf\\u00e9 Brasileiro Extraforte V\\u00e1cuo 500g Pacote de 500g Venda por Pacote\"], [\"Caf\\u00e9 Extraforte Pouch Melitta 500g Pouch de 500g Unidade\"], [\"Cobertura Genuine Branco em Moedas 2,05kg Pacote de 2,05kg Unidade\"], [\"Chocolate Talento Avel\\u00e3 15x25g Caixa com 15 unidades de 25g Venda por Caixa\"], [\"Farinha de Trigo Sol 1Kg Pacote de 1kg Unidade\"], [\"\\u00c1gua Sanit\\u00e1ria Triex 1L Frasco de 1L Unidade\"], [\"Azeitona Verde Sem Caro\\u00e7o Hemmer 140g Sach\\u00ea de 140g Venda por Sach\\u00ea\"], [\"\\u00d3leo Composto Maria 2L 2L Unidade\"], [\"Cerveja Budweiser American Lager 350ml Lata Lata de 350ml Venda por Lata\"], [\"Milho para Canjica Branca Kicaldo 500g Pacote de 500g A partir de 1 unidade\"], [\"Trigo Para Kibe 4kg - Kisabor Pacote de 4kg Venda por Pacote\"], [\"Queijo de Coalho 285g - Scala Resfriado - Pacote de 285g (7 espetos) A partir de 1 pacote\"], [\"Arroz Branco Campeiro 1kg Pacote de 1kg Venda por Pacote\"], [\"Costelinha Su\\u00edna Temperada - All Meat Congelado - Pacote de 1kg Venda por Pacote\"], [\"Vinho Tinto Suave Santom\\u00e9 1L Garrafa de 1L Venda por Garrafa\"], [\"Farinha de Mandioca Branca Seca Fina Kicaldo 1Kg Pacote de 1kg Unidade\"], [\"Esponja multiuso Triex Leve 4. Pague 3 Pacote c/ 4 esponjas Pacote\"], [\"Carne Mo\\u00edda Bovina - Tudbom Congelado - Pacote de 1kg A partir de 1 pacote (1kg)\"], [\"Farinha de Mandioca Torrada Kicaldo 1Kg Pacote de 1kg Unidade\"], [\"Lingui\\u00e7a tipo Calabresa 2.5Kg - Estrela Pacote de 2.5kg Venda por Pacote\"], [\"Sab\\u00e3o em p\\u00f3 Triex Flowers 800g Pacote de 800g Venda por Pacote\"], [\"\\u00c1gua Sanit\\u00e1ria Triex 2L Gal\\u00e3o 2L Unidade\"], [\"Amido de Milho Kimimo 500g Pacote de 500g Venda por Pacote\"], [\"Fruta Congelada Acerola 1.02Kg - Ricaeli Pacote de 1.02kg Venda por Pacote\"], [\"Filezinho Sassami GD - Bello Congelado - Pacote de 6kg Venda por Pacote\"], [\"Polpa de Caju - Ricaeli Pacote de 1kg - Cont\\u00e9m 10 unidades de 100g A partir de 1 pacote (1kg)\"], [\"Cerveja Skol Pilsen Lata 269ml Lata de 269ml Unidade\"], [\"Lingui\\u00e7a Mista sabor Calabresa Estreleza 2.5Kg - Estrela Pacote de 2.5kg Venda por Pacote\"], [\"Maionese Liza Caseira 2.7kg Balde De 2,7Kg Unidade\"], [\"Achocolatado em P\\u00f3 Nescau 2.0 Sach\\u00ea 1,2Kg Sach\\u00ea de 1,2Kg A partir de 1 unidade\"], [\"Macarr\\u00e3o com Ovos Padre Nosso 500g - J\\u00f3ia Pacote de 500g Venda por Pacote\"], [\"Ervilha Ol\\u00e9 Lata 170g Lata de 170g Venda por Lata\"], [\"Detergente Limpol Cristal 500ml Frasco de 500ml Unidade\"], [\"Lingui\\u00e7a Toscana - Frimesa Pacote de 5kg 1 pacote (5kg)\"], [\"Fil\\u00e9 de Til\\u00e1pia sem Pele - Bello Alimentos Congelado - Pacote de 800g Venda por Pacote\"], [\"Cerveja Brahma Chopp Pilsen 350ml Lata Lata de 350ml Unidade\"], [\"Ketchup Heinz 397g Frasco de 397g Unidade\"], [\"Molho Barbecue Liza 1,02kg Sach\\u00ea de 1,02Kg A partir de 1 unidade\"], [\"Macarr\\u00e3o Penne Semola Dona Benta 500g Pacote de 500g Venda por Pacote\"], [\"Extrato de Tomate Elefante 850g Lata de 850g Venda por Lata\"], [\"Aperitivo Paratudo 900ml Garrafa de 900ml Venda por Garrafa\"], [\"Molho Shoyu Cep\\u00eara 1,01L Pet de 1,01L Unidade\"], [\"Fanta Laranja 350ml Lata de 350ml Unidade\"], [\"Desinfetante Lavandas do Campo Triex 500ml Garrafa de 500ml Venda por Garrafa\"], [\"Bala Halls Melancia 21 X 28g Pacote de 28g Venda por Pacote\"], [\"Refrigerante Pepsi 350ml Lata Lata de 350ml Unidade\"], [\"Mostarda Amarela Cep\\u00eara Sach\\u00ea 175 X 7g Sach\\u00eas de 7g Caixa\"], [\"Suco Tial 100% Laranja e Ma\\u00e7\\u00e3 330ml Tetra Pak de 330ml Unidade\"], [\"Farinha Panko 200g - Hikari Pacote de 200g Venda por Pacote\"], [\"Fil\\u00e9 de Peito de Frango GD IQF - Lar Congelado - Pacote de 2kg A partir de 1 pacote (2kg)\"], [\"Chiclete Trident Melancia 21X8g Pacote de 8g Venda por Pacote\"], [\"Queijo Mussarela 4kg - Tr\\u00eas Marias Resfriado - Pe\\u00e7a de 4kg A partir de 1 pe\\u00e7a (4kg)\"], [\"Chocolate Classic Ao Leite 22x25g Caixa com 22 barras de 25g Venda por Caixa\"], [\"N\\u00e9ctar de Maracuj\\u00e1 1L - Maguary Tetra Pak de 1L Venda por Tetra\"], [\"Farinha de Mandioca Torrada 500g - Pantera Pacote de 500g Venda por Pacote\"], [\"Desinfetante Triex 2L Gal\\u00e3o 2L Unidade\"], [\"Fanta Uva 220ml Lata de 220ml Venda por Lata\"], [\"Desengordurante Limpol Cozinha Squeeze 500ml Frasco de 500ml Unidade\"], [\"Farinha de Trigo Dona Benta 5kg Embalagem de Papel 5kg Venda por Embalagem\"], [\"Vinagre de Vinho Tinto 375ml - Galo de Barcelos Garrafa de 375ml Venda por Garrafa\"], [\"Almondega Bovina - BJP Mezato Congelado - Pacote de 2kg (80 pe\\u00e7as de 25g aprox.) A partir de 1 pacote (2kg)\"], [\"Trigo para Kibe 4.5Kg - Hikari Pacote de 4.5Kg Venda por Pacote\"], [\"Banha Su\\u00edna 1kg - SEARA Pacote de 1kg A partir de 1 pacote\"], [\"Maionese D'Lanche Foguetinho 200g Bisnaga de 200g Venda por Bisnaga\"], [\"Empanado de Frango Recheado com Presunto e Queijo 111g - Seara Congelado - Pacote de 111g Venda por Pacote\"], [\"Manteiga Extra sem Sal 5Kg - H\\u00e9rcules Refrigerado - Bloco de 5kg Venda por Refrigerado\"], [\"Farinha de Trigo Para Panifica\\u00e7\\u00e3o Rosa Branca 25kg Saco de 25kg Venda por Saco\"], [\"Papel higi\\u00eanico folha dupla Bianco leve 24 pague 22 Pacote com 24 rolos Pacote\"], [\"Polenta Tolete - Prontinha Pacote de 1kg A partir de 2 pacotes (2kg)\"], [\"Presunto Cozido Retangular 3.5kg - SEARA Refrigerado - Pe\\u00e7a de 3.5kg Venda por Pe\\u00e7a\"], [\"Mistura L\\u00e1ctea Condensada Triangulo Mineiro 395g Tetra Pak de 395g Unidade\"], [\"Kapo Morango 200ml Tetra pak de 200ml A partir de 1 unidade\"], [\"Or\\u00e9gano 8g - Hikari Pacote de 8g Venda por Pacote\"], [\"Ketchup Hemmer Sach\\u00ea 190 x 7g Caixa com 190 sach\\u00eas de 7g Venda por Caixa\"], [\"N\\u00e9ctar de Uva 1L - Maguary Tetra Pak de 1L Venda por Tetra\"], [\"Canela Em P\\u00f3 Pura Aroma das \\u00cdndias 60g Pacote de 60g Venda por Pacote\"], [\"Desinfetante Flores da Primavera Triex 2L Garrafa de 2l Venda por Garrafa\"], [\"Suco de Concentrado de Maracuj\\u00e1 500ml - Maguary Garrafa de 500ml Venda por Garrafa\"], [\"Caldo de Galinha Maggi 114g Pacote de 114g Venda por Pacote\"], [\"Limpador Multiuso Flor de Tangerina Triex 500ml Garrafa de 500ml Venda por Garrafa\"], [\"Carne Seca de Traseiro em Cubos 1Kg - Cambu\\u00ed Pacote de 1kg Venda por Pacote\"], [\"Fermento Biol\\u00f3gico Dona Benta 500g Pacote de 500g Venda por Pacote\"], [\"Vinagre De Vinho Branco Castelo 750ml Pet 750ml Venda por Pet\"], [\"Vinagre de Fruta Ma\\u00e7\\u00e3 375ml - Galo de Barcelos Garrafa de 375ml Venda por Garrafa\"], [\"Farinha Panko Oriental Orqu\\u00eddea 1.02kg Pacote de 1.02kg Venda por Pacote\"], [\"Lombo de Bacalhau Dessalgado 800g - Se7e Mares Congelado - Pacote de 800g Venda por Pacote\"], [\"Vinho Tinto Argentino Novecento Cabernet Sauvignon 750ml Garrafa de 750ml Venda por Garrafa\"], [\"N\\u00e9ctar de Ma\\u00e7\\u00e3 1L - Maguary Tetra Pak de 1L Venda por Tetra\"], [\"Batata Pr\\u00e9-Frita Corte Smiles 1.5kg - McCain Pacote de 1.5kg Venda por Pacote\"], [\"P\\u00e3o Franc\\u00eas Integral Congelado 1.3Kg - Brico Bread Pacote de 1.3Kg (Aproximadamente 18 unidades) Venda por Pacote\"], [\"Chocolate Bis Xtra Black 24X45g Barra de 45g Venda por Barra\"], [\"Chicken Fingers 2Kg - Seara Congelado - Pacote de 2kg Venda por Pacote\"], [\"N\\u00e9ctar Uva Yummy 1L Tetrapak de 1L Venda por Tetra\"], [\"Atum Ralado em \\u00d3leo 170g - Gomes da Costa Lata de 170g Venda por Lata\"], [\"Contra Fil\\u00e9 Bovino 4Kg - Estrela Refrigerado - Pe\\u00e7a de 4Kg Venda por Pe\\u00e7a\"], [\"Carne Mo\\u00edda de Su\\u00edno - Mezato Congelado - Pacote de 2kg Venda por Pacote\"], [\"Molho de Tomate Tradicional Sach\\u00ea 1.7kg - Ol\\u00e9 Sach\\u00ea de 1.7kg Venda por Sach\\u00ea\"], [\"Cobertura Genuine ao Leite 1Kg Barra de 1Kg Venda por Barra\"], [\"Contra Fil\\u00e9 Bovino 5Kg - Estrela Refrigerado - Pe\\u00e7a de 5Kg Venda por Pe\\u00e7a\"], [\"N\\u00e9ctar Manga Yummy 200ml TetraPak de 200ml Venda por Tetra\"], [\"A\\u00e7a\\u00ed Tradicional 4.5Kg - Maori Balde de 4.5Kg Venda por Balde\"], [\"Cominho Em P\\u00f3 Aroma das \\u00cdndias 50g Pacote de 50g Venda por Pacote\"], [\"Farinha de Mandioca Torrada Kisabor 500g Pacote de 500g Venda por Pacote\"], [\"\\u00c1lcool Bactericida Top 46\\u00b0 5L Frasco de 5L A partir de 1 unidade\"], [\"Molho de Tomate Pomarola 2Kg Sach\\u00ea de 2Kg Unidade\"], [\"Tekitos Tradicional 2.5kg - Seara Congelado - Pacote de 2.5kg Venda por Pacote\"], [\"Dadinho Pr\\u00e9-Frito de Batata Com Queijo 1.05kg - Bem Brasil Pacote de 1.05kg Venda por Pacote\"], [\"Carne Moida de Ac\\u00e9m 500g - Do Chefe Congelado - Pacote de 500g Venda por Pacote\"], [\"N\\u00e9ctar de Maracuja 150ml - Fruit Shoot Tetra Pak de 150ml Venda por Tetra\"], [\"Chocolate Lacta Diamante Negro 12x34g Barra de 34g Venda por Barra\"], [\"Recheio sabor Chocolate Branco 1kg - Dolci Creme Bisnaga de 1.005kg 1 bisnaga\"], [\"Molho Shoyo Cep\\u00eara 150ml Pet de 150ml Venda por Pet\"], [\"Mostarda Hemmer 3,6kg Gal\\u00e3o de 3,6Kg Venda por Gal\\u00e3o\"], [\"Bebida L\\u00e1ctea Cappuccino Pronto Classic 260ml - 3 Cora\\u00e7\\u00f5es Pet de 260ml Venda por Pet\"], [\"Tomate Seco Fornello Balde 2kg Balde 2Kg Unidade\"], [\"Hamb\\u00farguer sabor Picanha CX 2.016Kg - Estrela Congelado - Caixa de 2.016Kg Venda por Caixa\"], [\"Molho de Tomate Tradicional Hemmer Sach\\u00ea 300g Sach\\u00ea de 300g Venda por Sach\\u00ea\"], [\"N\\u00e9ctar Manga Yummy 1L Tetrapak de 1L Venda por Tetra\"], [\"Macarr\\u00e3o com Ovos Penne 500g - J\\u00f3ia Pacote de 500g Venda por Pacote\"], [\"Cobertura Genuine Meio Amargo 1Kg Barra de 1Kg Venda por Barra\"], [\"Travesseirinho de Queijo Gouda 1Kg - McCain Pacote de 1kg Venda por Pacote\"], [\"Papel Higi\\u00eanico Folha Dupla Mili 12 Rolos Pacote com 12 rolos Venda por Pacote\"], [\"Molho de Tomate Tradicional Heinz Sach\\u00ea 300g Sach\\u00ea de 300g Venda por Sach\\u00ea\"], [\"Limpa Vidros Triex 500ml Garrafa 500ml Unidade\"], [\"Leite Semidesnatado A2 1L - Piracanjuba Tetrapak de 1L Venda por TetraPak\"], [\"Coxas e Sobrecoxas Empanadas - Lar Congelado - Pacote de 1.5kg Venda por Pacote\"], [\"Jurubeba Bai\\u00e3o de Dois 600ml Garrafa de 600ml Venda por Garrafa\"], [\"N\\u00e9ctar Abacaxi com Hortel\\u00e3 Yummy 1L Tetrapak de 1L Venda por Tetra\"], [\"Queijo Prato 2.8kg - Scala Pe\\u00e7a de 2.8kg 1 pe\\u00e7a\"], [\"Lingui\\u00e7a Toscana 5Kg - Mezato Congelado - Pacote de 5kg Venda por Pacote\"], [\"Atum S\\u00f3lido em \\u00d3leo 170g - Gomes da Costa Lata de 170g Venda por Lata\"], [\"Fub\\u00e1 Mimoso 4kg - Kisabor Pacote de 4kg Venda por Pacote\"], [\"Polpa de Uva 1kg - Agro Yoshi Pacote de 1kg Venda por Pacote\"], [\"Chocolate Genuine Blend 2,1Kg 2,1Kg Unidade\"], [\"Mostarda Heinz 2kg Bag de 2Kg Unidade\"], [\"Sardinha com \\u00d3leo 125g - Gomes da Costa Lata de 125g Venda por Lata\"], [\"Noz Moscada Em P\\u00f3 Aroma das \\u00cdndias 40g Pacote de 40g Venda por Pacote\"], [\"Atum Ralado com \\u00d3leo 500g - 88 Sach\\u00ea de 500g Venda por Sach\\u00ea\"], [\"Cobertura Genuine Branco 2,1Kg 2,1Kg Unidade\"], [\"Molho Shoyu Light Premium Cep\\u00eara 270ml Frasco de 270ml Venda por Frasco\"], [\"Vinho Tinto Suave Santo Expedito 4,5L Garrafa de 4,5L Venda por Garrafa\"], [\"Farinha de Mandioca Crua Fina Kisabor 500g Pacote de 500g Venda por Pacote\"], [\"Kani Kama - Bom Peixe Pacote de 1kg (28 unidades de 35g aprox.) A partir de 2 pacotes (2kg)\"], [\"Patinho Bovino 1.5Kg - Friboi Congelado - Pe\\u00e7a de 1.5Kg Venda por Pe\\u00e7a\"], [\"Recheio sabor Chocolate ao Leite 1kg - Dolci Creme Bisnaga de 1.005kg 1 bisnaga\"], [\"Misturas de \\u00f3leos vegetais 14.5kg - Sa\\u00fade (Atacado) Balde de 14.5kg Venda por Balde\"], [\"Caf\\u00e9 Seleto Extraforte Almofada 500g Pacote de 500g A partir de 1 unidade\"], [\"Kapo Laranja 200ml Tetra pak de 200ml A partir de 1 unidade\"], [\"Recheio sabor Creme de Avel\\u00e3 com Cacau 1kg - Dolci Creme Bisnaga de 1.005kg 1 bisnaga\"], [\"Cobertura Genuine Meio Amargo em Moedas 2,05kg Pacote de 2,05kg Unidade\"], [\"Posta de Ca\\u00e7\\u00e3o - Bom Peixe Pacote de 1kg - Aprox. 9 postas A partir de 2 pacotes (2kg)\"], [\"Vinho Tinto Suave San Piero 970 ml Garrafa de 970ml Venda por Garrafa\"], [\"Extrato de Tomate Quero 300g Sach\\u00ea de 300g A partir de 1 unidade\"], [\"Carne Mo\\u00edda Bovina 1Kg - Estrela Congelado - Pacote de 1kg Venda por Pacote\"], [\"Margarina com Sal 15kg - Delicata Resfriado - Balde de 15kg A partir de 1 balde\"], [\"Coquetel Corote Morango 500ml Garrafa de 500ml A partir de 1 unidade\"], [\"An\\u00e9is de Cebola 1.1kg - Morixe Congelado - Pacote de 1.1kg A partir de 1 pacote\"], [\"Carne Seca Bovina de Traseiro Pq - Mineiro Resfriado - Pacote de 1kg A partir de 1 pacote (1kg)\"], [\"Vinagre de Vinho Branco 375ml - Galo de Barcelos Garrafa de 375ml Venda por Garrafa\"], [\"Creme de Avel\\u00e3 Tri\\u00e2ngulo Mineiro 3kg Balde de 3kg Unidade\"], [\"Ketchup Gal\\u00e3o Stella d'Oro 3,2Kg Gal\\u00e3o de 3,2kg Venda por Gal\\u00e3o\"], [\"Caf\\u00e9 Tradicional Pouch Melitta 250g Pouch de 250g Unidade\"], [\"Saqu\\u00ea Jurojin 750ml Garrafa de 750ml Venda por Garrafa\"], [\"Carne Seca de Dianteiro em Cubos 1Kg - Cambu\\u00ed Pacote de 1kg Venda por Pacote\"], [\"Batata Pr\\u00e9-Frita Crinkle Fries 2.5kg - McCain Congelado - Pacote de 2.5kg A partir de 1 pacote\"], [\"Chocolate Crunch 22x22,5g Caixa com 22 barras de 22,5g Venda por Caixa\"], [\"Caf\\u00e9 Extraforte  a V\\u00e1cuo Melitta 500g Pacote de 500g Unidade\"], [\"Cerveja Corona Lata 269ml Lata de 269ml Venda por Lata\"], [\"Arroz Parboilizado Tio Jo\\u00e3o 5kg Pacote de 5kg Venda por Pacote\"], [\"Vinho Tinto Argentino Novecento Malbec 750ml Garrafa de 750ml Venda por Garrafa\"], [\"Creme Cebola Kisabor 1,01Kg Pacote de 1,01Kg Venda por Pacote\"]], \"hovertemplate\": \"Cluster_Label=TAIL<br>GMV (USD)=%{x}<br>Penetraci\\u00f3n=%{y}<br>product_name=%{customdata[0]}<extra></extra>\", \"legendgroup\": \"TAIL\", \"marker\": {\"color\": \"#636efa\", \"symbol\": \"circle\"}, \"mode\": \"markers\", \"name\": \"TAIL\", \"orientation\": \"v\", \"showlegend\": true, \"type\": \"scatter\", \"x\": [6814.39862, 6059.98054, 10412.05105, 11695.63887, 8358.83379, 2138.34355, 4864.74956, 20256.9161, 14977.07523, 1999.8706, 7886.88355, 5677.05778, 5006.31317, 6107.69311, 805.76405, 8767.80428, 7597.5839, 8439.80156, 1165.61619, 2455.5695, 20659.50165, 7717.99868, 684.32332, 1544.66507, 682.37836, 2248.39001, 1622.80671, 3645.57918, 7264.67026, 1232.79292, 3612.99314, 7402.80807, 3415.13267, 2888.64486, 3845.79226, 567.14187, 1893.45519, 561.62245, 1142.28115, 737.34908, 1526.87049, 330.14715, 3734.82631, 1958.05813, 3035.17877, 2976.08147, 7233.73765, 1151.18917, 12708.16798, 564.57032, 11868.32694, 3353.34874, 1550.04257, 17468.49379, 11066.06732, 13269.66838, 14210.31392, 23192.16393, 5190.93082, 8875.32706, 9620.94366, 1642.60724, 23191.99941, 7460.34936, 10439.43166, 3708.73447, 5230.90835, 15875.57202, 1870.98895, 14664.91054, 20316.82093, 20612.20341, 10983.76197, 6036.61575, 4298.47374, 7620.54918, 4285.77468, 2355.69576, 5190.88533, 3817.3907, 1074.11752, 647.64778, 9513.20431, 1726.84158, 2419.51206, 31.30724, 6819.3027, 2396.69697, 175.92196, 110.64626, 4971.45893, 10521.03453, 2960.48009, 2704.75501, 4470.23537, 1483.84514, 16335.40921, 14663.16103, 7416.07641, 2807.59461, 3471.54896, 15226.69792, 21608.18218, 10540.13338, 13270.16751, 11266.81152, 4566.89617, 13005.25738, 7702.36507, 923.24127, 5722.55901, 6483.54236, 213.42092, 5196.15839, 1350.62017, 15459.57559, 7275.8123, 11542.66268, 10724.77042, 2221.68679, 17385.55646, 1688.94279, 6047.03515, 7939.41387, 4209.33978, 7327.11602, 2058.43935, 1623.03458, 4617.98867, 2602.07177, 7267.09518, 5779.80686, 6927.71067, 8382.58366, 3668.43347, 1139.11554, 3846.28847, 1630.17511, 4656.86192, 2060.00126, 2132.36551, 8685.65524, 2061.84124, 6421.42331, 3095.97877, 4739.8004, 4303.33157, 7297.9184, 6513.10458, 1292.14875, 12266.20129, 785.00152, 7012.50935, 4263.96126, 2798.58067, 18593.61792, 1578.66692, 1729.46286, 16360.8108, 3850.63644, 1315.62891, 1716.54619, 17117.26953, 6327.62026, 5613.5898, 5211.32395, 10149.54325, 11480.81651, 960.8685, 9901.21963, 53.34729, 501.37247, 6200.62003, 878.81604, 1197.05815, 1930.79724, 606.78911, 13920.87967, 2432.46349, 1129.28908, 4603.88799, 1999.07789, 2742.4984, 5734.73378, 648.83348, 831.23326, 1440.8922, 2057.48502, 3210.26866, 1353.05116, 121.76418, 342.31576, 1973.75327, 2005.08309, 351.10729, 2554.81676, 187.40841, 9139.24979, 5907.95644, 217.3431, 825.43328, 739.95778, 2030.94723, 628.12608, 115.18083, 374.22911, 5557.54727, 629.88597, 255.35568, 382.3747, 1661.38923, 27.741, 2873.16402, 1217.55775, 193.33886, 319.0483, 301.46945, 135.71783, 52.88202, 520.88624, 367.58099, 20.77891, 146.87154, 108.03577, 170.69894, 118.35789, 11.46104, 2.05684, 29.33473, 38.08417, 664.37426, 8250.89324, 1338.21018, 2515.7993, 2261.51291, 2643.00292, 414.29426, 397.98086, 3468.75744, 18459.58686, 47.88205, 1046.23725, 1546.58082, 568.12365, 544.40611, 13901.57038, 1303.43293, 649.33858, 997.69233, 1096.00522, 1878.65843, 1034.47562, 20.24208, 379.62927, 87.84, 533.27989, 211.40206, 17.15368, 6.50736, 8135.65615, 1313.51726, 6062.42542, 5197.68821, 5223.13564, 19779.55081, 16061.06857, 15300.46048, 4840.60869, 2587.93276, 2288.53392, 3123.70781, 15183.64758, 5367.34969, 21541.11316, 2856.07155, 294.38312, 2545.10927, 5645.75462, 621.80948, 6004.43889, 10740.78969, 1077.98461, 15178.14988, 5058.71716, 1491.81193, 8108.08417, 2239.11139, 267.51132, 2066.24467, 1869.43567, 2306.04518, 638.98259, 2228.27888, 10677.68841, 1577.8562, 7984.95749, 424.36387, 6740.05827, 3824.60489, 1390.47103, 8500.95058, 22889.85867, 2285.24773, 297.40596, 1065.79217, 766.01176, 3075.08606, 371.25013, 533.32817, 1143.47203, 715.92801, 4563.67549, 302.5871, 5184.03894, 1157.59711, 2146.03707, 4166.42034, 5693.37968, 2705.12572, 965.02296, 2789.75334, 333.39325, 438.64408, 361.23966, 229.13047, 8795.48152, 36.74104, 1705.26088, 49.90724, 19.53683, 304.74732, 252.74945, 53.62522, 545.4105, 8.93894, 438.3218, 1250.26667, 2320.17822, 525.32181, 2716.42066, 249.17248, 951.22485, 197.91554, 113.58313, 2850.1742, 310.24408, 564.39355, 153.95361, 88.10716, 737.51418, 465.67363, 1326.06301, 27.34735, 125.01048, 100.96208, 127.09894, 4.47789, 14049.24184, 20904.541, 5439.29078, 4014.31632, 571.20409, 5440.06495, 17585.89724, 205.5721, 13821.4983, 12363.48505, 11479.84967, 749.34479, 1268.63385, 15788.00577, 6006.1951, 3413.31216, 1343.04236, 4850.91815, 8174.57846, 10990.38298, 22914.25463, 1807.9226, 3008.50187, 588.05655, 6535.15856, 940.86424, 99.06098, 16886.99951, 2373.25205, 1583.7972, 621.81663, 7920.1418, 444.76378, 527.57857, 104.63358, 345.26287, 2219.23307, 102.36628, 405.22077, 380.61431, 767.00817, 229.92202, 155.29048, 782.37235, 16.91788, 34.30736, 11448.56229, 11836.52341, 1818.0029, 16712.8703, 7517.77631, 16328.12681, 1009.29636, 5445.93551, 7031.26355, 6069.47774, 2465.75887, 6574.37358, 22394.97535, 2381.32928, 6320.76087, 184.0884, 16593.18405, 2665.63074, 9440.17879, 1231.00117, 3377.27146, 1529.75916, 454.06663, 3367.60868, 3593.82589, 644.82232, 9745.07911, 165.80205, 1642.01752, 19066.5426, 2219.93949, 2229.02854, 3952.22207, 952.7573, 1115.30236, 9253.25505, 4464.02034, 1286.55558, 7031.46717, 1884.2741, 773.22899, 387.80105, 12865.41028, 820.82717, 322.18081, 163.04834, 210.55567, 1006.41432, 568.76605, 273.25258, 1394.50689, 1326.07107, 106.06519, 270.37802, 2279.1586, 2956.94205, 2502.35669, 17820.03957, 11140.81337, 1359.06266, 1243.0856, 5879.16548, 10226.69805, 625.08993, 2130.47962, 944.08754, 1436.16518, 6242.36103, 9365.12578, 11539.01716, 8211.41556, 12852.47919, 5079.70296, 9018.19724, 5355.07645, 12993.69686, 71.43997, 13592.60959, 3289.95662, 2017.94704, 2423.44578, 2676.46433, 14215.84073, 12960.60535, 2052.11988, 216.903, 4516.33481, 3225.02158, 3544.47009, 4564.62215, 9675.98188, 131.59358, 1370.10632, 359.82057, 699.12626, 381.48799, 757.18661, 938.57667, 295.29443, 111.43365, 4235.44564, 168.02942, 1600.05463, 7230.35755, 1435.2707, 12944.34151, 6628.47407, 22400.95692, 3329.78858, 16251.88301, 2272.13459, 4249.04821, 10881.45195, 3318.62981, 8243.99924, 20615.72649, 5482.50752, 1213.23438, 2651.4516, 81.51361, 3097.53968, 2055.85749, 4548.55616, 1705.10846, 875.6967, 4390.54012, 9957.00202, 13643.36642, 848.26927, 150.34937, 773.2735, 932.23712, 1435.81815, 2490.18885, 2993.73978, 7458.19341, 5439.64743, 213.28611, 865.99536, 3058.82054, 3869.16283, 533.23198, 27.32838, 52.73656, 397.01462, 613.05669, 216.60629, 244.23771, 531.81459, 1021.06087, 315.46278, 597.51756, 86.39365, 654.51257, 126.58938, 132.64193, 306.66713, 748.04198, 218.52624, 377.60207, 323.07359, 1000.53456, 1097.77006, 953.61912, 279.38514, 114.50307, 327.9136, 74.87999, 70.70734, 143.43356, 53.68625, 1496.07572, 94.23993, 3760.21236, 1.06315, 31.66314, 3.7221, 191.78508, 27.50526, 157.25048, 13.13684, 19243.62335, 4033.57596, 9436.87264, 6097.06423, 20668.25105, 1950.78359, 4416.25398, 13885.51324, 3012.42608, 11004.90781, 972.57198, 3543.86922, 10964.40734, 15430.61863, 13957.18801, 2207.01889, 7705.18702, 2214.51016, 3512.8817, 2776.58199, 9127.12521, 2794.41321, 3510.82596, 20765.52341, 4832.80408, 1911.72992, 563.54251, 9380.11578, 759.92995, 13404.68672, 2610.72782, 1257.37448, 3018.69164, 4029.75259, 438.60401, 5972.13978, 1676.15272, 7100.53778, 842.45638, 1117.22262, 3473.46196, 2017.79284, 847.05405, 237.27779, 759.894, 6998.42024, 5971.54477, 5110.89864, 239.0647, 155.62101, 353.15771, 2395.39343, 2986.1804, 2649.8652, 1900.44328, 83.90516, 561.55762, 489.18272, 3.66946, 1145.43134, 718.87786, 167.51999, 1377.25427, 20.97257, 451.8312, 284.7662, 623.42298, 9.90526, 21.27157, 14508.18555, 2270.61422, 8486.82661, 7487.30063, 4536.05191, 7459.53606, 22149.29872, 1071.21387, 5519.91943, 5778.71702, 3438.67712, 9260.7137, 136.0672, 4177.41804, 1834.82304, 4530.29776, 4057.84322, 11696.38674, 2561.42315, 2089.5252, 15537.67966, 400.14068, 8201.37251, 10594.15238, 3992.31475, 4783.34939, 15534.97529, 3059.43256, 4808.73149, 559.54455, 2983.61193, 8318.19103, 386.87138, 2526.79511, 17042.95147, 5617.14207, 259.90732, 291.03776, 14353.82876, 2417.25079, 618.50877, 4214.65563, 1938.16365, 1806.51275, 458.05665, 3352.79716, 4473.73866, 1398.99542, 718.82289, 16174.48979, 5579.21328, 6774.47416, 3819.82909, 3184.7726, 2893.19065, 11629.73831, 14282.65031, 7360.65126, 23207.02594, 2839.01132, 20891.08028, 8258.66661, 14026.85466, 160.18308, 605.84385, 8660.09344, 15227.36117, 19972.75419, 15712.53697, 3170.37378, 2794.5653, 1298.35094, 1774.88019, 794.17873, 6159.04819, 9161.565, 15530.69675, 696.01309, 1174.46439, 11710.07662, 6747.28417, 3689.55666, 2188.75823, 10589.29448, 2007.24132, 13416.33634, 662.76388, 1092.44181, 554.02475, 1218.24464, 1769.077, 738.69191, 11628.08321, 96.11146, 2212.92964, 2580.34237, 1853.0033, 90.40828, 1439.76747, 2483.11768, 9134.23328, 3810.64687, 4229.0257, 4985.7968, 3488.21994, 1922.84147, 139.51115, 2426.19502, 1460.05223, 67.93884, 720.29344, 4094.52563, 108.85456, 675.45135, 345.50095, 895.60378, 308.79751, 76.90508, 700.43562, 434.92417, 366.58944, 627.13247, 843.57872, 192.63569, 339.33043, 246.16835, 207.76417, 110.79153, 1624.94052, 415.9072, 801.66302, 144.46302, 263.92274, 823.69891, 36.62525, 16.29049, 24.73472, 1800.00374, 5377.59249, 2482.93626, 620.42713, 885.53876, 192.07561, 1442.32155, 1491.98503, 324.93641, 589.7387, 354.90934, 3780.48745, 1388.41875, 305.87547, 959.51988, 1706.42227, 329.65888, 315.56202, 1116.23675, 843.74454, 297.26049, 491.06307, 1041.82071, 97.59782, 757.46513, 3105.55346, 648.32618, 79.95786, 282.24411, 243.83991, 342.86313, 523.75572, 80.07785, 23.65259, 94.91789, 264.91785, 10.87788, 114.12209, 1.02736, 1557.2523, 329.06494, 1449.95984, 7255.03359, 9247.32486, 633.04395, 897.2207, 193.49258, 2171.43331, 63.0926, 772.16154, 2023.37437, 488.3957, 274.23153, 801.75132, 367.15572, 109.16621, 357.04627, 59.69683, 1863.63111, 190.63565, 163.30522, 667.3557, 247.36415, 64.87577, 297.70728, 755.57023, 23.20841, 153.70728], \"xaxis\": \"x\", \"y\": [4.91581302248911, 3.22029906982221, 1.56010832450253, 8.91322265395031, 6.82326621923937, 1.28340986694925, 5.42211232779936, 3.84434239962322, 4.14458966207465, 1.1656658424585, 4.7274225833039, 0.682915342046391, 2.66101495349111, 0.835982573884375, 0.153067231837984, 2.92593900859531, 2.37254209348876, 3.24384787472036, 0.62993053102555, 0.71235134816908, 3.12021664900506, 2.06640762981279, 0.806546567761686, 0.241375250206052, 0.671140939597315, 1.18332744613211, 1.03026021429412, 2.06640762981279, 1.09501942776404, 0.71235134816908, 0.423878488166726, 3.20263746614859, 1.51889791593077, 2.35488048981514, 1.28929706817379, 1.08324502531497, 1.21865065347934, 0.871305781231603, 0.777110561638997, 0.200164841634287, 1.51889791593077, 0.223713646532438, 0.830095372659837, 0.694689744495467, 0.170728835511598, 0.612268927351937, 1.10090662898858, 0.217826445307901, 0.435652890615801, 0.158954433062522, 1.27752266572471, 0.270811256328741, 1.62486753797245, 5.08654185800071, 1.99576121511833, 0.588720122453785, 4.42128811962793, 2.3489932885906, 1.13622983633581, 3.3439302955375, 3.04957023431061, 0.647592134699164, 2.29012127634523, 2.73166136818556, 5.02766984575533, 1.00082420817144, 2.15471564818085, 4.2917696926881, 0.217826445307901, 1.17155304368303, 5.96962204168138, 2.40786530083598, 3.83845519839868, 0.57694572000471, 1.74849876368774, 4.47427293064877, 0.8242081714353, 0.830095372659837, 0.671140939597315, 1.38937948899093, 0.429765689391263, 0.74178735429177, 1.63664194042152, 0.512186506534793, 1.477687507359, 0.123631225715295, 1.41292829388909, 1.54244672082892, 0.111856823266219, 0.0941952195926057, 1.55422112327799, 0.618156128576475, 1.61309313552337, 0.87719298245614, 2.79053338043094, 1.05380901919228, 3.60885435064171, 4.38007771105616, 2.18415165430354, 1.2598610620511, 0.647592134699164, 0.482750500412104, 2.34310608736607, 5.45743553514659, 2.37254209348876, 2.68456375838926, 2.10761803838455, 0.747674555516308, 2.92005180737078, 0.812433768986224, 0.735900153067232, 0.95961379959967, 0.135405628164371, 2.6433533498175, 0.700576945720005, 1.54833392205346, 1.44825150123631, 1.63664194042152, 1.72494995878959, 1.50123631225715, 2.46085011185682, 0.270811256328741, 2.23124926409985, 0.476863299187566, 0.8242081714353, 1.31873307429648, 1.97221241022018, 0.694689744495467, 0.300247262451431, 1.87212998940304, 6.79383021311668, 0.365006475921347, 0.682915342046391, 0.883080183680678, 1.04792181796774, 0.353232073472271, 2.88472860002355, 1.05969622041681, 0.777110561638997, 0.835982573884375, 2.22536206287531, 1.11268103143765, 0.57694572000471, 1.07147062286589, 0.535735311432945, 2.4726245143059, 2.36665489226422, 1.42470269633816, 4.66855057105852, 0.806546567761686, 1.96632520899564, 0.624043329801013, 4.02095843635936, 1.96043800777111, 0.288472860002355, 4.7745201931002, 0.376780878370423, 1.6955139526669, 4.09160485105381, 4.23289768044272, 0.488637701636642, 3.13199105145414, 1.96043800777111, 2.28423407512069, 2.03108442246556, 4.03862004003297, 4.22701047921818, 1.70140115389144, 0.588720122453785, 4.66266336983398, 0.0883080183680678, 0.135405628164371, 1.11268103143765, 0.559284116331096, 0.618156128576475, 0.688802543270929, 0.312021664900506, 0.624043329801013, 1.15977864123396, 0.977275403273284, 0.930177793476981, 1.8662427881785, 0.417991286942188, 0.777110561638997, 0.312021664900506, 0.406216884493112, 0.347344872247733, 1.14211703756034, 1.98987401389379, 1.20098904980572, 0.0470976097963028, 0.0883080183680678, 1.23042505592841, 0.765336159189921, 0.0765336159189921, 0.111856823266219, 0.041210408571765, 0.71235134816908, 0.98904980572236, 0.0941952195926057, 0.406216884493112, 0.16484163428706, 0.188390439185211, 0.182503237960673, 0.264924055104203, 0.406216884493112, 0.158954433062522, 0.24726245143059, 0.141292829388909, 0.270811256328741, 0.241375250206052, 0.041210408571765, 0.323796067349582, 0.194277640409749, 0.0706464146944543, 0.135405628164371, 0.0176616036736136, 0.0883080183680678, 0.0765336159189921, 0.0294360061226893, 0.08242081714353, 0.0353232073472271, 0.041210408571765, 0.0176616036736136, 0.0176616036736136, 0.0176616036736136, 0.0176616036736136, 0.00588720122453785, 0.00588720122453785, 0.0235488048981514, 0.653479335923702, 0.671140939597315, 0.465088896738491, 0.535735311432945, 0.264924055104203, 1.20687625103026, 0.447427293064877, 0.223713646532438, 0.406216884493112, 0.753561756740845, 0.0706464146944543, 0.62993053102555, 0.211939244083363, 0.653479335923702, 0.153067231837984, 2.4726245143059, 0.488637701636642, 0.294360061226893, 0.294360061226893, 0.176616036736136, 0.488637701636642, 0.429765689391263, 0.0235488048981514, 0.147180030613446, 0.111856823266219, 0.129518426939833, 0.0235488048981514, 0.00588720122453785, 0.00588720122453785, 0.747674555516308, 0.747674555516308, 2.44907570940775, 1.0891322265395, 2.3489932885906, 1.12445543388673, 1.83680678205581, 7.54739196985753, 1.54244672082892, 1.62486753797245, 1.95455080654657, 2.41375250206052, 2.75521017308372, 2.00164841634287, 2.19592605675262, 1.41881549511362, 0.0765336159189921, 2.4726245143059, 2.14294124573178, 0.624043329801013, 0.818320970210762, 1.49534911103262, 0.518073707759331, 1.46591310490993, 0.671140939597315, 0.87719298245614, 1.51889791593077, 1.6484163428706, 0.241375250206052, 1.26574826327564, 0.317908866125044, 0.865418580007065, 0.49452490286118, 0.771223360414459, 1.8191451783822, 0.429765689391263, 1.24808665960203, 0.259036853879666, 1.12445543388673, 1.21865065347934, 0.406216884493112, 0.677028140821853, 0.417991286942188, 0.547509713882021, 0.200164841634287, 1.10090662898858, 1.48357470858354, 3.47933592370187, 0.370893677145885, 0.170728835511598, 1.26574826327564, 0.41210408571765, 1.80737077593312, 0.323796067349582, 0.582832921229248, 0.588720122453785, 0.641704933474626, 0.547509713882021, 0.953726598375133, 0.624043329801013, 0.241375250206052, 0.200164841634287, 0.400329683268574, 0.200164841634287, 0.270811256328741, 0.100082420817144, 0.476863299187566, 0.0176616036736136, 0.32968326857412, 0.117744024490757, 0.0294360061226893, 0.0470976097963028, 0.0294360061226893, 0.0941952195926057, 0.0529848110208407, 0.0117744024490757, 0.24726245143059, 0.677028140821853, 0.423878488166726, 0.211939244083363, 0.206052042858825, 0.223713646532438, 0.306134463675968, 0.158954433062522, 0.0647592134699164, 0.612268927351937, 0.200164841634287, 0.08242081714353, 0.0647592134699164, 0.211939244083363, 0.105969622041681, 0.0941952195926057, 0.158954433062522, 0.0235488048981514, 0.0588720122453785, 0.0176616036736136, 0.0117744024490757, 0.00588720122453785, 2.30778288001884, 1.70140115389144, 2.60214294124573, 1.00082420817144, 0.117744024490757, 1.2127634522548, 10.2613917343695, 0.49452490286118, 2.79053338043094, 1.20098904980572, 6.28753090780643, 0.506299305310255, 1.06558342164135, 5.75179559637348, 0.417991286942188, 2.12527964205817, 1.42470269633816, 1.2127634522548, 4.54491934534322, 1.48946190980808, 2.46085011185682, 1.98987401389379, 0.830095372659837, 0.370893677145885, 1.13622983633581, 0.947839397150595, 0.100082420817144, 1.63075473919699, 0.518073707759331, 0.571058518780172, 0.282585658777817, 0.49452490286118, 0.406216884493112, 0.317908866125044, 0.135405628164371, 0.294360061226893, 0.606381726127399, 0.0235488048981514, 0.323796067349582, 0.312021664900506, 0.270811256328741, 0.147180030613446, 0.0588720122453785, 0.16484163428706, 0.0235488048981514, 0.0117744024490757, 3.06723183798422, 1.88979159307665, 0.753561756740845, 1.71317555634052, 2.99069822206523, 4.02684563758389, 0.606381726127399, 1.03026021429412, 1.40115389144001, 1.71317555634052, 0.983162604497822, 1.6955139526669, 2.7375485694101, 1.11268103143765, 1.33050747674556, 0.0470976097963028, 5.58695396208642, 0.400329683268574, 1.46591310490993, 0.71235134816908, 1.23042505592841, 0.606381726127399, 0.847756976333451, 3.48522312492641, 1.29518426939833, 0.718238549393618, 2.99658542328977, 0.0588720122453785, 1.12445543388673, 1.53067231837984, 0.983162604497822, 0.71235134816908, 1.82503237960673, 0.523960908983869, 0.488637701636642, 1.50712351348169, 0.624043329801013, 0.259036853879666, 1.39526669021547, 1.21865065347934, 0.571058518780172, 0.95961379959967, 0.600494524902861, 0.406216884493112, 0.211939244083363, 0.0529848110208407, 0.170728835511598, 0.365006475921347, 0.223713646532438, 0.0470976097963028, 0.253149652655128, 0.512186506534793, 0.0588720122453785, 0.865418580007065, 0.965501000824208, 0.730012951842694, 2.33721888614153, 3.031908630637, 3.57353114329448, 0.535735311432945, 0.541622512657483, 0.500412104085718, 2.68456375838926, 0.847756976333451, 0.206052042858825, 0.818320970210762, 1.14211703756034, 0.98904980572236, 1.81325797715766, 0.718238549393618, 0.847756976333451, 0.8242081714353, 1.85446838572942, 1.53067231837984, 3.53820793594725, 0.971388202048746, 0.0353232073472271, 0.677028140821853, 0.571058518780172, 1.23042505592841, 0.624043329801013, 1.15389144000942, 0.777110561638997, 0.753561756740845, 1.63664194042152, 0.129518426939833, 0.541622512657483, 1.08324502531497, 1.1656658424585, 0.847756976333451, 1.10679383021312, 0.0883080183680678, 0.953726598375133, 0.312021664900506, 0.111856823266219, 0.335570469798658, 0.671140939597315, 0.135405628164371, 0.200164841634287, 0.123631225715295, 0.500412104085718, 0.0470976097963028, 0.170728835511598, 1.94866360532203, 2.61391734369481, 3.60296714941717, 1.22453785470387, 5.4279995290239, 0.859531378782527, 0.965501000824208, 1.66607794654421, 1.44825150123631, 0.57694572000471, 1.64252914164606, 1.58954433062522, 5.41622512657483, 1.49534911103262, 0.936064994701519, 0.753561756740845, 0.0883080183680678, 1.24808665960203, 1.27752266572471, 0.406216884493112, 1.19510184858118, 0.276698457553279, 0.971388202048746, 1.03614741551866, 1.64252914164606, 0.211939244083363, 0.105969622041681, 0.194277640409749, 0.777110561638997, 0.8242081714353, 0.500412104085718, 0.918403391027905, 0.694689744495467, 0.547509713882021, 0.217826445307901, 0.535735311432945, 2.19003885552808, 0.688802543270929, 0.0529848110208407, 0.0470976097963028, 0.359119274696809, 0.100082420817144, 0.176616036736136, 0.0470976097963028, 0.188390439185211, 0.16484163428706, 0.123631225715295, 0.347344872247733, 0.176616036736136, 0.0294360061226893, 0.0588720122453785, 0.0588720122453785, 0.206052042858825, 0.288472860002355, 0.158954433062522, 0.0588720122453785, 0.041210408571765, 0.0470976097963028, 0.08242081714353, 0.300247262451431, 0.0765336159189921, 0.111856823266219, 0.0941952195926057, 0.111856823266219, 0.0117744024490757, 0.0117744024490757, 0.188390439185211, 0.0588720122453785, 0.08242081714353, 0.0706464146944543, 0.0941952195926057, 0.00588720122453785, 0.0176616036736136, 0.00588720122453785, 0.135405628164371, 0.0176616036736136, 0.041210408571765, 0.00588720122453785, 4.2917696926881, 0.653479335923702, 2.59625574002119, 2.64924055104203, 3.43223831390557, 1.5247851171553, 2.59036853879666, 2.37842929471329, 3.1732014600259, 2.3489932885906, 0.49452490286118, 0.147180030613446, 3.35570469798658, 1.80737077593312, 6.46414694454256, 1.29518426939833, 1.77204756858589, 1.46591310490993, 0.606381726127399, 1.37171788531732, 6.59955257270694, 0.888967384905216, 0.853644177557989, 2.37842929471329, 0.141292829388909, 0.49452490286118, 0.565171317555634, 2.59036853879666, 0.441540091840339, 2.31367008124338, 0.429765689391263, 0.276698457553279, 2.07818203226186, 0.865418580007065, 0.24726245143059, 0.924290592252443, 1.15389144000942, 0.941952195926057, 0.406216884493112, 0.49452490286118, 1.07735782409043, 0.871305781231603, 0.665253738372778, 0.100082420817144, 0.565171317555634, 1.07147062286589, 0.65936653714824, 0.206052042858825, 0.847756976333451, 0.0470976097963028, 0.235488048981514, 0.217826445307901, 0.700576945720005, 0.0883080183680678, 0.8242081714353, 0.129518426939833, 0.188390439185211, 0.417991286942188, 0.0117744024490757, 0.229600847756976, 0.0529848110208407, 0.0470976097963028, 0.370893677145885, 0.0706464146944543, 0.400329683268574, 0.111856823266219, 0.147180030613446, 0.00588720122453785, 0.0176616036736136, 5.37501471800306, 0.571058518780172, 2.20181325797716, 3.43223831390557, 2.83174378900271, 7.45319675026492, 3.63829035676439, 0.782997762863535, 7.37077593312139, 2.75521017308372, 1.83091958083127, 1.03026021429412, 0.188390439185211, 1.38937948899093, 1.2598610620511, 4.78629459554928, 2.23713646532438, 11.4329447780525, 1.77793476981043, 1.01259861062051, 1.76027316613682, 0.447427293064877, 1.56599552572707, 3.89144000941952, 0.912516189803367, 1.68962675144236, 4.9452490286118, 2.53149652655128, 0.918403391027905, 0.677028140821853, 0.994937006946897, 3.75014718003061, 0.135405628164371, 0.8242081714353, 2.19003885552808, 1.00082420817144, 0.0470976097963028, 0.16484163428706, 4.22112327799364, 1.41292829388909, 0.665253738372778, 0.8242081714353, 0.441540091840339, 1.07735782409043, 0.135405628164371, 0.71235134816908, 1.78970917225951, 0.470976097963028, 0.294360061226893, 3.72659837513246, 7.14117508536442, 1.06558342164135, 1.40704109266455, 0.841869775108913, 3.16731425880137, 6.50535735311433, 3.9032144118686, 3.17908866125044, 1.40704109266455, 1.55422112327799, 2.45496291063229, 1.68962675144236, 1.6484163428706, 0.100082420817144, 0.476863299187566, 3.91498881431767, 4.69209937595667, 2.54327092900035, 1.48357470858354, 0.641704933474626, 0.953726598375133, 0.488637701636642, 0.924290592252443, 0.24726245143059, 1.6955139526669, 4.98057223595903, 4.30354409513717, 1.36583068409278, 0.771223360414459, 3.02602142941246, 2.97303661839162, 1.17744024490757, 1.30107147062287, 1.75438596491228, 0.682915342046391, 0.753561756740845, 0.300247262451431, 0.270811256328741, 0.641704933474626, 1.31284587307194, 0.930177793476981, 0.71235134816908, 0.665253738372778, 0.147180030613446, 0.465088896738491, 0.506299305310255, 0.865418580007065, 0.129518426939833, 0.812433768986224, 0.16484163428706, 0.276698457553279, 1.21865065347934, 0.730012951842694, 0.853644177557989, 0.624043329801013, 0.653479335923702, 0.453314494289415, 0.588720122453785, 0.323796067349582, 0.0941952195926057, 0.953726598375133, 0.482750500412104, 0.24726245143059, 1.26574826327564, 0.100082420817144, 0.282585658777817, 0.341457671023196, 0.147180030613446, 0.176616036736136, 0.0588720122453785, 0.0706464146944543, 0.153067231837984, 0.259036853879666, 0.111856823266219, 0.0941952195926057, 0.0470976097963028, 0.0353232073472271, 0.0706464146944543, 0.141292829388909, 0.153067231837984, 0.200164841634287, 0.0647592134699164, 0.0294360061226893, 0.041210408571765, 0.00588720122453785, 0.0294360061226893, 0.0117744024490757, 0.476863299187566, 0.74178735429177, 0.482750500412104, 0.288472860002355, 0.217826445307901, 0.16484163428706, 0.635817732250088, 0.153067231837984, 0.406216884493112, 0.153067231837984, 0.153067231837984, 0.700576945720005, 0.435652890615801, 0.276698457553279, 0.16484163428706, 1.01259861062051, 0.111856823266219, 0.0706464146944543, 0.788884964088073, 0.518073707759331, 0.535735311432945, 0.129518426939833, 0.300247262451431, 0.111856823266219, 0.235488048981514, 0.264924055104203, 0.123631225715295, 0.0353232073472271, 0.129518426939833, 0.135405628164371, 0.0353232073472271, 0.153067231837984, 0.0529848110208407, 0.0294360061226893, 0.0176616036736136, 0.0353232073472271, 0.0235488048981514, 0.0235488048981514, 0.00588720122453785, 0.194277640409749, 0.0647592134699164, 0.235488048981514, 0.170728835511598, 1.54833392205346, 0.300247262451431, 0.194277640409749, 0.0588720122453785, 0.241375250206052, 0.0353232073472271, 0.482750500412104, 0.482750500412104, 0.0706464146944543, 0.0883080183680678, 0.264924055104203, 0.123631225715295, 0.141292829388909, 0.0588720122453785, 0.041210408571765, 0.57694572000471, 0.147180030613446, 0.0529848110208407, 0.0765336159189921, 0.117744024490757, 0.0176616036736136, 0.0765336159189921, 0.211939244083363, 0.0176616036736136, 0.0647592134699164], \"yaxis\": \"y\"}, {\"customdata\": [[\"Fil\\u00e9 de Peito de Frango 20Kg - Can\\u00e7\\u00e3o Congelado - Caixa de 20kg Venda por Caixa\"], [\"Fil\\u00e9 de Peito de Frango Envelopado CX - Lar Congelado - Caixa de 20kg A partir de 1 caixa (20kg)\"], [\"Leite Integral Italac 1L Tetrapack 1 L (Com Tampa) Unidade\"], [\"\\u00d3leo de Algod\\u00e3o Liza 14,5Kg 14,5Kg Unidade\"], [\"A\\u00e7\\u00facar Refinado Uni\\u00e3o 1Kg Pacote de 1kg Unidade\"], [\"Caf\\u00e9 Pil\\u00e3o Tradicional Almofada 500g Almofada de 500g Unidade\"], [\"Leite Integral Piracanjuba 1L Tetrapack 1 L (Com Tampa) Unidade\"], [\"Arroz Branco 5kg - Pantera Pacote de 5kg Venda por Pacote\"], [\"Feij\\u00e3o Preto Kicaldo 1Kg Pacote de 1kg Unidade\"], [\"Feij\\u00e3o Carioca Camil 1Kg Pacote de 1kg Unidade\"], [\"Cerveja Heineken long neck 330ml Garrafa de 330ml Unidade\"], [\"Arroz Branco 5Kg - Mateus Pacote de 5kg Venda por Pacote\"], [\"Ovos Brancos Grandes - Cinta com 5 d\\u00fazias Cinta com 5 d\\u00fazias Venda por Cinta\"], [\"Coca-Cola 200ml Garrafa de 200ml A partir de 1 unidade\"], [\"Leite Condensado Semidesnatado 395g - Piracanjuba Tetra Pak de 395g Unidade\"], [\"Creme de Leite Piracanjuba 1,030Kg Tetra Pak de 1,030Kg Unidade\"], [\"Coca-Cola 350ml Lata de 350ml Unidade\"], [\"Lingui\\u00e7a tipo Calabresa - SEARA Pacote de 2.5kg 1 pacote (2.5kg)\"], [\"Batata Pr\\u00e9 Frita Tradicional 2kg - Mais Batata Congelado - Pacote de 2kg A partir de 1 pacote\"], [\"Coca-Cola Zero 350ml Lata de 350ml Unidade\"], [\"Queijo Mussarela 4Kg - Coyote Resfriado - Pe\\u00e7a de 4kg Venda por Pe\\u00e7a\"], [\"Coca-Cola 2L Garrafa de 2l A partir de 1 unidade\"], [\"Coca-Cola 600ml Garrafa de 600ml A partir de 1 unidade\"], [\"A\\u00e7\\u00facar Refinado Caravelas 1kg Pacote de 1kg Venda por Pacote\"], [\"Feij\\u00e3o Carioca Kicaldo 1Kg Pacote de 1kg Unidade\"]], \"hovertemplate\": \"Cluster_Label=KVI<br>GMV (USD)=%{x}<br>Penetraci\\u00f3n=%{y}<br>product_name=%{customdata[0]}<extra></extra>\", \"legendgroup\": \"KVI\", \"marker\": {\"color\": \"#EF553B\", \"symbol\": \"circle\"}, \"mode\": \"markers\", \"name\": \"KVI\", \"orientation\": \"v\", \"showlegend\": true, \"type\": \"scatter\", \"x\": [127586.46541, 163625.51002, 164143.57633, 85301.56853, 96974.49005, 89294.70418, 119192.27764, 117927.99626, 112293.77809, 142946.53532, 130018.73828, 121833.47484, 121687.17979, 104588.05716, 84289.6248, 85199.16235, 190287.60648, 120587.17825, 128155.20423, 125090.39282, 116894.55339, 94042.07021, 122484.66536, 129999.97276, 186425.707], \"xaxis\": \"x\", \"y\": [3.18497586247498, 3.52643353349817, 12.3160249617332, 2.20181325797716, 11.580124808666, 7.05286706699635, 9.64912280701754, 2.73166136818556, 14.5178382197103, 12.5279642058166, 5.02766984575533, 4.83339220534558, 13.4993524078653, 15.6069704462499, 11.1326975156011, 5.99317084657954, 15.3773695984929, 12.2336041445897, 9.00153067231838, 11.1032615094784, 5.58695396208642, 7.54739196985753, 13.0166019074532, 21.14682679854, 14.9888143176734], \"yaxis\": \"y\"}, {\"customdata\": [[\"Requeij\\u00e3o Cremoso 1.5kg - Tirolez Bisnaga de 1.5kg Venda por Bisnaga\"], [\"Requeij\\u00e3o Cremoso 1.5kg - Catupiry Resfriado - Bisnaga de 1.5kg A partir de 1 bisnaga\"], [\"Azeite de Oliva Extra Virgem Borges 2 L Pet de 2L A partir de 1 unidade\"], [\"Feij\\u00e3o Preto Camil 1Kg Pacote de 1kg Unidade\"], [\"Feij\\u00e3o Carioca Caldo Nobre 1kg Pacote de 1kg Unidade\"], [\"Feij\\u00e3o Carioca 1kg - Pantera Pacote de 1kg Venda por Pacote\"], [\"Cerveja Skol Pilsen 350ml Lata Lata de 350ml Unidade\"], [\"\\u00c1gua Mineral Frescca sem g\\u00e1s 510ml Garrafa de 510ml Unidade\"], [\"Batata Pr\\u00e9-Frita One Fry 2.5Kg - McCain Pacote de 2.5kg Venda por Pacote\"], [\"Batata Pr\\u00e9-Frita Tradicional 2kg - UAI Pacote de 2kg Venda por Pacote\"], [\"Guaraviton A\\u00e7a\\u00ed 500ml Garrafa de 500ml Unidade\"], [\"Farinha de Trigo Anaconda 5Kg Pacote de 5kg Unidade\"], [\"Conhaque Dreher 900ml Garrafa de 900ml A partir de 12 unidades\"], [\"Sassami de Frango GD - SEARA Congelado - Pacote de 6kg A partir de 1 pacote (6kg)\"], [\"Ketchup Cep\\u00eara 3,5Kg Gal\\u00e3o de 3,5Kg Unidade\"], [\"Arroz Branco Gourmet Tio Jo\\u00e3o 5kg Pacote de 5kg Venda por Pacote\"], [\"Detergente Yp\\u00ea Neutro 500ml Frasco de 500ml A partir de 1 unidade\"], [\"\\u00c1gua Sanit\\u00e1ria Triex 5L Gal\\u00e3o de 5L Unidade\"], [\"Farinha de Mandioca Branca Seca Grossa Kicaldo 1Kg Pacote de 1kg Unidade\"], [\"Ovos Brancos Grandes - Bandeja com 30 unidades Bandeja com 30 unidades Venda por Bandeja\"], [\"Farinha de Trigo Tr\\u00eas Coroas 1kg Embalagem de Pl\\u00e1stico 1 kg Venda por Embalagem\"], [\"Leite Condensado Bag Piracanjuba 2,5Kg Bag de 2,5Kg Unidade\"], [\"Batata Pr\\u00e9-Frita Corte Tradicional 2.5kg - McCain Congelado - Pacote de 2.5kg A partir de 1 pacote\"], [\"Batata Pr\\u00e9-Frita 7mm 2.25Kg - Simplot Pacote de 2.25kg Venda por Pacote\"], [\"Fil\\u00e9 de Peito de Frango BD - SEARA Bandeja de 1kg A partir de 2 bandejas (2kg)\"], [\"Refrigerante h2oh lim\\u00e3o 500ml Garrafa Garrafa 500ml Unidade\"], [\"Refrigerante Guaran\\u00e1 Antarctica 350ml Lata Lata de 350ml Unidade\"], [\"Farinha de Trigo para Pastel 5Kg - Suprema Pacote de 5kg Venda por Pacote\"], [\"Ituba\\u00edna Retr\\u00f4 Lata 350ml Lata de 350ml Unidade\"], [\"Guaran\\u00e1 Antarctica 600ml Garrafa de 600ml A partir de 1 unidade\"], [\"Farinha de Trigo Para Pastel Rosa Branca 5kg Pacote de 5kg Venda por Pacote\"], [\"Milho Verde Ol\\u00e9 170g Lata de 170g Venda por Lata\"], [\"Detergente Limpol Neutro 500ml Frasco de 500ml Unidade\"], [\"Sassami de Frango IQF - Lar Congelado - Pacote de 2kg A partir de 1 pacote (2kg)\"], [\"Lingui\\u00e7a Toscana - SEARA Pacote de 5kg 1 pacote (5kg)\"], [\"\\u00c1gua Mineral Frescca com g\\u00e1s 510ml Garrafa de 510ml Unidade\"], [\"Refrigerante Guaran\\u00e1 Antarctica 200ML Garrafa Pet Garrafa de 200ml A partir de 1 unidade\"], [\"Arroz Integral Camil  Food Service 2Kg Pacote de 2kg Unidade\"], [\"Fil\\u00e9 de Peito de Frango IQF - Lar Congelado - Pacote de 1kg A partir de 2 pacotes (2kg)\"], [\"Sal Miramar 1Kg Pacote de 1kg Unidade\"], [\"Milho Verde Ol\\u00e9 1,7kg Lata de 1,7Kg Venda por Lata\"], [\"Caf\\u00e9 Brasileiro Extraforte Pouch 500g Pacote de 500g Venda por Pacote\"], [\"Macarr\\u00e3o com Ovos Espaguete 500g - Adria Pacote de 500g Venda por Pacote\"], [\"Queijo Mussarela 4Kg - Ouro do Campo Embalagem de 4Kg Venda por Embalagem\"], [\"Queijo Mussarela 4,1Kg - Coyote Resfriado - Pe\\u00e7a de 4.1kg Venda por Resfriado\"], [\"Creme de Leite Piracanjuba 200g Tetra Pak de 200g Unidade\"], [\"Queijo Mussarela 4Kg - Piloto Refrigerado - Pe\\u00e7a de 4Kg Venda por Refrigerado\"], [\"Bacon Fatiado - Frimesa Pacote de 1kg (67 fatias de 15g aprox.) A partir de 2 pacotes (2kg)\"], [\"Maionese Mariana 3kg Balde de 3kg Venda por Balde\"], [\"Papel Toalha Mili 600 folhas Pacote com 600 folhas A partir de 1 pacote\"], [\"Detergente Triex Neutro 500ml Frasco de 500ml Unidade\"], [\"Cerveja Itaipava Pilsen 350ml Lata de 350ml Unidade\"], [\"Bisteca Su\\u00edna Congelada Caixa - Sadia Congelado - Caixa com 10kg Venda por Caixa\"], [\"Queijo Mussarela 4.1Kg - Monte Castelo Refrigerado - Pe\\u00e7a de 4.1Kg Venda por Refrigerado\"], [\"\\u00c1gua Mineral Cristal Classic sem g\\u00e1s 510ml Garrafa de 510ml Venda por Garrafa\"], [\"\\u00c1gua Mineral Cristal Classic com g\\u00e1s 510ml Garrafa de 510ml Venda por Garrafa\"], [\"Requeij\\u00e3o Cremoso 1.5kg - Scala Resfriado - Bisnaga de 1.5kg A partir de 1 bisnaga\"], [\"Ituba\\u00edna Retr\\u00f4 Garrafa 355ml Garrafa de 355ml Unidade\"], [\"Arroz Japon\\u00eas Guin Gr\\u00e3o Longo 5Kg Pacote de 5kg Unidade\"], [\"Polpa de Maracuj\\u00e1 - Ricaeli Pacote de 1kg - Cont\\u00e9m 10 unidades de 100g A partir de 1 pacote (1kg)\"], [\"Farinha de Trigo Sol 5kg Embalagem de Papel 5kg Venda por Embalagem\"], [\"\\u00d3leo Composto Olinda 500ml Pet de 500ml Unidade\"], [\"Sal Lebre 1Kg Pacote de 1kg Unidade\"], [\"Molho de Tomate Tarantella 2Kg Sach\\u00ea de 2Kg Unidade\"], [\"A\\u00e7\\u00facar Cristal Alto Alegre 5Kg Pacote de 5kg Unidade\"], [\"Mistura Para P\\u00e3o Franc\\u00eas Maxi 25kg Saco de 25kg Venda por Saco\"], [\"Feij\\u00e3o Carioca 1Kg - Big Valley Pacote de 1kg Venda por Pacote\"], [\"Refrigerante Guaran\\u00e1 Antarctica Sem A\\u00e7\\u00facar 350ml Lata Lata de 350ml A partir de 1 unidade\"], [\"\\u00d3leo Composto Olinda 3L Gal\\u00e3o de 3L Unidade\"], [\"Cacha\\u00e7a Pit\\u00fa 350ml Lata de 350ml A partir de 12 unidades\"], [\"Batata Palha Amavita 1Kg Pacote de 1kg Venda por Pacote\"], [\"Refrigerante Guaran\\u00e1 Antarctica Garrafa 2L Garrafa de 2l A partir de 1 unidade\"], [\"Caf\\u00e9 Pil\\u00e3o Tradicional V\\u00e1cuo 500g Pacote de 500g Unidade\"], [\"\\u00d3leo de Algod\\u00e3o Sa\\u00fade 14.5 Kg Balde De 14,5Kg Unidade\"], [\"Margarina 15Kg - Sofiteli Balde de 15kg Venda por Balde\"], [\"Fil\\u00e9 de Peito de Frango - Bello Alimentos Congelado - Caixa de 12kg Venda por Caixa\"], [\"Detergente Triex Neutro 5L Frasco de 5L Unidade\"], [\"Cerveja Heineken Sleek 350ml Lata de 350ml Venda por Lata\"], [\"Refrigerante h2oh Limoneto 500ml Garrafa Garrafa 500ml Unidade\"], [\"Farinha de Trigo Rosa Branca 5kg Embalagem de Papel 5kg Venda por Embalagem\"], [\"Caf\\u00e9 Tradicional Pouch FORT 500g Pacote de 500g Unidade\"], [\"Macarr\\u00e3o com Ovos Espaguete Dona Benta 500g Pacote de 500g Unidade\"], [\"Arroz Parboilizado Campeiro 5kg Pacote de 5kg Venda por Pacote\"], [\"Ovos Brancos Grandes - Caixa com 15 d\\u00fazias Caixa com 15 d\\u00fazias Venda por Caixa\"], [\"Bacon em Cubos - Frimesa Pacote de 1kg 1 pacote (1kg)\"], [\"Bacon Inteiro CX - Sadia Caixa de 10kg A partir de 1 caixa (10kg)\"], [\"Caf\\u00e9 Seleto Tradicional Almofada 500g Pacote de 500g A partir de 1 unidade\"], [\"Carne Seca Bovina Dianteiro 5Kg - Friboi Refrigerado - Pacote com 5Kg Venda por Pacote\"], [\"Leite Condensado Bag Piracanjuba 5Kg - Atacado Bag de 5Kg Venda por Bag\"], [\"Arroz Parboilizado Camil Food Service 5Kg Pacote de 5kg Unidade\"]], \"hovertemplate\": \"Cluster_Label=MID<br>GMV (USD)=%{x}<br>Penetraci\\u00f3n=%{y}<br>product_name=%{customdata[0]}<extra></extra>\", \"legendgroup\": \"MID\", \"marker\": {\"color\": \"#00cc96\", \"symbol\": \"circle\"}, \"mode\": \"markers\", \"name\": \"MID\", \"orientation\": \"v\", \"showlegend\": true, \"type\": \"scatter\", \"x\": [40196.36187, 36186.70347, 43842.69915, 54900.80371, 29811.56475, 73648.16249, 61859.61034, 73254.88916, 30493.35184, 67133.14128, 24574.90343, 41406.75951, 48892.78578, 81957.59512, 30567.06209, 42735.91294, 50423.27538, 26481.02373, 55273.5427, 24725.85804, 31013.4505, 25110.72227, 24662.58955, 77018.71478, 28371.43361, 79807.71776, 71205.13379, 48129.08449, 41494.19715, 31082.01315, 26151.79757, 44261.40388, 45293.6671, 33631.33137, 32980.10964, 32690.43856, 36597.95712, 26127.49407, 68545.996, 23481.846, 63359.58567, 27414.56547, 30193.17746, 72870.46227, 27069.77749, 50798.67002, 66243.69461, 74121.59079, 34602.12205, 27645.62474, 41165.33022, 41928.42393, 29890.7769, 32094.40112, 74190.47334, 40808.97843, 28436.72428, 26937.97594, 25468.96922, 34053.7464, 29199.86329, 42891.56433, 46423.54399, 67842.97747, 25500.89052, 47043.32414, 66347.82418, 38635.05656, 24927.29226, 30059.10892, 25672.38273, 34074.80953, 27261.93058, 63832.24532, 36473.61117, 35033.00095, 30444.27741, 46723.04557, 72732.64957, 23495.89841, 69032.15881, 37587.74031, 40190.43628, 53105.32046, 43981.60693, 35143.98306, 41368.84587, 24842.22908, 47135.09096, 27671.29657], \"xaxis\": \"x\", \"y\": [3.03779583186153, 2.01931002001648, 1.63664194042152, 8.48934416578359, 5.43977393147298, 4.56258094901684, 6.57011656658425, 13.1520075356176, 1.54244672082892, 6.19333568821382, 8.83080183680678, 2.52560932532674, 6.66431178617685, 2.62569174614388, 8.27151772047569, 0.612268927351937, 11.427057576828, 14.8180854821618, 9.96703167314259, 6.76439420699399, 7.20593429883433, 1.84269398328035, 1.08324502531497, 1.20687625103026, 2.69633816083834, 13.2167667490875, 12.4514305898976, 1.57188272695161, 10.2025197221241, 5.8165548098434, 0.965501000824208, 11.9804544919345, 8.76604262333687, 2.9082774049217, 3.96208642411398, 8.07724008006594, 8.68362180619334, 3.28505828329212, 6.14035087719298, 14.382432591546, 4.08571764982927, 2.93182620981985, 9.43129636170964, 3.93853761921583, 2.00164841634287, 10.420346167432, 4.05039444248204, 3.37925350288473, 4.20934887554457, 5.37501471800306, 7.09407747556812, 5.28670669963499, 1.98398681266926, 1.13034263511127, 16.1956905687036, 10.5851878017191, 2.10761803838455, 4.89226421759096, 0.735900153067232, 4.45661132697516, 3.29094548451666, 7.81820322618627, 27.5638761332862, 6.59955257270694, 0.835982573884375, 0.482750500412104, 7.47085835393854, 6.49358295066525, 3.04368303308607, 4.15636406452372, 4.33298010125986, 4.48016013187331, 3.35570469798658, 2.61391734369481, 1.99576121511833, 1.64252914164606, 5.23372188861415, 3.20852466737313, 10.2613917343695, 2.26068527022254, 5.13363946779701, 9.24879312374897, 1.44825150123631, 3.06723183798422, 4.52137054044507, 1.74261156246321, 4.80395619922289, 1.78382197103497, 1.0891322265395, 1.53655951960438], \"yaxis\": \"y\"}, {\"customdata\": [[\"A\\u00e7\\u00facar Alto Alegre 1Kg Pacote de 1kg Unidade\"], [\"\\u00d3leo Conc\\u00f3rdia 900 ml PET 900ml Unidade\"], [\"Leite Integral H\\u00e9rcules 1L Tetrapack 1 L A partir de 1 unidade\"], [\"Leite Integral L\\u00edder 1L Tetra Pak de 1L Venda por Tetra\"], [\"Arroz Branco Camil Food Service 5kg Pacote de 5kg Unidade\"], [\"Arroz Branco Campeiro 5Kg Pacote de 5kg Unidade\"], [\"Queijo Mussarela 4kg - Litoral Pe\\u00e7a de 4kg Venda por Pe\\u00e7a\"], [\"\\u00d3leo Vitaliv 900ml PET 900ml Unidade\"]], \"hovertemplate\": \"Cluster_Label=SUPER KVI<br>GMV (USD)=%{x}<br>Penetraci\\u00f3n=%{y}<br>product_name=%{customdata[0]}<extra></extra>\", \"legendgroup\": \"SUPER KVI\", \"marker\": {\"color\": \"#ab63fa\", \"symbol\": \"circle\"}, \"mode\": \"markers\", \"name\": \"SUPER KVI\", \"orientation\": \"v\", \"showlegend\": true, \"type\": \"scatter\", \"x\": [524593.82879, 350521.64865, 493185.57264, 405235.82269, 670212.29674, 530866.6015, 443852.59738, 1472697.1189], \"xaxis\": \"x\", \"y\": [45.0900741787354, 21.5059460732368, 27.5579889320617, 25.0912516189803, 17.3907924172848, 11.9922288943836, 13.5817732250088, 46.815024137525], \"yaxis\": \"y\"}],                        {\"legend\": {\"title\": {\"text\": \"Cluster_Label\"}, \"tracegroupgap\": 0}, \"template\": {\"data\": {\"bar\": [{\"error_x\": {\"color\": \"#2a3f5f\"}, \"error_y\": {\"color\": \"#2a3f5f\"}, \"marker\": {\"line\": {\"color\": \"#E5ECF6\", \"width\": 0.5}}, \"type\": \"bar\"}], \"barpolar\": [{\"marker\": {\"line\": {\"color\": \"#E5ECF6\", \"width\": 0.5}}, \"type\": \"barpolar\"}], \"carpet\": [{\"aaxis\": {\"endlinecolor\": \"#2a3f5f\", \"gridcolor\": \"white\", \"linecolor\": \"white\", \"minorgridcolor\": \"white\", \"startlinecolor\": \"#2a3f5f\"}, \"baxis\": {\"endlinecolor\": \"#2a3f5f\", \"gridcolor\": \"white\", \"linecolor\": \"white\", \"minorgridcolor\": \"white\", \"startlinecolor\": \"#2a3f5f\"}, \"type\": \"carpet\"}], \"choropleth\": [{\"colorbar\": {\"outlinewidth\": 0, \"ticks\": \"\"}, \"type\": \"choropleth\"}], \"contour\": [{\"colorbar\": {\"outlinewidth\": 0, \"ticks\": \"\"}, \"colorscale\": [[0.0, \"#0d0887\"], [0.1111111111111111, \"#46039f\"], [0.2222222222222222, \"#7201a8\"], [0.3333333333333333, \"#9c179e\"], [0.4444444444444444, \"#bd3786\"], [0.5555555555555556, \"#d8576b\"], [0.6666666666666666, \"#ed7953\"], [0.7777777777777778, \"#fb9f3a\"], [0.8888888888888888, \"#fdca26\"], [1.0, \"#f0f921\"]], \"type\": \"contour\"}], \"contourcarpet\": [{\"colorbar\": {\"outlinewidth\": 0, \"ticks\": \"\"}, \"type\": \"contourcarpet\"}], \"heatmap\": [{\"colorbar\": {\"outlinewidth\": 0, \"ticks\": \"\"}, \"colorscale\": [[0.0, \"#0d0887\"], [0.1111111111111111, \"#46039f\"], [0.2222222222222222, \"#7201a8\"], [0.3333333333333333, \"#9c179e\"], [0.4444444444444444, \"#bd3786\"], [0.5555555555555556, \"#d8576b\"], [0.6666666666666666, \"#ed7953\"], [0.7777777777777778, \"#fb9f3a\"], [0.8888888888888888, \"#fdca26\"], [1.0, \"#f0f921\"]], \"type\": \"heatmap\"}], \"heatmapgl\": [{\"colorbar\": {\"outlinewidth\": 0, \"ticks\": \"\"}, \"colorscale\": [[0.0, \"#0d0887\"], [0.1111111111111111, \"#46039f\"], [0.2222222222222222, \"#7201a8\"], [0.3333333333333333, \"#9c179e\"], [0.4444444444444444, \"#bd3786\"], [0.5555555555555556, \"#d8576b\"], [0.6666666666666666, \"#ed7953\"], [0.7777777777777778, \"#fb9f3a\"], [0.8888888888888888, \"#fdca26\"], [1.0, \"#f0f921\"]], \"type\": \"heatmapgl\"}], \"histogram\": [{\"marker\": {\"colorbar\": {\"outlinewidth\": 0, \"ticks\": \"\"}}, \"type\": \"histogram\"}], \"histogram2d\": [{\"colorbar\": {\"outlinewidth\": 0, \"ticks\": \"\"}, \"colorscale\": [[0.0, \"#0d0887\"], [0.1111111111111111, \"#46039f\"], [0.2222222222222222, \"#7201a8\"], [0.3333333333333333, \"#9c179e\"], [0.4444444444444444, \"#bd3786\"], [0.5555555555555556, \"#d8576b\"], [0.6666666666666666, \"#ed7953\"], [0.7777777777777778, \"#fb9f3a\"], [0.8888888888888888, \"#fdca26\"], [1.0, \"#f0f921\"]], \"type\": \"histogram2d\"}], \"histogram2dcontour\": [{\"colorbar\": {\"outlinewidth\": 0, \"ticks\": \"\"}, \"colorscale\": [[0.0, \"#0d0887\"], [0.1111111111111111, \"#46039f\"], [0.2222222222222222, \"#7201a8\"], [0.3333333333333333, \"#9c179e\"], [0.4444444444444444, \"#bd3786\"], [0.5555555555555556, \"#d8576b\"], [0.6666666666666666, \"#ed7953\"], [0.7777777777777778, \"#fb9f3a\"], [0.8888888888888888, \"#fdca26\"], [1.0, \"#f0f921\"]], \"type\": \"histogram2dcontour\"}], \"mesh3d\": [{\"colorbar\": {\"outlinewidth\": 0, \"ticks\": \"\"}, \"type\": \"mesh3d\"}], \"parcoords\": [{\"line\": {\"colorbar\": {\"outlinewidth\": 0, \"ticks\": \"\"}}, \"type\": \"parcoords\"}], \"pie\": [{\"automargin\": true, \"type\": \"pie\"}], \"scatter\": [{\"marker\": {\"colorbar\": {\"outlinewidth\": 0, \"ticks\": \"\"}}, \"type\": \"scatter\"}], \"scatter3d\": [{\"line\": {\"colorbar\": {\"outlinewidth\": 0, \"ticks\": \"\"}}, \"marker\": {\"colorbar\": {\"outlinewidth\": 0, \"ticks\": \"\"}}, \"type\": \"scatter3d\"}], \"scattercarpet\": [{\"marker\": {\"colorbar\": {\"outlinewidth\": 0, \"ticks\": \"\"}}, \"type\": \"scattercarpet\"}], \"scattergeo\": [{\"marker\": {\"colorbar\": {\"outlinewidth\": 0, \"ticks\": \"\"}}, \"type\": \"scattergeo\"}], \"scattergl\": [{\"marker\": {\"colorbar\": {\"outlinewidth\": 0, \"ticks\": \"\"}}, \"type\": \"scattergl\"}], \"scattermapbox\": [{\"marker\": {\"colorbar\": {\"outlinewidth\": 0, \"ticks\": \"\"}}, \"type\": \"scattermapbox\"}], \"scatterpolar\": [{\"marker\": {\"colorbar\": {\"outlinewidth\": 0, \"ticks\": \"\"}}, \"type\": \"scatterpolar\"}], \"scatterpolargl\": [{\"marker\": {\"colorbar\": {\"outlinewidth\": 0, \"ticks\": \"\"}}, \"type\": \"scatterpolargl\"}], \"scatterternary\": [{\"marker\": {\"colorbar\": {\"outlinewidth\": 0, \"ticks\": \"\"}}, \"type\": \"scatterternary\"}], \"surface\": [{\"colorbar\": {\"outlinewidth\": 0, \"ticks\": \"\"}, \"colorscale\": [[0.0, \"#0d0887\"], [0.1111111111111111, \"#46039f\"], [0.2222222222222222, \"#7201a8\"], [0.3333333333333333, \"#9c179e\"], [0.4444444444444444, \"#bd3786\"], [0.5555555555555556, \"#d8576b\"], [0.6666666666666666, \"#ed7953\"], [0.7777777777777778, \"#fb9f3a\"], [0.8888888888888888, \"#fdca26\"], [1.0, \"#f0f921\"]], \"type\": \"surface\"}], \"table\": [{\"cells\": {\"fill\": {\"color\": \"#EBF0F8\"}, \"line\": {\"color\": \"white\"}}, \"header\": {\"fill\": {\"color\": \"#C8D4E3\"}, \"line\": {\"color\": \"white\"}}, \"type\": \"table\"}]}, \"layout\": {\"annotationdefaults\": {\"arrowcolor\": \"#2a3f5f\", \"arrowhead\": 0, \"arrowwidth\": 1}, \"autotypenumbers\": \"strict\", \"coloraxis\": {\"colorbar\": {\"outlinewidth\": 0, \"ticks\": \"\"}}, \"colorscale\": {\"diverging\": [[0, \"#8e0152\"], [0.1, \"#c51b7d\"], [0.2, \"#de77ae\"], [0.3, \"#f1b6da\"], [0.4, \"#fde0ef\"], [0.5, \"#f7f7f7\"], [0.6, \"#e6f5d0\"], [0.7, \"#b8e186\"], [0.8, \"#7fbc41\"], [0.9, \"#4d9221\"], [1, \"#276419\"]], \"sequential\": [[0.0, \"#0d0887\"], [0.1111111111111111, \"#46039f\"], [0.2222222222222222, \"#7201a8\"], [0.3333333333333333, \"#9c179e\"], [0.4444444444444444, \"#bd3786\"], [0.5555555555555556, \"#d8576b\"], [0.6666666666666666, \"#ed7953\"], [0.7777777777777778, \"#fb9f3a\"], [0.8888888888888888, \"#fdca26\"], [1.0, \"#f0f921\"]], \"sequentialminus\": [[0.0, \"#0d0887\"], [0.1111111111111111, \"#46039f\"], [0.2222222222222222, \"#7201a8\"], [0.3333333333333333, \"#9c179e\"], [0.4444444444444444, \"#bd3786\"], [0.5555555555555556, \"#d8576b\"], [0.6666666666666666, \"#ed7953\"], [0.7777777777777778, \"#fb9f3a\"], [0.8888888888888888, \"#fdca26\"], [1.0, \"#f0f921\"]]}, \"colorway\": [\"#636efa\", \"#EF553B\", \"#00cc96\", \"#ab63fa\", \"#FFA15A\", \"#19d3f3\", \"#FF6692\", \"#B6E880\", \"#FF97FF\", \"#FECB52\"], \"font\": {\"color\": \"#2a3f5f\"}, \"geo\": {\"bgcolor\": \"white\", \"lakecolor\": \"white\", \"landcolor\": \"#E5ECF6\", \"showlakes\": true, \"showland\": true, \"subunitcolor\": \"white\"}, \"hoverlabel\": {\"align\": \"left\"}, \"hovermode\": \"closest\", \"mapbox\": {\"style\": \"light\"}, \"paper_bgcolor\": \"white\", \"plot_bgcolor\": \"#E5ECF6\", \"polar\": {\"angularaxis\": {\"gridcolor\": \"white\", \"linecolor\": \"white\", \"ticks\": \"\"}, \"bgcolor\": \"#E5ECF6\", \"radialaxis\": {\"gridcolor\": \"white\", \"linecolor\": \"white\", \"ticks\": \"\"}}, \"scene\": {\"xaxis\": {\"backgroundcolor\": \"#E5ECF6\", \"gridcolor\": \"white\", \"gridwidth\": 2, \"linecolor\": \"white\", \"showbackground\": true, \"ticks\": \"\", \"zerolinecolor\": \"white\"}, \"yaxis\": {\"backgroundcolor\": \"#E5ECF6\", \"gridcolor\": \"white\", \"gridwidth\": 2, \"linecolor\": \"white\", \"showbackground\": true, \"ticks\": \"\", \"zerolinecolor\": \"white\"}, \"zaxis\": {\"backgroundcolor\": \"#E5ECF6\", \"gridcolor\": \"white\", \"gridwidth\": 2, \"linecolor\": \"white\", \"showbackground\": true, \"ticks\": \"\", \"zerolinecolor\": \"white\"}}, \"shapedefaults\": {\"line\": {\"color\": \"#2a3f5f\"}}, \"ternary\": {\"aaxis\": {\"gridcolor\": \"white\", \"linecolor\": \"white\", \"ticks\": \"\"}, \"baxis\": {\"gridcolor\": \"white\", \"linecolor\": \"white\", \"ticks\": \"\"}, \"bgcolor\": \"#E5ECF6\", \"caxis\": {\"gridcolor\": \"white\", \"linecolor\": \"white\", \"ticks\": \"\"}}, \"title\": {\"x\": 0.05}, \"xaxis\": {\"automargin\": true, \"gridcolor\": \"white\", \"linecolor\": \"white\", \"ticks\": \"\", \"title\": {\"standoff\": 15}, \"zerolinecolor\": \"white\", \"zerolinewidth\": 2}, \"yaxis\": {\"automargin\": true, \"gridcolor\": \"white\", \"linecolor\": \"white\", \"ticks\": \"\", \"title\": {\"standoff\": 15}, \"zerolinecolor\": \"white\", \"zerolinewidth\": 2}}}, \"title\": {\"text\": \"Distribuci\\u00f3n de GMV y Penetraci\\u00f3n por Cluster\"}, \"xaxis\": {\"anchor\": \"y\", \"domain\": [0.0, 1.0], \"title\": {\"text\": \"GMV (USD)\"}}, \"yaxis\": {\"anchor\": \"x\", \"domain\": [0.0, 1.0], \"title\": {\"text\": \"Penetraci\\u00f3n\"}}},                        {\"responsive\": true}                    ).then(function(){\n",
       "                            \n",
       "var gd = document.getElementById('a55fccf8-743e-4d16-a248-9dd5e910b438');\n",
       "var x = new MutationObserver(function (mutations, observer) {{\n",
       "        var display = window.getComputedStyle(gd).display;\n",
       "        if (!display || display === 'none') {{\n",
       "            console.log([gd, 'removed!']);\n",
       "            Plotly.purge(gd);\n",
       "            observer.disconnect();\n",
       "        }}\n",
       "}});\n",
       "\n",
       "// Listen for the removal of the full notebook cells\n",
       "var notebookContainer = gd.closest('#notebook-container');\n",
       "if (notebookContainer) {{\n",
       "    x.observe(notebookContainer, {childList: true});\n",
       "}}\n",
       "\n",
       "// Listen for the clearing of the current output cell\n",
       "var outputEl = gd.closest('.output');\n",
       "if (outputEl) {{\n",
       "    x.observe(outputEl, {childList: true});\n",
       "}}\n",
       "\n",
       "                        })                };                });            </script>        </div>"
      ]
     },
     "metadata": {},
     "output_type": "display_data"
    }
   ],
   "source": [
    "# Crear el gráfico de dispersión con Plotly Express, agregando 'product_name' en hover_data\n",
    "fig = px.scatter(df_final, \n",
    "                 x='gmv_usd', \n",
    "                 y='penetration', \n",
    "                 color='Cluster_Label', \n",
    "                 title='Distribución de GMV y Penetración por Cluster',\n",
    "                 labels={'gmv_usd': 'GMV (USD)', 'penetration': 'Penetración'},\n",
    "                 hover_data=['product_name', 'gmv_usd', 'penetration'])\n",
    "\n",
    "# Mostrar la gráfica\n",
    "fig.show()"
   ]
  },
  {
   "cell_type": "code",
   "execution_count": 31,
   "metadata": {},
   "outputs": [
    {
     "data": {
      "text/html": [
       "<div>\n",
       "<style scoped>\n",
       "    .dataframe tbody tr th:only-of-type {\n",
       "        vertical-align: middle;\n",
       "    }\n",
       "\n",
       "    .dataframe tbody tr th {\n",
       "        vertical-align: top;\n",
       "    }\n",
       "\n",
       "    .dataframe thead th {\n",
       "        text-align: right;\n",
       "    }\n",
       "</style>\n",
       "<table border=\"1\" class=\"dataframe\">\n",
       "  <thead>\n",
       "    <tr style=\"text-align: right;\">\n",
       "      <th></th>\n",
       "      <th>Cluster_Label</th>\n",
       "      <th>gmv_usd</th>\n",
       "      <th>penetration</th>\n",
       "      <th>source_id</th>\n",
       "    </tr>\n",
       "  </thead>\n",
       "  <tbody>\n",
       "    <tr>\n",
       "      <th>0</th>\n",
       "      <td>KVI</td>\n",
       "      <td>3.080870e+06</td>\n",
       "      <td>9.815377</td>\n",
       "      <td>25</td>\n",
       "    </tr>\n",
       "    <tr>\n",
       "      <th>1</th>\n",
       "      <td>MID</td>\n",
       "      <td>3.849992e+06</td>\n",
       "      <td>5.526708</td>\n",
       "      <td>90</td>\n",
       "    </tr>\n",
       "    <tr>\n",
       "      <th>2</th>\n",
       "      <td>SUPER KVI</td>\n",
       "      <td>4.891165e+06</td>\n",
       "      <td>26.128135</td>\n",
       "      <td>8</td>\n",
       "    </tr>\n",
       "    <tr>\n",
       "      <th>3</th>\n",
       "      <td>TAIL</td>\n",
       "      <td>3.513994e+06</td>\n",
       "      <td>1.119838</td>\n",
       "      <td>858</td>\n",
       "    </tr>\n",
       "  </tbody>\n",
       "</table>\n",
       "</div>"
      ],
      "text/plain": [
       "  Cluster_Label       gmv_usd  penetration  source_id\n",
       "0           KVI  3.080870e+06     9.815377         25\n",
       "1           MID  3.849992e+06     5.526708         90\n",
       "2     SUPER KVI  4.891165e+06    26.128135          8\n",
       "3          TAIL  3.513994e+06     1.119838        858"
      ]
     },
     "execution_count": 31,
     "metadata": {},
     "output_type": "execute_result"
    }
   ],
   "source": [
    "result = df_final.groupby('Cluster_Label').agg({\n",
    "    'gmv_usd': np.sum,             # Suma total de GMV\n",
    "    'penetration': np.mean,        # Promedio de penetración\n",
    "    'source_id': pd.Series.nunique # Número de source_id únicos\n",
    "}).reset_index()\n",
    "\n",
    "result"
   ]
  }
 ],
 "metadata": {
  "kernelspec": {
   "display_name": "Python 3",
   "language": "python",
   "name": "python3"
  },
  "language_info": {
   "codemirror_mode": {
    "name": "ipython",
    "version": 3
   },
   "file_extension": ".py",
   "mimetype": "text/x-python",
   "name": "python",
   "nbconvert_exporter": "python",
   "pygments_lexer": "ipython3",
   "version": "3.7.9"
  }
 },
 "nbformat": 4,
 "nbformat_minor": 2
}
