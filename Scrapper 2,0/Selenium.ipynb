{
 "cells": [
  {
   "cell_type": "markdown",
   "metadata": {},
   "source": [
    "**Duración aproximada: 9 minutos**"
   ]
  },
  {
   "cell_type": "markdown",
   "metadata": {},
   "source": [
    "# Módulo 2: Scraping con Selenium\n",
    "## LATAM Airlines\n",
    "<a href=\"https://www.latam.com/es_ar/\"><img src=\"https://i.pinimg.com/originals/dd/52/74/dd5274702d1382d696caeb6e0f6980c5.png\"  width=\"420\"></img></a>\n",
    "<br>\n",
    "\n",
    "Vamos a scrapear el sitio de Latam para averiguar datos de vuelos en funcion el origen y destino, fecha y cabina. La información que esperamos obtener de cada vuelo es:\n",
    "- Precio(s) disponibles\n",
    "- Horas de salida, de llegada y duración\n",
    "- Información de las escalas\n",
    "\n",
    "¡Empecemos!"
   ]
  },
  {
   "cell_type": "markdown",
   "metadata": {},
   "source": [
    "# Clase 10\n",
    "Utilicemos lo aprendido hasta ahora para lograr el objetivo propuesto"
   ]
  },
  {
   "cell_type": "code",
   "execution_count": 1,
   "metadata": {},
   "outputs": [],
   "source": [
    "import requests\n",
    "from bs4 import BeautifulSoup"
   ]
  },
  {
   "cell_type": "code",
   "execution_count": 2,
   "metadata": {},
   "outputs": [],
   "source": [
    "url = 'https://www.latamairlines.com/es/es/ofertas-vuelos?origin=MAD&outbound=2023-04-21T12%3A00%3A00.000Z&destination=BOG&inbound=null&adt=1&chd=0&inf=0&trip=OW&cabin=Economy&redemption=false&sort=RECOMMENDED_A'\n",
    "r = requests.get(url)"
   ]
  },
  {
   "cell_type": "code",
   "execution_count": 3,
   "metadata": {},
   "outputs": [
    {
     "data": {
      "text/plain": [
       "200"
      ]
     },
     "execution_count": 3,
     "metadata": {},
     "output_type": "execute_result"
    }
   ],
   "source": [
    "r.status_code"
   ]
  },
  {
   "cell_type": "code",
   "execution_count": 4,
   "metadata": {
    "scrolled": true
   },
   "outputs": [],
   "source": [
    "s = BeautifulSoup(r.text, 'lxml')\n",
    "#print(s.prettify())"
   ]
  },
  {
   "cell_type": "markdown",
   "metadata": {},
   "source": [
    "Vemos que la respuesta de la página no contiene la información que buscamos, ya que la misma aparece recién después de ejecutar el código JavaSCript que está en la respuesta."
   ]
  },
  {
   "cell_type": "code",
   "execution_count": 5,
   "metadata": {},
   "outputs": [],
   "source": [
    "with open('latam.html', 'w') as f:\n",
    "    f.write(r.text)\n",
    "    f.close"
   ]
  },
  {
   "cell_type": "markdown",
   "metadata": {},
   "source": [
    "## Selenium"
   ]
  },
  {
   "cell_type": "markdown",
   "metadata": {},
   "source": [
    "Selenium es una herramienta que nos permitirá controlar un navegador y podremos utilizar las funcionalidades del motor de JavaScript para cargar el contenido que no viene en el HTML de la página. Para esto necesitamos el módulo `webdriver`."
   ]
  },
  {
   "cell_type": "code",
   "execution_count": 6,
   "metadata": {},
   "outputs": [],
   "source": [
    "from selenium import webdriver\n",
    "from webdriver_manager.chrome import ChromeDriverManager\n",
    "from selenium.webdriver.common.by import By\n",
    "import time"
   ]
  },
  {
   "cell_type": "markdown",
   "metadata": {},
   "source": [
    "Paso 1: instanciar un **driver** del navegador"
   ]
  },
  {
   "cell_type": "code",
   "execution_count": 7,
   "metadata": {},
   "outputs": [
    {
     "name": "stderr",
     "output_type": "stream",
     "text": [
      "C:\\Users\\andre\\AppData\\Local\\Temp\\ipykernel_15904\\698620076.py:3: DeprecationWarning: executable_path has been deprecated, please pass in a Service object\n",
      "  driver = webdriver.Chrome(ChromeDriverManager().install(), options = options)\n"
     ]
    }
   ],
   "source": [
    "options = webdriver.ChromeOptions()\n",
    "options.add_argument(\"--incognito\")\n",
    "driver = webdriver.Chrome(ChromeDriverManager().install(), options = options)"
   ]
  },
  {
   "cell_type": "markdown",
   "metadata": {},
   "source": [
    "Paso 2: hacer que el navegador cargue la página web."
   ]
  },
  {
   "cell_type": "code",
   "execution_count": 8,
   "metadata": {},
   "outputs": [],
   "source": [
    "driver.get(url)"
   ]
  },
  {
   "cell_type": "markdown",
   "metadata": {},
   "source": [
    "Paso 3: extraer la información de la página"
   ]
  },
  {
   "cell_type": "code",
   "execution_count": 29,
   "metadata": {},
   "outputs": [],
   "source": [
    "def obtener_precios(vuelo):\n",
    "    \"\"\"Funcion que retorna una lista de diccionarios con las distintas tarifas\"\"\"\n",
    "    #Abrir Apartado    \n",
    "    #vuelo.find_element(by =By.XPATH, value ='.//div[@role=\"button\"]').click()\n",
    "    \n",
    "    tarifas = vuelo.find_elements(by =By.XPATH, value ='.//ol[@class=\"sc-bCMXmc KIHXT\"]/li/*')\n",
    "\n",
    "    precios = []\n",
    "    for tarifa in tarifas:\n",
    "        nombre = tarifa.find_element(by =By.XPATH, value ='.//span[@class=\"sc-buGlAa goFssn\"]/..').text.replace('\\n',' ')\n",
    "        moneda = tarifa.find_elements(by =By.XPATH, value ='.//div[@class=\"sc-gCUMDz dqhYlE\"]/span/*')[1].text\n",
    "        valor = tarifa.find_elements(by =By.XPATH, value ='.//div[@class=\"sc-gCUMDz dqhYlE\"]/span/*')[0].text\n",
    "        \n",
    "        dict_tarifa = {nombre:{'moneda':moneda, 'valor':valor}}\n",
    "        precios.append(dict_tarifa)\n",
    "\n",
    "        #print(dict_tarifa) \n",
    "    \n",
    "    #vuelo.find_element(by =By.XPATH, value ='//button[@class=\"MuiButtonBase-root MuiButton-root MuiButton-text sc-kAzzGY jHprQs MuiButton-disableElevation\"]').click()\n",
    "    \n",
    "    return precios"
   ]
  },
  {
   "cell_type": "code",
   "execution_count": 10,
   "metadata": {},
   "outputs": [],
   "source": [
    "def obtener_tiempos(vuelo):\n",
    "   \"\"\"Función que a partir de un vuelo devuelve un diccionario con los tiempos\n",
    "      de cada viaje por escala\n",
    "   \"\"\"\n",
    "   tiempo_salida = vuelo.find_elements(by=By.XPATH, value='.//div[@class = \"sc-ckYZGd cjlufk flight-information\"]/span[@class = \"sc-dXLFzO kxrBKe\"]')[0].text\n",
    "   tiempo_llegada = vuelo.find_elements(by=By.XPATH, value='.//div[@class = \"sc-ckYZGd cjlufk flight-information\"]/span[@class = \"sc-dXLFzO kxrBKe\"]')[1].text \n",
    "   duracion = vuelo.find_element(by=By.XPATH, value='.//div[@class = \"sc-ckYZGd cjlufk flight-duration\"]/span[@class = \"sc-dAOnuy XwJVd\"]').text \n",
    "\n",
    "   info_tiempos = {'t_salida': tiempo_salida, 't_llegada': tiempo_llegada, 'duracion': duracion}\n",
    "    \n",
    "   return info_tiempos"
   ]
  },
  {
   "cell_type": "code",
   "execution_count": 11,
   "metadata": {},
   "outputs": [],
   "source": [
    "def obtener_datos_escalas(vuelo):\n",
    "    \"\"\"Funcion que retorna una lista de diccionarios con la informacion de las escalas de cada vuelo\"\"\"\n",
    "    \n",
    "    segmentos = vuelo.find_elements(by=By.XPATH, value = '//div[@class = \"MuiDialogContent-root sc-bZQynM hnBdls\"]//section[@class = \"sc-hqGPoI daKcNu\"]')\n",
    "    escalas = vuelo.find_elements(by=By.XPATH, value = '//div[@class = \"MuiDialogContent-root sc-bZQynM hnBdls\"]//section[@class = \"sc-hqGPoI dxlHTG\"]')\n",
    "    \n",
    "    info_escalas = []\n",
    "    for i,segmento in enumerate(segmentos):\n",
    "        #Info Vuelo\n",
    "        origen = segmento.find_elements(by=By.XPATH, value='.//div[@class = \"iataCode\"]/span')[0].text\n",
    "        \n",
    "        salida_origen = segmento.find_elements(by=By.XPATH, value='.//div[@class = \"iataCode\"]/span')[1].text\n",
    "        \n",
    "        destino = segmento.find_elements(by=By.XPATH, value='.//div[@class = \"iataCode\"]/span')[2].text\n",
    "        \n",
    "        llegada_destino = segmento.find_elements(by=By.XPATH, value='.//div[@class = \"iataCode\"]/span')[3].text\n",
    "        \n",
    "        duracion_vuelo_destino = segmento.find_elements(by=By.XPATH, value='.//span[@class=\"time\"]')[1].text\n",
    "        \n",
    "        #Info Avion\n",
    "        numero_vuelo = segmento.find_elements(by=By.XPATH, value='.//div[@class=\"sc-exdmVY hjDxso\"]/div')[0].text\n",
    "        modelo_avion_vuelo = segmento.find_elements(by=By.XPATH, value='.//div[@class=\"sc-exdmVY hjDxso\"]/span')[0].text    \n",
    "        \n",
    "        #Info Escalas\n",
    "        escala = \"Si\"\n",
    "        if i == len(segmentos)-1:\n",
    "            escala = \"No\"\n",
    "            duracion_escala_destino = None\n",
    "        else:\n",
    "            duracion_escala_destino = escalas[i].find_elements(by=By.XPATH, value='.//span[@class=\"time\"]')[0].text\n",
    "            \n",
    "        dict_vuelo = {f'vuelo_{i}':{'origen':origen,'hora_salida':salida_origen,'destino':destino,'hora_llegada':llegada_destino,'duracion_vuelo':duracion_vuelo_destino,\n",
    "                                    'numero_vuelo':numero_vuelo,'modelo':modelo_avion_vuelo,'escala': escala,'duracion_escala':duracion_escala_destino}}\n",
    "        \n",
    "        #print(dict_vuelo)\n",
    "        info_escalas.append(dict_vuelo)\n",
    "        \n",
    "    #Cerrar Apartado\n",
    "    #vuelo.find_element(by =By.XPATH, value ='//button[@class = \"MuiButtonBase-root MuiIconButton-root sc-ifAKCX kdVmSh Dialog__CloseButton Dialog__CloseButton--titled\"]').click()    \n",
    "    \n",
    "    return info_escalas"
   ]
  },
  {
   "cell_type": "code",
   "execution_count": 31,
   "metadata": {},
   "outputs": [],
   "source": [
    "def obtener_info(driver):\n",
    "    \n",
    "    vuelos = driver.find_elements(by=By.XPATH,value='//li[@class=\"sc-bvTASY cfqKKq\"]')\n",
    "    print(f'Se encontraron {len(vuelos)} vuelos.')\n",
    "    print('Iniciando Scraping...')\n",
    "    \n",
    "    info = []\n",
    "    for i,vuelo in enumerate(vuelos):\n",
    "        #obtenemos los tiempos generados en cada vuelo\n",
    "        tiempos = obtener_tiempos(vuelo)\n",
    "        \n",
    "        #Abrir Apartado    \n",
    "        vuelo.find_element(by =By.XPATH, value ='.//div[@role=\"button\"]').click()\n",
    "        time.sleep(2)\n",
    "        #obtenemos la informacion de los precios\n",
    "        precios = obtener_precios(vuelo)    \n",
    "        #Cerrar Apartado\n",
    "        vuelo.find_element(by =By.XPATH, value ='//button[@class=\"MuiButtonBase-root MuiButton-root MuiButton-text sc-kAzzGY jHprQs MuiButton-disableElevation\"]').click()\n",
    "        time.sleep(2)\n",
    "        \n",
    "        #Abrir Apartado\n",
    "        vuelo.find_element(by =By.XPATH, value =f'.//div[@class = \"sc-dOkuiw flITYG\"]/a').click()\n",
    "        time.sleep(4)\n",
    "        #obtenemos la infirnmacion de las escalas\n",
    "        escalas = obtener_datos_escalas(vuelo)\n",
    "        #Cerrar Apartado\n",
    "        vuelo.find_element(by =By.XPATH, value ='//button[@class = \"MuiButtonBase-root MuiIconButton-root sc-ifAKCX kdVmSh Dialog__CloseButton Dialog__CloseButton--titled\"]').click()\n",
    "        time.sleep(2)\n",
    "        \n",
    "        info.append({'precios':precios,'tiempo':tiempos, 'escalas':escalas})\n",
    "        print(i)\n",
    "    return info"
   ]
  },
  {
   "cell_type": "code",
   "execution_count": null,
   "metadata": {},
   "outputs": [],
   "source": [
    "vuelo.find_element(by =By.XPATH, value =f'.//div[@class = \"sc-dOkuiw flITYG\"]/a').click()"
   ]
  },
  {
   "attachments": {},
   "cell_type": "markdown",
   "metadata": {},
   "source": [
    "For the moment we should accept cookies before running the whole script"
   ]
  },
  {
   "cell_type": "code",
   "execution_count": 32,
   "metadata": {},
   "outputs": [
    {
     "name": "stdout",
     "output_type": "stream",
     "text": [
      "Se encontraron 7 vuelos.\n",
      "Iniciando Scraping...\n",
      "0\n",
      "1\n",
      "2\n",
      "3\n",
      "4\n",
      "5\n",
      "6\n"
     ]
    }
   ],
   "source": [
    "a = obtener_info(driver)"
   ]
  },
  {
   "cell_type": "code",
   "execution_count": 33,
   "metadata": {},
   "outputs": [
    {
     "data": {
      "text/plain": [
       "{'precios': [{'plus': {'moneda': 'EUR', 'valor': '424,12'}},\n",
       "  {'plus Premium Business': {'moneda': 'EUR', 'valor': '1468,12'}},\n",
       "  {'top Premium Business': {'moneda': 'EUR', 'valor': '3381,12'}}],\n",
       " 'tiempo': {'t_salida': '12:05',\n",
       "  't_llegada': '20:45',\n",
       "  'duracion': '15 h 40 min'},\n",
       " 'escalas': [{'vuelo_0': {'origen': 'MAD',\n",
       "    'hora_salida': '12:05',\n",
       "    'destino': 'UIO',\n",
       "    'hora_llegada': '16:15',\n",
       "    'duracion_vuelo': '11 h 10 min',\n",
       "    'numero_vuelo': 'LA5425',\n",
       "    'modelo': 'Airbus A350-900',\n",
       "    'escala': 'Si',\n",
       "    'duracion_escala': '2 h 49 min'}},\n",
       "  {'vuelo_1': {'origen': 'UIO',\n",
       "    'hora_salida': '19:04',\n",
       "    'destino': 'BOG',\n",
       "    'hora_llegada': '20:45',\n",
       "    'duracion_vuelo': '1 h 41 min',\n",
       "    'numero_vuelo': 'LA1442*',\n",
       "    'modelo': 'Airbus A319',\n",
       "    'escala': 'No',\n",
       "    'duracion_escala': None}}]}"
      ]
     },
     "execution_count": 33,
     "metadata": {},
     "output_type": "execute_result"
    }
   ],
   "source": [
    "a[3]"
   ]
  },
  {
   "cell_type": "markdown",
   "metadata": {},
   "source": [
    "Paso 4: cerrar el navegador"
   ]
  },
  {
   "cell_type": "code",
   "execution_count": 34,
   "metadata": {},
   "outputs": [],
   "source": [
    "driver.close()"
   ]
  }
 ],
 "metadata": {
  "kernelspec": {
   "display_name": "Python 3",
   "language": "python",
   "name": "python3"
  },
  "language_info": {
   "codemirror_mode": {
    "name": "ipython",
    "version": 3
   },
   "file_extension": ".py",
   "mimetype": "text/x-python",
   "name": "python",
   "nbconvert_exporter": "python",
   "pygments_lexer": "ipython3",
   "version": "3.10.9"
  },
  "vscode": {
   "interpreter": {
    "hash": "624741679a3ae5d99cecf49b8df5d516a7a937e6e7328e129d1fa121c8592e26"
   }
  }
 },
 "nbformat": 4,
 "nbformat_minor": 2
}
